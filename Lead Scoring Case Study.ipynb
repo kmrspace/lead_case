{
 "cells": [
  {
   "cell_type": "markdown",
   "metadata": {},
   "source": [
    "## Lead Scoring Case Study\n",
    "\n",
    "The company requires a model that will assign a lead score to each of the leads such that the customers with higher lead score have a higher conversion chance and the customers with lower lead score have a lower conversion chance."
   ]
  },
  {
   "cell_type": "markdown",
   "metadata": {},
   "source": [
    "### Step 1: Importing Dataset"
   ]
  },
  {
   "cell_type": "code",
   "execution_count": 601,
   "metadata": {},
   "outputs": [],
   "source": [
    "# Suppressing Warnings\n",
    "import warnings\n",
    "warnings.filterwarnings('ignore')"
   ]
  },
  {
   "cell_type": "code",
   "execution_count": 602,
   "metadata": {},
   "outputs": [],
   "source": [
    "# Importing Pandas and NumPy\n",
    "import pandas as pd, numpy as np\n",
    "import matplotlib.pyplot as plt\n",
    "import seaborn as sns"
   ]
  },
  {
   "cell_type": "code",
   "execution_count": 603,
   "metadata": {},
   "outputs": [
    {
     "data": {
      "text/html": [
       "<div>\n",
       "<style scoped>\n",
       "    .dataframe tbody tr th:only-of-type {\n",
       "        vertical-align: middle;\n",
       "    }\n",
       "\n",
       "    .dataframe tbody tr th {\n",
       "        vertical-align: top;\n",
       "    }\n",
       "\n",
       "    .dataframe thead th {\n",
       "        text-align: right;\n",
       "    }\n",
       "</style>\n",
       "<table border=\"1\" class=\"dataframe\">\n",
       "  <thead>\n",
       "    <tr style=\"text-align: right;\">\n",
       "      <th></th>\n",
       "      <th>Prospect ID</th>\n",
       "      <th>Lead Number</th>\n",
       "      <th>Lead Origin</th>\n",
       "      <th>Lead Source</th>\n",
       "      <th>Do Not Email</th>\n",
       "      <th>Do Not Call</th>\n",
       "      <th>Converted</th>\n",
       "      <th>TotalVisits</th>\n",
       "      <th>Total Time Spent on Website</th>\n",
       "      <th>Page Views Per Visit</th>\n",
       "      <th>...</th>\n",
       "      <th>Get updates on DM Content</th>\n",
       "      <th>Lead Profile</th>\n",
       "      <th>City</th>\n",
       "      <th>Asymmetrique Activity Index</th>\n",
       "      <th>Asymmetrique Profile Index</th>\n",
       "      <th>Asymmetrique Activity Score</th>\n",
       "      <th>Asymmetrique Profile Score</th>\n",
       "      <th>I agree to pay the amount through cheque</th>\n",
       "      <th>A free copy of Mastering The Interview</th>\n",
       "      <th>Last Notable Activity</th>\n",
       "    </tr>\n",
       "  </thead>\n",
       "  <tbody>\n",
       "    <tr>\n",
       "      <th>0</th>\n",
       "      <td>7927b2df-8bba-4d29-b9a2-b6e0beafe620</td>\n",
       "      <td>660737</td>\n",
       "      <td>API</td>\n",
       "      <td>Olark Chat</td>\n",
       "      <td>No</td>\n",
       "      <td>No</td>\n",
       "      <td>0</td>\n",
       "      <td>0.0</td>\n",
       "      <td>0</td>\n",
       "      <td>0.0</td>\n",
       "      <td>...</td>\n",
       "      <td>No</td>\n",
       "      <td>Select</td>\n",
       "      <td>Select</td>\n",
       "      <td>02.Medium</td>\n",
       "      <td>02.Medium</td>\n",
       "      <td>15.0</td>\n",
       "      <td>15.0</td>\n",
       "      <td>No</td>\n",
       "      <td>No</td>\n",
       "      <td>Modified</td>\n",
       "    </tr>\n",
       "    <tr>\n",
       "      <th>1</th>\n",
       "      <td>2a272436-5132-4136-86fa-dcc88c88f482</td>\n",
       "      <td>660728</td>\n",
       "      <td>API</td>\n",
       "      <td>Organic Search</td>\n",
       "      <td>No</td>\n",
       "      <td>No</td>\n",
       "      <td>0</td>\n",
       "      <td>5.0</td>\n",
       "      <td>674</td>\n",
       "      <td>2.5</td>\n",
       "      <td>...</td>\n",
       "      <td>No</td>\n",
       "      <td>Select</td>\n",
       "      <td>Select</td>\n",
       "      <td>02.Medium</td>\n",
       "      <td>02.Medium</td>\n",
       "      <td>15.0</td>\n",
       "      <td>15.0</td>\n",
       "      <td>No</td>\n",
       "      <td>No</td>\n",
       "      <td>Email Opened</td>\n",
       "    </tr>\n",
       "    <tr>\n",
       "      <th>2</th>\n",
       "      <td>8cc8c611-a219-4f35-ad23-fdfd2656bd8a</td>\n",
       "      <td>660727</td>\n",
       "      <td>Landing Page Submission</td>\n",
       "      <td>Direct Traffic</td>\n",
       "      <td>No</td>\n",
       "      <td>No</td>\n",
       "      <td>1</td>\n",
       "      <td>2.0</td>\n",
       "      <td>1532</td>\n",
       "      <td>2.0</td>\n",
       "      <td>...</td>\n",
       "      <td>No</td>\n",
       "      <td>Potential Lead</td>\n",
       "      <td>Mumbai</td>\n",
       "      <td>02.Medium</td>\n",
       "      <td>01.High</td>\n",
       "      <td>14.0</td>\n",
       "      <td>20.0</td>\n",
       "      <td>No</td>\n",
       "      <td>Yes</td>\n",
       "      <td>Email Opened</td>\n",
       "    </tr>\n",
       "    <tr>\n",
       "      <th>3</th>\n",
       "      <td>0cc2df48-7cf4-4e39-9de9-19797f9b38cc</td>\n",
       "      <td>660719</td>\n",
       "      <td>Landing Page Submission</td>\n",
       "      <td>Direct Traffic</td>\n",
       "      <td>No</td>\n",
       "      <td>No</td>\n",
       "      <td>0</td>\n",
       "      <td>1.0</td>\n",
       "      <td>305</td>\n",
       "      <td>1.0</td>\n",
       "      <td>...</td>\n",
       "      <td>No</td>\n",
       "      <td>Select</td>\n",
       "      <td>Mumbai</td>\n",
       "      <td>02.Medium</td>\n",
       "      <td>01.High</td>\n",
       "      <td>13.0</td>\n",
       "      <td>17.0</td>\n",
       "      <td>No</td>\n",
       "      <td>No</td>\n",
       "      <td>Modified</td>\n",
       "    </tr>\n",
       "    <tr>\n",
       "      <th>4</th>\n",
       "      <td>3256f628-e534-4826-9d63-4a8b88782852</td>\n",
       "      <td>660681</td>\n",
       "      <td>Landing Page Submission</td>\n",
       "      <td>Google</td>\n",
       "      <td>No</td>\n",
       "      <td>No</td>\n",
       "      <td>1</td>\n",
       "      <td>2.0</td>\n",
       "      <td>1428</td>\n",
       "      <td>1.0</td>\n",
       "      <td>...</td>\n",
       "      <td>No</td>\n",
       "      <td>Select</td>\n",
       "      <td>Mumbai</td>\n",
       "      <td>02.Medium</td>\n",
       "      <td>01.High</td>\n",
       "      <td>15.0</td>\n",
       "      <td>18.0</td>\n",
       "      <td>No</td>\n",
       "      <td>No</td>\n",
       "      <td>Modified</td>\n",
       "    </tr>\n",
       "  </tbody>\n",
       "</table>\n",
       "<p>5 rows × 37 columns</p>\n",
       "</div>"
      ],
      "text/plain": [
       "                            Prospect ID  Lead Number              Lead Origin  \\\n",
       "0  7927b2df-8bba-4d29-b9a2-b6e0beafe620       660737                      API   \n",
       "1  2a272436-5132-4136-86fa-dcc88c88f482       660728                      API   \n",
       "2  8cc8c611-a219-4f35-ad23-fdfd2656bd8a       660727  Landing Page Submission   \n",
       "3  0cc2df48-7cf4-4e39-9de9-19797f9b38cc       660719  Landing Page Submission   \n",
       "4  3256f628-e534-4826-9d63-4a8b88782852       660681  Landing Page Submission   \n",
       "\n",
       "      Lead Source Do Not Email Do Not Call  Converted  TotalVisits  \\\n",
       "0      Olark Chat           No          No          0          0.0   \n",
       "1  Organic Search           No          No          0          5.0   \n",
       "2  Direct Traffic           No          No          1          2.0   \n",
       "3  Direct Traffic           No          No          0          1.0   \n",
       "4          Google           No          No          1          2.0   \n",
       "\n",
       "   Total Time Spent on Website  Page Views Per Visit  ...  \\\n",
       "0                            0                   0.0  ...   \n",
       "1                          674                   2.5  ...   \n",
       "2                         1532                   2.0  ...   \n",
       "3                          305                   1.0  ...   \n",
       "4                         1428                   1.0  ...   \n",
       "\n",
       "  Get updates on DM Content    Lead Profile    City  \\\n",
       "0                        No          Select  Select   \n",
       "1                        No          Select  Select   \n",
       "2                        No  Potential Lead  Mumbai   \n",
       "3                        No          Select  Mumbai   \n",
       "4                        No          Select  Mumbai   \n",
       "\n",
       "  Asymmetrique Activity Index Asymmetrique Profile Index  \\\n",
       "0                   02.Medium                  02.Medium   \n",
       "1                   02.Medium                  02.Medium   \n",
       "2                   02.Medium                    01.High   \n",
       "3                   02.Medium                    01.High   \n",
       "4                   02.Medium                    01.High   \n",
       "\n",
       "  Asymmetrique Activity Score Asymmetrique Profile Score  \\\n",
       "0                        15.0                       15.0   \n",
       "1                        15.0                       15.0   \n",
       "2                        14.0                       20.0   \n",
       "3                        13.0                       17.0   \n",
       "4                        15.0                       18.0   \n",
       "\n",
       "  I agree to pay the amount through cheque  \\\n",
       "0                                       No   \n",
       "1                                       No   \n",
       "2                                       No   \n",
       "3                                       No   \n",
       "4                                       No   \n",
       "\n",
       "  A free copy of Mastering The Interview Last Notable Activity  \n",
       "0                                     No              Modified  \n",
       "1                                     No          Email Opened  \n",
       "2                                    Yes          Email Opened  \n",
       "3                                     No              Modified  \n",
       "4                                     No              Modified  \n",
       "\n",
       "[5 rows x 37 columns]"
      ]
     },
     "execution_count": 603,
     "metadata": {},
     "output_type": "execute_result"
    }
   ],
   "source": [
    "#Lead score\n",
    "leads= pd.read_csv(\"Leads.csv\")\n",
    "leads.head()"
   ]
  },
  {
   "cell_type": "markdown",
   "metadata": {},
   "source": [
    "### Step 2: Inspecting the Dataframe"
   ]
  },
  {
   "cell_type": "code",
   "execution_count": 604,
   "metadata": {},
   "outputs": [
    {
     "data": {
      "text/html": [
       "<div>\n",
       "<style scoped>\n",
       "    .dataframe tbody tr th:only-of-type {\n",
       "        vertical-align: middle;\n",
       "    }\n",
       "\n",
       "    .dataframe tbody tr th {\n",
       "        vertical-align: top;\n",
       "    }\n",
       "\n",
       "    .dataframe thead th {\n",
       "        text-align: right;\n",
       "    }\n",
       "</style>\n",
       "<table border=\"1\" class=\"dataframe\">\n",
       "  <thead>\n",
       "    <tr style=\"text-align: right;\">\n",
       "      <th></th>\n",
       "      <th>Prospect ID</th>\n",
       "      <th>Lead Number</th>\n",
       "      <th>Lead Origin</th>\n",
       "      <th>Lead Source</th>\n",
       "      <th>Do Not Email</th>\n",
       "      <th>Do Not Call</th>\n",
       "      <th>Converted</th>\n",
       "      <th>TotalVisits</th>\n",
       "      <th>Total Time Spent on Website</th>\n",
       "      <th>Page Views Per Visit</th>\n",
       "      <th>...</th>\n",
       "      <th>Get updates on DM Content</th>\n",
       "      <th>Lead Profile</th>\n",
       "      <th>City</th>\n",
       "      <th>Asymmetrique Activity Index</th>\n",
       "      <th>Asymmetrique Profile Index</th>\n",
       "      <th>Asymmetrique Activity Score</th>\n",
       "      <th>Asymmetrique Profile Score</th>\n",
       "      <th>I agree to pay the amount through cheque</th>\n",
       "      <th>A free copy of Mastering The Interview</th>\n",
       "      <th>Last Notable Activity</th>\n",
       "    </tr>\n",
       "  </thead>\n",
       "  <tbody>\n",
       "    <tr>\n",
       "      <th>0</th>\n",
       "      <td>7927b2df-8bba-4d29-b9a2-b6e0beafe620</td>\n",
       "      <td>660737</td>\n",
       "      <td>API</td>\n",
       "      <td>Olark Chat</td>\n",
       "      <td>No</td>\n",
       "      <td>No</td>\n",
       "      <td>0</td>\n",
       "      <td>0.0</td>\n",
       "      <td>0</td>\n",
       "      <td>0.0</td>\n",
       "      <td>...</td>\n",
       "      <td>No</td>\n",
       "      <td>Select</td>\n",
       "      <td>Select</td>\n",
       "      <td>02.Medium</td>\n",
       "      <td>02.Medium</td>\n",
       "      <td>15.0</td>\n",
       "      <td>15.0</td>\n",
       "      <td>No</td>\n",
       "      <td>No</td>\n",
       "      <td>Modified</td>\n",
       "    </tr>\n",
       "    <tr>\n",
       "      <th>1</th>\n",
       "      <td>2a272436-5132-4136-86fa-dcc88c88f482</td>\n",
       "      <td>660728</td>\n",
       "      <td>API</td>\n",
       "      <td>Organic Search</td>\n",
       "      <td>No</td>\n",
       "      <td>No</td>\n",
       "      <td>0</td>\n",
       "      <td>5.0</td>\n",
       "      <td>674</td>\n",
       "      <td>2.5</td>\n",
       "      <td>...</td>\n",
       "      <td>No</td>\n",
       "      <td>Select</td>\n",
       "      <td>Select</td>\n",
       "      <td>02.Medium</td>\n",
       "      <td>02.Medium</td>\n",
       "      <td>15.0</td>\n",
       "      <td>15.0</td>\n",
       "      <td>No</td>\n",
       "      <td>No</td>\n",
       "      <td>Email Opened</td>\n",
       "    </tr>\n",
       "    <tr>\n",
       "      <th>2</th>\n",
       "      <td>8cc8c611-a219-4f35-ad23-fdfd2656bd8a</td>\n",
       "      <td>660727</td>\n",
       "      <td>Landing Page Submission</td>\n",
       "      <td>Direct Traffic</td>\n",
       "      <td>No</td>\n",
       "      <td>No</td>\n",
       "      <td>1</td>\n",
       "      <td>2.0</td>\n",
       "      <td>1532</td>\n",
       "      <td>2.0</td>\n",
       "      <td>...</td>\n",
       "      <td>No</td>\n",
       "      <td>Potential Lead</td>\n",
       "      <td>Mumbai</td>\n",
       "      <td>02.Medium</td>\n",
       "      <td>01.High</td>\n",
       "      <td>14.0</td>\n",
       "      <td>20.0</td>\n",
       "      <td>No</td>\n",
       "      <td>Yes</td>\n",
       "      <td>Email Opened</td>\n",
       "    </tr>\n",
       "    <tr>\n",
       "      <th>3</th>\n",
       "      <td>0cc2df48-7cf4-4e39-9de9-19797f9b38cc</td>\n",
       "      <td>660719</td>\n",
       "      <td>Landing Page Submission</td>\n",
       "      <td>Direct Traffic</td>\n",
       "      <td>No</td>\n",
       "      <td>No</td>\n",
       "      <td>0</td>\n",
       "      <td>1.0</td>\n",
       "      <td>305</td>\n",
       "      <td>1.0</td>\n",
       "      <td>...</td>\n",
       "      <td>No</td>\n",
       "      <td>Select</td>\n",
       "      <td>Mumbai</td>\n",
       "      <td>02.Medium</td>\n",
       "      <td>01.High</td>\n",
       "      <td>13.0</td>\n",
       "      <td>17.0</td>\n",
       "      <td>No</td>\n",
       "      <td>No</td>\n",
       "      <td>Modified</td>\n",
       "    </tr>\n",
       "    <tr>\n",
       "      <th>4</th>\n",
       "      <td>3256f628-e534-4826-9d63-4a8b88782852</td>\n",
       "      <td>660681</td>\n",
       "      <td>Landing Page Submission</td>\n",
       "      <td>Google</td>\n",
       "      <td>No</td>\n",
       "      <td>No</td>\n",
       "      <td>1</td>\n",
       "      <td>2.0</td>\n",
       "      <td>1428</td>\n",
       "      <td>1.0</td>\n",
       "      <td>...</td>\n",
       "      <td>No</td>\n",
       "      <td>Select</td>\n",
       "      <td>Mumbai</td>\n",
       "      <td>02.Medium</td>\n",
       "      <td>01.High</td>\n",
       "      <td>15.0</td>\n",
       "      <td>18.0</td>\n",
       "      <td>No</td>\n",
       "      <td>No</td>\n",
       "      <td>Modified</td>\n",
       "    </tr>\n",
       "  </tbody>\n",
       "</table>\n",
       "<p>5 rows × 37 columns</p>\n",
       "</div>"
      ],
      "text/plain": [
       "                            Prospect ID  Lead Number              Lead Origin  \\\n",
       "0  7927b2df-8bba-4d29-b9a2-b6e0beafe620       660737                      API   \n",
       "1  2a272436-5132-4136-86fa-dcc88c88f482       660728                      API   \n",
       "2  8cc8c611-a219-4f35-ad23-fdfd2656bd8a       660727  Landing Page Submission   \n",
       "3  0cc2df48-7cf4-4e39-9de9-19797f9b38cc       660719  Landing Page Submission   \n",
       "4  3256f628-e534-4826-9d63-4a8b88782852       660681  Landing Page Submission   \n",
       "\n",
       "      Lead Source Do Not Email Do Not Call  Converted  TotalVisits  \\\n",
       "0      Olark Chat           No          No          0          0.0   \n",
       "1  Organic Search           No          No          0          5.0   \n",
       "2  Direct Traffic           No          No          1          2.0   \n",
       "3  Direct Traffic           No          No          0          1.0   \n",
       "4          Google           No          No          1          2.0   \n",
       "\n",
       "   Total Time Spent on Website  Page Views Per Visit  ...  \\\n",
       "0                            0                   0.0  ...   \n",
       "1                          674                   2.5  ...   \n",
       "2                         1532                   2.0  ...   \n",
       "3                          305                   1.0  ...   \n",
       "4                         1428                   1.0  ...   \n",
       "\n",
       "  Get updates on DM Content    Lead Profile    City  \\\n",
       "0                        No          Select  Select   \n",
       "1                        No          Select  Select   \n",
       "2                        No  Potential Lead  Mumbai   \n",
       "3                        No          Select  Mumbai   \n",
       "4                        No          Select  Mumbai   \n",
       "\n",
       "  Asymmetrique Activity Index Asymmetrique Profile Index  \\\n",
       "0                   02.Medium                  02.Medium   \n",
       "1                   02.Medium                  02.Medium   \n",
       "2                   02.Medium                    01.High   \n",
       "3                   02.Medium                    01.High   \n",
       "4                   02.Medium                    01.High   \n",
       "\n",
       "  Asymmetrique Activity Score Asymmetrique Profile Score  \\\n",
       "0                        15.0                       15.0   \n",
       "1                        15.0                       15.0   \n",
       "2                        14.0                       20.0   \n",
       "3                        13.0                       17.0   \n",
       "4                        15.0                       18.0   \n",
       "\n",
       "  I agree to pay the amount through cheque  \\\n",
       "0                                       No   \n",
       "1                                       No   \n",
       "2                                       No   \n",
       "3                                       No   \n",
       "4                                       No   \n",
       "\n",
       "  A free copy of Mastering The Interview Last Notable Activity  \n",
       "0                                     No              Modified  \n",
       "1                                     No          Email Opened  \n",
       "2                                    Yes          Email Opened  \n",
       "3                                     No              Modified  \n",
       "4                                     No              Modified  \n",
       "\n",
       "[5 rows x 37 columns]"
      ]
     },
     "execution_count": 604,
     "metadata": {},
     "output_type": "execute_result"
    }
   ],
   "source": [
    "# Let's see the head of our master dataset\n",
    "leads.head()"
   ]
  },
  {
   "cell_type": "code",
   "execution_count": 605,
   "metadata": {},
   "outputs": [
    {
     "data": {
      "text/plain": [
       "(9240, 37)"
      ]
     },
     "execution_count": 605,
     "metadata": {},
     "output_type": "execute_result"
    }
   ],
   "source": [
    "# Let's check the dimensions of the dataframe\n",
    "leads.shape"
   ]
  },
  {
   "cell_type": "code",
   "execution_count": 606,
   "metadata": {},
   "outputs": [
    {
     "name": "stdout",
     "output_type": "stream",
     "text": [
      "<class 'pandas.core.frame.DataFrame'>\n",
      "RangeIndex: 9240 entries, 0 to 9239\n",
      "Data columns (total 37 columns):\n",
      " #   Column                                         Non-Null Count  Dtype  \n",
      "---  ------                                         --------------  -----  \n",
      " 0   Prospect ID                                    9240 non-null   object \n",
      " 1   Lead Number                                    9240 non-null   int64  \n",
      " 2   Lead Origin                                    9240 non-null   object \n",
      " 3   Lead Source                                    9204 non-null   object \n",
      " 4   Do Not Email                                   9240 non-null   object \n",
      " 5   Do Not Call                                    9240 non-null   object \n",
      " 6   Converted                                      9240 non-null   int64  \n",
      " 7   TotalVisits                                    9103 non-null   float64\n",
      " 8   Total Time Spent on Website                    9240 non-null   int64  \n",
      " 9   Page Views Per Visit                           9103 non-null   float64\n",
      " 10  Last Activity                                  9137 non-null   object \n",
      " 11  Country                                        6779 non-null   object \n",
      " 12  Specialization                                 7802 non-null   object \n",
      " 13  How did you hear about X Education             7033 non-null   object \n",
      " 14  What is your current occupation                6550 non-null   object \n",
      " 15  What matters most to you in choosing a course  6531 non-null   object \n",
      " 16  Search                                         9240 non-null   object \n",
      " 17  Magazine                                       9240 non-null   object \n",
      " 18  Newspaper Article                              9240 non-null   object \n",
      " 19  X Education Forums                             9240 non-null   object \n",
      " 20  Newspaper                                      9240 non-null   object \n",
      " 21  Digital Advertisement                          9240 non-null   object \n",
      " 22  Through Recommendations                        9240 non-null   object \n",
      " 23  Receive More Updates About Our Courses         9240 non-null   object \n",
      " 24  Tags                                           5887 non-null   object \n",
      " 25  Lead Quality                                   4473 non-null   object \n",
      " 26  Update me on Supply Chain Content              9240 non-null   object \n",
      " 27  Get updates on DM Content                      9240 non-null   object \n",
      " 28  Lead Profile                                   6531 non-null   object \n",
      " 29  City                                           7820 non-null   object \n",
      " 30  Asymmetrique Activity Index                    5022 non-null   object \n",
      " 31  Asymmetrique Profile Index                     5022 non-null   object \n",
      " 32  Asymmetrique Activity Score                    5022 non-null   float64\n",
      " 33  Asymmetrique Profile Score                     5022 non-null   float64\n",
      " 34  I agree to pay the amount through cheque       9240 non-null   object \n",
      " 35  A free copy of Mastering The Interview         9240 non-null   object \n",
      " 36  Last Notable Activity                          9240 non-null   object \n",
      "dtypes: float64(4), int64(3), object(30)\n",
      "memory usage: 2.6+ MB\n"
     ]
    }
   ],
   "source": [
    "leads.info()"
   ]
  },
  {
   "cell_type": "code",
   "execution_count": 607,
   "metadata": {},
   "outputs": [
    {
     "data": {
      "text/plain": [
       "0"
      ]
     },
     "execution_count": 607,
     "metadata": {},
     "output_type": "execute_result"
    }
   ],
   "source": [
    "#check for duplicates\n",
    "sum(leads.duplicated(subset = 'Prospect ID')) "
   ]
  },
  {
   "cell_type": "code",
   "execution_count": 608,
   "metadata": {},
   "outputs": [
    {
     "data": {
      "text/plain": [
       "0"
      ]
     },
     "execution_count": 608,
     "metadata": {},
     "output_type": "execute_result"
    }
   ],
   "source": [
    "#check for duplicates\n",
    "sum(leads.duplicated(subset = 'Lead Number')) "
   ]
  },
  {
   "cell_type": "code",
   "execution_count": 609,
   "metadata": {},
   "outputs": [],
   "source": [
    "## Drop Prospect ID and Lead Number as they are not relevant features and are unique"
   ]
  },
  {
   "cell_type": "code",
   "execution_count": 610,
   "metadata": {},
   "outputs": [],
   "source": [
    "leads.drop(['Prospect ID', 'Lead Number'], 1, inplace = True)"
   ]
  },
  {
   "cell_type": "code",
   "execution_count": 611,
   "metadata": {},
   "outputs": [],
   "source": [
    "#Converting 'Select' values to Null as Select indicates customer has not selected any value.\n",
    "\n",
    "leads = leads_data.replace('Select', np.nan)"
   ]
  },
  {
   "cell_type": "code",
   "execution_count": 612,
   "metadata": {},
   "outputs": [
    {
     "data": {
      "text/plain": [
       "Lead Origin                                         0\n",
       "Lead Source                                        36\n",
       "Do Not Email                                        0\n",
       "Do Not Call                                         0\n",
       "Converted                                           0\n",
       "TotalVisits                                       137\n",
       "Total Time Spent on Website                         0\n",
       "Page Views Per Visit                              137\n",
       "Last Activity                                     103\n",
       "Country                                          2461\n",
       "Specialization                                   3380\n",
       "How did you hear about X Education               7250\n",
       "What is your current occupation                  2690\n",
       "What matters most to you in choosing a course    2709\n",
       "Search                                              0\n",
       "Magazine                                            0\n",
       "Newspaper Article                                   0\n",
       "X Education Forums                                  0\n",
       "Newspaper                                           0\n",
       "Digital Advertisement                               0\n",
       "Through Recommendations                             0\n",
       "Receive More Updates About Our Courses              0\n",
       "Tags                                             3353\n",
       "Lead Quality                                     4767\n",
       "Update me on Supply Chain Content                   0\n",
       "Get updates on DM Content                           0\n",
       "Lead Profile                                     6855\n",
       "City                                             3669\n",
       "Asymmetrique Activity Index                      4218\n",
       "Asymmetrique Profile Index                       4218\n",
       "Asymmetrique Activity Score                      4218\n",
       "Asymmetrique Profile Score                       4218\n",
       "I agree to pay the amount through cheque            0\n",
       "A free copy of Mastering The Interview              0\n",
       "Last Notable Activity                               0\n",
       "dtype: int64"
      ]
     },
     "execution_count": 612,
     "metadata": {},
     "output_type": "execute_result"
    }
   ],
   "source": [
    "#checking null values in each rows\n",
    "\n",
    "leads.isnull().sum()"
   ]
  },
  {
   "cell_type": "code",
   "execution_count": 613,
   "metadata": {},
   "outputs": [
    {
     "data": {
      "text/plain": [
       "Lead Origin                                       0.00\n",
       "Lead Source                                       0.39\n",
       "Do Not Email                                      0.00\n",
       "Do Not Call                                       0.00\n",
       "Converted                                         0.00\n",
       "TotalVisits                                       1.48\n",
       "Total Time Spent on Website                       0.00\n",
       "Page Views Per Visit                              1.48\n",
       "Last Activity                                     1.11\n",
       "Country                                          26.63\n",
       "Specialization                                   36.58\n",
       "How did you hear about X Education               78.46\n",
       "What is your current occupation                  29.11\n",
       "What matters most to you in choosing a course    29.32\n",
       "Search                                            0.00\n",
       "Magazine                                          0.00\n",
       "Newspaper Article                                 0.00\n",
       "X Education Forums                                0.00\n",
       "Newspaper                                         0.00\n",
       "Digital Advertisement                             0.00\n",
       "Through Recommendations                           0.00\n",
       "Receive More Updates About Our Courses            0.00\n",
       "Tags                                             36.29\n",
       "Lead Quality                                     51.59\n",
       "Update me on Supply Chain Content                 0.00\n",
       "Get updates on DM Content                         0.00\n",
       "Lead Profile                                     74.19\n",
       "City                                             39.71\n",
       "Asymmetrique Activity Index                      45.65\n",
       "Asymmetrique Profile Index                       45.65\n",
       "Asymmetrique Activity Score                      45.65\n",
       "Asymmetrique Profile Score                       45.65\n",
       "I agree to pay the amount through cheque          0.00\n",
       "A free copy of Mastering The Interview            0.00\n",
       "Last Notable Activity                             0.00\n",
       "dtype: float64"
      ]
     },
     "execution_count": 613,
     "metadata": {},
     "output_type": "execute_result"
    }
   ],
   "source": [
    "#checking percentage of null values in each column\n",
    "\n",
    "round(100*(leads.isnull().sum()/len(leads.index)), 2)"
   ]
  },
  {
   "cell_type": "code",
   "execution_count": 614,
   "metadata": {},
   "outputs": [],
   "source": [
    "#dropping cols with more than 45% missing values\n",
    "\n",
    "cols=leads.columns\n",
    "\n",
    "for i in cols:\n",
    "    if((100*(leads[i].isnull().sum()/len(leads.index))) >= 45):\n",
    "        leads.drop(i, 1, inplace = True)"
   ]
  },
  {
   "cell_type": "code",
   "execution_count": 615,
   "metadata": {},
   "outputs": [
    {
     "data": {
      "text/plain": [
       "Lead Origin                                       0.00\n",
       "Lead Source                                       0.39\n",
       "Do Not Email                                      0.00\n",
       "Do Not Call                                       0.00\n",
       "Converted                                         0.00\n",
       "TotalVisits                                       1.48\n",
       "Total Time Spent on Website                       0.00\n",
       "Page Views Per Visit                              1.48\n",
       "Last Activity                                     1.11\n",
       "Country                                          26.63\n",
       "Specialization                                   36.58\n",
       "What is your current occupation                  29.11\n",
       "What matters most to you in choosing a course    29.32\n",
       "Search                                            0.00\n",
       "Magazine                                          0.00\n",
       "Newspaper Article                                 0.00\n",
       "X Education Forums                                0.00\n",
       "Newspaper                                         0.00\n",
       "Digital Advertisement                             0.00\n",
       "Through Recommendations                           0.00\n",
       "Receive More Updates About Our Courses            0.00\n",
       "Tags                                             36.29\n",
       "Update me on Supply Chain Content                 0.00\n",
       "Get updates on DM Content                         0.00\n",
       "City                                             39.71\n",
       "I agree to pay the amount through cheque          0.00\n",
       "A free copy of Mastering The Interview            0.00\n",
       "Last Notable Activity                             0.00\n",
       "dtype: float64"
      ]
     },
     "execution_count": 615,
     "metadata": {},
     "output_type": "execute_result"
    }
   ],
   "source": [
    "round(100*(leads.isnull().sum()/len(leads.index)), 2)"
   ]
  },
  {
   "cell_type": "code",
   "execution_count": 616,
   "metadata": {},
   "outputs": [
    {
     "data": {
      "text/plain": [
       "India                   0.957663\n",
       "United States           0.010178\n",
       "United Arab Emirates    0.007818\n",
       "Singapore               0.003540\n",
       "Saudi Arabia            0.003098\n",
       "United Kingdom          0.002213\n",
       "Australia               0.001918\n",
       "Qatar                   0.001475\n",
       "Hong Kong               0.001033\n",
       "Bahrain                 0.001033\n",
       "Oman                    0.000885\n",
       "France                  0.000885\n",
       "unknown                 0.000738\n",
       "South Africa            0.000590\n",
       "Nigeria                 0.000590\n",
       "Germany                 0.000590\n",
       "Kuwait                  0.000590\n",
       "Canada                  0.000590\n",
       "Sweden                  0.000443\n",
       "China                   0.000295\n",
       "Asia/Pacific Region     0.000295\n",
       "Uganda                  0.000295\n",
       "Bangladesh              0.000295\n",
       "Italy                   0.000295\n",
       "Belgium                 0.000295\n",
       "Netherlands             0.000295\n",
       "Ghana                   0.000295\n",
       "Philippines             0.000295\n",
       "Russia                  0.000148\n",
       "Switzerland             0.000148\n",
       "Vietnam                 0.000148\n",
       "Denmark                 0.000148\n",
       "Tanzania                0.000148\n",
       "Liberia                 0.000148\n",
       "Malaysia                0.000148\n",
       "Kenya                   0.000148\n",
       "Sri Lanka               0.000148\n",
       "Indonesia               0.000148\n",
       "Name: Country, dtype: float64"
      ]
     },
     "execution_count": 616,
     "metadata": {},
     "output_type": "execute_result"
    }
   ],
   "source": [
    "# Check the values in column Country\n",
    "leads['Country'].value_counts(normalize=True)  "
   ]
  },
  {
   "cell_type": "code",
   "execution_count": 617,
   "metadata": {},
   "outputs": [],
   "source": [
    "#This columns can be dropped as 95% of the values are India. Not a valueable feature for modelling\n",
    "cols_to_drop=['Country']"
   ]
  },
  {
   "cell_type": "code",
   "execution_count": 618,
   "metadata": {},
   "outputs": [
    {
     "data": {
      "text/plain": [
       "Mumbai                         0.578352\n",
       "Thane & Outskirts              0.134985\n",
       "Other Cities                   0.123138\n",
       "Other Cities of Maharashtra    0.082032\n",
       "Other Metro Cities             0.068210\n",
       "Tier II Cities                 0.013283\n",
       "Name: City, dtype: float64"
      ]
     },
     "execution_count": 618,
     "metadata": {},
     "output_type": "execute_result"
    }
   ],
   "source": [
    "# Check the values in column City\n",
    "leads['City'].value_counts(normalize=True) "
   ]
  },
  {
   "cell_type": "code",
   "execution_count": 619,
   "metadata": {},
   "outputs": [
    {
     "data": {
      "text/plain": [
       "['Country', 'City']"
      ]
     },
     "execution_count": 619,
     "metadata": {},
     "output_type": "execute_result"
    }
   ],
   "source": [
    "#we can drop this column as well as most of it carries the value Mumbai and 39% is null\n",
    "cols_to_drop.append('City')\n",
    "cols_to_drop"
   ]
  },
  {
   "cell_type": "code",
   "execution_count": 620,
   "metadata": {},
   "outputs": [
    {
     "data": {
      "text/plain": [
       "NaN                                  3380\n",
       "Finance Management                    976\n",
       "Human Resource Management             848\n",
       "Marketing Management                  838\n",
       "Operations Management                 503\n",
       "Business Administration               403\n",
       "IT Projects Management                366\n",
       "Supply Chain Management               349\n",
       "Banking, Investment And Insurance     338\n",
       "Travel and Tourism                    203\n",
       "Media and Advertising                 203\n",
       "International Business                178\n",
       "Healthcare Management                 159\n",
       "Hospitality Management                114\n",
       "E-COMMERCE                            112\n",
       "Retail Management                     100\n",
       "Rural and Agribusiness                 73\n",
       "E-Business                             57\n",
       "Services Excellence                    40\n",
       "Name: Specialization, dtype: int64"
      ]
     },
     "execution_count": 620,
     "metadata": {},
     "output_type": "execute_result"
    }
   ],
   "source": [
    "#checking value counts of Specialization column\n",
    "\n",
    "leads['Specialization'].value_counts(dropna=False)"
   ]
  },
  {
   "cell_type": "code",
   "execution_count": 621,
   "metadata": {},
   "outputs": [],
   "source": [
    "# Lead may not have mentioned specialization because it was not in the list or maybe they are a students \n",
    "# and don't have a specialization yet. So we will replace NaN values here with 'Not Specified'\n",
    "\n",
    "leads['Specialization'] = leads['Specialization'].replace(np.nan, 'Not Specified')"
   ]
  },
  {
   "cell_type": "code",
   "execution_count": 622,
   "metadata": {},
   "outputs": [
    {
     "data": {
      "image/png": "[encoded data removed]",
      "text/plain": [
       "<Figure size 1080x360 with 1 Axes>"
      ]
     },
     "metadata": {
      "needs_background": "light"
     },
     "output_type": "display_data"
    }
   ],
   "source": [
    "#plotting spread of Specialization columnn \n",
    "\n",
    "plt.figure(figsize=(15,5))\n",
    "s1=sns.countplot(leads.Specialization, hue=leads.Converted)\n",
    "s1.set_xticklabels(s1.get_xticklabels(),rotation=90)\n",
    "plt.show()"
   ]
  },
  {
   "cell_type": "code",
   "execution_count": 623,
   "metadata": {},
   "outputs": [
    {
     "data": {
      "text/plain": [
       "Unemployed              5600\n",
       "NaN                     2690\n",
       "Working Professional     706\n",
       "Student                  210\n",
       "Other                     16\n",
       "Housewife                 10\n",
       "Businessman                8\n",
       "Name: What is your current occupation, dtype: int64"
      ]
     },
     "execution_count": 623,
     "metadata": {},
     "output_type": "execute_result"
    }
   ],
   "source": [
    "#What is your current occupation\n",
    "\n",
    "leads['What is your current occupation'].value_counts(dropna=False)"
   ]
  },
  {
   "cell_type": "code",
   "execution_count": 624,
   "metadata": {},
   "outputs": [],
   "source": [
    "#Large number of leads are unemplyed and since null is a huge number, imputing Nan values with \"Unknown\"\n",
    "\n",
    "leads['What is your current occupation'] = leads['What is your current occupation'].replace(np.nan, 'Unknown')"
   ]
  },
  {
   "cell_type": "code",
   "execution_count": null,
   "metadata": {},
   "outputs": [],
   "source": []
  },
  {
   "cell_type": "code",
   "execution_count": 625,
   "metadata": {},
   "outputs": [
    {
     "data": {
      "image/png": "[encoded data removed]",
      "text/plain": [
       "<Figure size 432x288 with 1 Axes>"
      ]
     },
     "metadata": {
      "needs_background": "light"
     },
     "output_type": "display_data"
    }
   ],
   "source": [
    "#visualizing count of Variable based on Converted value\n",
    "\n",
    "s1=sns.countplot(leads['What is your current occupation'], hue=leads.Converted)\n",
    "s1.set_xticklabels(s1.get_xticklabels(),rotation=90)\n",
    "plt.show()"
   ]
  },
  {
   "cell_type": "code",
   "execution_count": 626,
   "metadata": {},
   "outputs": [
    {
     "data": {
      "text/plain": [
       "Better Career Prospects      6528\n",
       "NaN                          2709\n",
       "Flexibility & Convenience       2\n",
       "Other                           1\n",
       "Name: What matters most to you in choosing a course, dtype: int64"
      ]
     },
     "execution_count": 626,
     "metadata": {},
     "output_type": "execute_result"
    }
   ],
   "source": [
    "#checking value counts\n",
    "\n",
    "leads['What matters most to you in choosing a course'].value_counts(dropna=False)"
   ]
  },
  {
   "cell_type": "code",
   "execution_count": 627,
   "metadata": {},
   "outputs": [
    {
     "data": {
      "text/plain": [
       "['Country', 'City', 'What matters most to you in choosing a course']"
      ]
     },
     "execution_count": 627,
     "metadata": {},
     "output_type": "execute_result"
    }
   ],
   "source": [
    "#This Column that is worth Dropping as it has a class imbalance problem. So we Append to the cols_to_drop List\n",
    "cols_to_drop.append('What matters most to you in choosing a course')\n",
    "cols_to_drop"
   ]
  },
  {
   "cell_type": "code",
   "execution_count": 628,
   "metadata": {},
   "outputs": [
    {
     "data": {
      "text/plain": [
       "['Country', 'City', 'What matters most to you in choosing a course']"
      ]
     },
     "execution_count": 628,
     "metadata": {},
     "output_type": "execute_result"
    }
   ],
   "source": [
    "cols_to_drop"
   ]
  },
  {
   "cell_type": "code",
   "execution_count": 629,
   "metadata": {},
   "outputs": [
    {
     "data": {
      "text/plain": [
       "NaN                                                  3353\n",
       "Will revert after reading the email                  2072\n",
       "Ringing                                              1203\n",
       "Interested in other courses                           513\n",
       "Already a student                                     465\n",
       "Closed by Horizzon                                    358\n",
       "switched off                                          240\n",
       "Busy                                                  186\n",
       "Lost to EINS                                          175\n",
       "Not doing further education                           145\n",
       "Interested  in full time MBA                          117\n",
       "Graduation in progress                                111\n",
       "invalid number                                         83\n",
       "Diploma holder (Not Eligible)                          63\n",
       "wrong number given                                     47\n",
       "opp hangup                                             33\n",
       "number not provided                                    27\n",
       "in touch with EINS                                     12\n",
       "Lost to Others                                          7\n",
       "Still Thinking                                          6\n",
       "Want to take admission but has financial problems       6\n",
       "In confusion whether part time or DLP                   5\n",
       "Interested in Next batch                                5\n",
       "Lateral student                                         3\n",
       "Shall take in the next coming month                     2\n",
       "University not recognized                               2\n",
       "Recognition issue (DEC approval)                        1\n",
       "Name: Tags, dtype: int64"
      ]
     },
     "execution_count": 629,
     "metadata": {},
     "output_type": "execute_result"
    }
   ],
   "source": [
    "#checking value counts of Tag variable\n",
    "leads['Tags'].value_counts(dropna=False)"
   ]
  },
  {
   "cell_type": "code",
   "execution_count": 630,
   "metadata": {},
   "outputs": [],
   "source": [
    "#replacing tags with low frequency with \"Other Tags\"\n",
    "#leads['Tags'] = leads['Tags'].replace(['In confusion whether part time or DLP', 'in touch with EINS','Diploma holder (Not Eligible)',\n",
    "#                                     'Approached upfront','Graduation in progress','number not provided', 'opp hangup','Still Thinking',\n",
    "#                                    'Lost to Others','Shall take in the next coming month','Lateral student','Interested in Next batch',\n",
    " #                                   'Recognition issue (DEC approval)','Want to take admission but has financial problems',\n",
    "  #                                  'University not recognized'], 'Other_Tags')\n",
    "\n",
    "#leads['Tags'] = leads['Tags'].replace(['switched off',\n",
    " #                                     'Already a student',\n",
    "  #                                     'Not doing further education',\n",
    "   #                                    'invalid number',\n",
    "    #                                   'wrong number given',\n",
    "     #                                  'Interested  in full time MBA'] , 'Other_Tags')"
   ]
  },
  {
   "cell_type": "code",
   "execution_count": 631,
   "metadata": {},
   "outputs": [],
   "source": [
    "#replacing Nan values with \"Not Specified\"\n",
    "#leads['Tags'] = leads['Tags'].replace(np.nan,'Not Specified')"
   ]
  },
  {
   "cell_type": "markdown",
   "metadata": {},
   "source": [
    "\n",
    "##### Considering the high number of nulls and Tag is representing the ongoing status with the student, it is not very useful for model"
   ]
  },
  {
   "cell_type": "code",
   "execution_count": 632,
   "metadata": {},
   "outputs": [],
   "source": [
    "cols_to_drop.append('Tags')"
   ]
  },
  {
   "cell_type": "code",
   "execution_count": 633,
   "metadata": {},
   "outputs": [
    {
     "data": {
      "image/png": "[encoded data removed]",
      "text/plain": [
       "<Figure size 1080x360 with 1 Axes>"
      ]
     },
     "metadata": {
      "needs_background": "light"
     },
     "output_type": "display_data"
    }
   ],
   "source": [
    "#visualizing count of Variable based on Converted value\n",
    "\n",
    "plt.figure(figsize=(15,5))\n",
    "s1=sns.countplot(leads['Tags'], hue=leads.Converted)\n",
    "s1.set_xticklabels(s1.get_xticklabels(),rotation=90)\n",
    "plt.show()"
   ]
  },
  {
   "cell_type": "code",
   "execution_count": 634,
   "metadata": {},
   "outputs": [
    {
     "data": {
      "text/plain": [
       "Lead Origin                                       0.00\n",
       "Lead Source                                       0.39\n",
       "Do Not Email                                      0.00\n",
       "Do Not Call                                       0.00\n",
       "Converted                                         0.00\n",
       "TotalVisits                                       1.48\n",
       "Total Time Spent on Website                       0.00\n",
       "Page Views Per Visit                              1.48\n",
       "Last Activity                                     1.11\n",
       "Country                                          26.63\n",
       "Specialization                                    0.00\n",
       "What is your current occupation                   0.00\n",
       "What matters most to you in choosing a course    29.32\n",
       "Search                                            0.00\n",
       "Magazine                                          0.00\n",
       "Newspaper Article                                 0.00\n",
       "X Education Forums                                0.00\n",
       "Newspaper                                         0.00\n",
       "Digital Advertisement                             0.00\n",
       "Through Recommendations                           0.00\n",
       "Receive More Updates About Our Courses            0.00\n",
       "Tags                                             36.29\n",
       "Update me on Supply Chain Content                 0.00\n",
       "Get updates on DM Content                         0.00\n",
       "City                                             39.71\n",
       "I agree to pay the amount through cheque          0.00\n",
       "A free copy of Mastering The Interview            0.00\n",
       "Last Notable Activity                             0.00\n",
       "dtype: float64"
      ]
     },
     "execution_count": 634,
     "metadata": {},
     "output_type": "execute_result"
    }
   ],
   "source": [
    "#checking percentage of missing values\n",
    "round(100*(leads.isnull().sum()/len(leads.index)), 2)"
   ]
  },
  {
   "cell_type": "code",
   "execution_count": 635,
   "metadata": {},
   "outputs": [
    {
     "data": {
      "text/plain": [
       "Google               2868\n",
       "Direct Traffic       2543\n",
       "Olark Chat           1755\n",
       "Organic Search       1154\n",
       "Reference             534\n",
       "Welingak Website      142\n",
       "Referral Sites        125\n",
       "Facebook               55\n",
       "NaN                    36\n",
       "bing                    6\n",
       "google                  5\n",
       "Click2call              4\n",
       "Press_Release           2\n",
       "Social Media            2\n",
       "Live Chat               2\n",
       "youtubechannel          1\n",
       "testone                 1\n",
       "Pay per Click Ads       1\n",
       "welearnblog_Home        1\n",
       "WeLearn                 1\n",
       "blog                    1\n",
       "NC_EDM                  1\n",
       "Name: Lead Source, dtype: int64"
      ]
     },
     "execution_count": 635,
     "metadata": {},
     "output_type": "execute_result"
    }
   ],
   "source": [
    "#checking value counts of Lead Source column\n",
    "\n",
    "leads['Lead Source'].value_counts(dropna=False)"
   ]
  },
  {
   "cell_type": "code",
   "execution_count": 636,
   "metadata": {},
   "outputs": [],
   "source": [
    "#replacing Nan Values and combining low frequency values\n",
    "leads['Lead Source'] = leads['Lead Source'].replace(np.nan,'Others')\n",
    "leads['Lead Source'] = leads['Lead Source'].replace('google','Google')\n",
    "leads['Lead Source'] = leads['Lead Source'].replace('Facebook','Social Media')\n",
    "leads['Lead Source'] = leads['Lead Source'].replace(['bing','Click2call','Press_Release',\n",
    "                                                     'youtubechannel','welearnblog_Home',\n",
    "                                                     'WeLearn','blog','Pay per Click Ads',\n",
    "                                                    'testone','NC_EDM'] ,'Others')   "
   ]
  },
  {
   "cell_type": "code",
   "execution_count": 637,
   "metadata": {},
   "outputs": [
    {
     "data": {
      "image/png": "[encoded data removed]",
      "text/plain": [
       "<Figure size 1080x360 with 1 Axes>"
      ]
     },
     "metadata": {
      "needs_background": "light"
     },
     "output_type": "display_data"
    }
   ],
   "source": [
    "#visualizing count of Variable based on Converted value\n",
    "plt.figure(figsize=(15,5))\n",
    "s1=sns.countplot(leads['Lead Source'], hue=leads.Converted)\n",
    "s1.set_xticklabels(s1.get_xticklabels(),rotation=90)\n",
    "plt.show()"
   ]
  },
  {
   "cell_type": "code",
   "execution_count": 638,
   "metadata": {},
   "outputs": [
    {
     "data": {
      "text/plain": [
       "Email Opened                    3437\n",
       "SMS Sent                        2745\n",
       "Olark Chat Conversation          973\n",
       "Page Visited on Website          640\n",
       "Converted to Lead                428\n",
       "Email Bounced                    326\n",
       "Email Link Clicked               267\n",
       "Form Submitted on Website        116\n",
       "NaN                              103\n",
       "Unreachable                       93\n",
       "Unsubscribed                      61\n",
       "Had a Phone Conversation          30\n",
       "Approached upfront                 9\n",
       "View in browser link Clicked       6\n",
       "Email Received                     2\n",
       "Email Marked Spam                  2\n",
       "Visited Booth in Tradeshow         1\n",
       "Resubscribed to emails             1\n",
       "Name: Last Activity, dtype: int64"
      ]
     },
     "execution_count": 638,
     "metadata": {},
     "output_type": "execute_result"
    }
   ],
   "source": [
    "# Last Activity:\n",
    "\n",
    "leads['Last Activity'].value_counts(dropna=False)\n"
   ]
  },
  {
   "cell_type": "code",
   "execution_count": 639,
   "metadata": {},
   "outputs": [],
   "source": [
    "#replacing Nan Values and combining with low frequency values\n",
    "\n",
    "leads['Last Activity'] = leads['Last Activity'].replace(np.nan,'Others')\n",
    "leads['Last Activity'] = leads['Last Activity'].replace(['Had a Phone Conversation', \n",
    "                                                        'Approached upfront',\n",
    "                                                        'View in browser link Clicked',       \n",
    "                                                        'Email Marked Spam',                  \n",
    "                                                        'Email Received','Resubscribed to emails',\n",
    "                                                         'Visited Booth in Tradeshow'],'Others')"
   ]
  },
  {
   "cell_type": "code",
   "execution_count": 640,
   "metadata": {},
   "outputs": [
    {
     "data": {
      "image/png": "[encoded data removed]",
      "text/plain": [
       "<Figure size 1080x360 with 1 Axes>"
      ]
     },
     "metadata": {
      "needs_background": "light"
     },
     "output_type": "display_data"
    }
   ],
   "source": [
    "#visualizing count of Variable based on Converted value\n",
    "plt.figure(figsize=(15,5))\n",
    "s1=sns.countplot(leads['Last Activity'], hue=leads.Converted)\n",
    "s1.set_xticklabels(s1.get_xticklabels(),rotation=90)\n",
    "plt.show()"
   ]
  },
  {
   "cell_type": "code",
   "execution_count": 641,
   "metadata": {},
   "outputs": [
    {
     "data": {
      "text/plain": [
       "Lead Origin                                       0.00\n",
       "Lead Source                                       0.00\n",
       "Do Not Email                                      0.00\n",
       "Do Not Call                                       0.00\n",
       "Converted                                         0.00\n",
       "TotalVisits                                       1.48\n",
       "Total Time Spent on Website                       0.00\n",
       "Page Views Per Visit                              1.48\n",
       "Last Activity                                     0.00\n",
       "Country                                          26.63\n",
       "Specialization                                    0.00\n",
       "What is your current occupation                   0.00\n",
       "What matters most to you in choosing a course    29.32\n",
       "Search                                            0.00\n",
       "Magazine                                          0.00\n",
       "Newspaper Article                                 0.00\n",
       "X Education Forums                                0.00\n",
       "Newspaper                                         0.00\n",
       "Digital Advertisement                             0.00\n",
       "Through Recommendations                           0.00\n",
       "Receive More Updates About Our Courses            0.00\n",
       "Tags                                             36.29\n",
       "Update me on Supply Chain Content                 0.00\n",
       "Get updates on DM Content                         0.00\n",
       "City                                             39.71\n",
       "I agree to pay the amount through cheque          0.00\n",
       "A free copy of Mastering The Interview            0.00\n",
       "Last Notable Activity                             0.00\n",
       "dtype: float64"
      ]
     },
     "execution_count": 641,
     "metadata": {},
     "output_type": "execute_result"
    }
   ],
   "source": [
    "#Check the Null Values in All Columns:\n",
    "round(100*(leads.isnull().sum()/len(leads.index)), 2)"
   ]
  },
  {
   "cell_type": "code",
   "execution_count": 642,
   "metadata": {},
   "outputs": [
    {
     "data": {
      "text/plain": [
       "No     9238\n",
       "Yes       2\n",
       "Name: Do Not Call, dtype: int64"
      ]
     },
     "execution_count": 642,
     "metadata": {},
     "output_type": "execute_result"
    }
   ],
   "source": [
    "#checking value counts for Do Not Call\n",
    "leads['Do Not Call'].value_counts(dropna=False)"
   ]
  },
  {
   "cell_type": "code",
   "execution_count": 643,
   "metadata": {},
   "outputs": [],
   "source": [
    "## Better to drop this column\n",
    "cols_to_drop.append('Do Not Call')"
   ]
  },
  {
   "cell_type": "code",
   "execution_count": 644,
   "metadata": {},
   "outputs": [
    {
     "data": {
      "text/plain": [
       "No     8506\n",
       "Yes     734\n",
       "Name: Do Not Email, dtype: int64"
      ]
     },
     "execution_count": 644,
     "metadata": {},
     "output_type": "execute_result"
    }
   ],
   "source": [
    "#checking value counts for Do Not Call\n",
    "leads['Do Not Email'].value_counts(dropna=False)"
   ]
  },
  {
   "cell_type": "code",
   "execution_count": 645,
   "metadata": {},
   "outputs": [
    {
     "data": {
      "text/plain": [
       "No     9226\n",
       "Yes      14\n",
       "Name: Search, dtype: int64"
      ]
     },
     "execution_count": 645,
     "metadata": {},
     "output_type": "execute_result"
    }
   ],
   "source": [
    "# IMBALANCED VARIABLES THAT CAN BE DROPPED\n",
    "leads.Search.value_counts(dropna=False)"
   ]
  },
  {
   "cell_type": "code",
   "execution_count": 646,
   "metadata": {},
   "outputs": [
    {
     "data": {
      "text/plain": [
       "No    9240\n",
       "Name: Magazine, dtype: int64"
      ]
     },
     "execution_count": 646,
     "metadata": {},
     "output_type": "execute_result"
    }
   ],
   "source": [
    "leads.Magazine.value_counts(dropna=False)"
   ]
  },
  {
   "cell_type": "code",
   "execution_count": 753,
   "metadata": {
    "scrolled": false
   },
   "outputs": [
    {
     "name": "stdout",
     "output_type": "stream",
     "text": [
      "0    8379\n",
      "1     724\n",
      "Name: Do Not Email, dtype: int64\n",
      "----------------------------------------------------------------------------------------\n",
      "0    5642\n",
      "1    3461\n",
      "Name: Converted, dtype: int64\n",
      "----------------------------------------------------------------------------------------\n",
      "0.0      2189\n",
      "2.0      1680\n",
      "3.0      1306\n",
      "4.0      1120\n",
      "5.0       783\n",
      "6.0       466\n",
      "1.0       395\n",
      "7.0       309\n",
      "8.0       224\n",
      "9.0       164\n",
      "10.0      114\n",
      "11.0       86\n",
      "13.0       48\n",
      "12.0       45\n",
      "14.0       36\n",
      "16.0       21\n",
      "15.0       18\n",
      "17.0       16\n",
      "18.0       15\n",
      "20.0       12\n",
      "19.0        9\n",
      "23.0        6\n",
      "21.0        6\n",
      "24.0        5\n",
      "25.0        5\n",
      "27.0        5\n",
      "22.0        3\n",
      "26.0        2\n",
      "28.0        2\n",
      "29.0        2\n",
      "54.0        1\n",
      "141.0       1\n",
      "115.0       1\n",
      "74.0        1\n",
      "55.0        1\n",
      "30.0        1\n",
      "43.0        1\n",
      "42.0        1\n",
      "41.0        1\n",
      "32.0        1\n",
      "251.0       1\n",
      "Name: TotalVisits, dtype: int64\n",
      "----------------------------------------------------------------------------------------\n",
      "0       2193\n",
      "60        19\n",
      "127       18\n",
      "75        18\n",
      "157       17\n",
      "        ... \n",
      "1355       1\n",
      "600        1\n",
      "601        1\n",
      "603        1\n",
      "2272       1\n",
      "Name: Total Time Spent on Website, Length: 1717, dtype: int64\n",
      "----------------------------------------------------------------------------------------\n",
      "0.0     2189\n",
      "2.0     1795\n",
      "3.0     1196\n",
      "4.0      896\n",
      "1.0      651\n",
      "        ... \n",
      "3.57       1\n",
      "3.8        1\n",
      "3.82       1\n",
      "3.83       1\n",
      "55.0       1\n",
      "Name: Page Views Per Visit, Length: 114, dtype: int64\n",
      "----------------------------------------------------------------------------------------\n",
      "0    6215\n",
      "1    2888\n",
      "Name: A free copy of Mastering The Interview, dtype: int64\n",
      "----------------------------------------------------------------------------------------\n",
      "1    4886\n",
      "0    4217\n",
      "Name: Lead Origin_Landing Page Submission, dtype: int64\n",
      "----------------------------------------------------------------------------------------\n",
      "0    8495\n",
      "1     608\n",
      "Name: Lead Origin_Lead Add Form, dtype: int64\n",
      "----------------------------------------------------------------------------------------\n",
      "0    9072\n",
      "1      31\n",
      "Name: Lead Origin_Lead Import, dtype: int64\n",
      "----------------------------------------------------------------------------------------\n",
      "0    6230\n",
      "1    2873\n",
      "Name: Lead Source_Google, dtype: int64\n",
      "----------------------------------------------------------------------------------------\n",
      "0    9101\n",
      "1       2\n",
      "Name: Lead Source_Live Chat, dtype: int64\n",
      "----------------------------------------------------------------------------------------\n",
      "0    7350\n",
      "1    1753\n",
      "Name: Lead Source_Olark Chat, dtype: int64\n",
      "----------------------------------------------------------------------------------------\n",
      "0    7949\n",
      "1    1154\n",
      "Name: Lead Source_Organic Search, dtype: int64\n",
      "----------------------------------------------------------------------------------------\n",
      "0    9055\n",
      "1      48\n",
      "Name: Lead Source_Others, dtype: int64\n",
      "----------------------------------------------------------------------------------------\n",
      "0    8660\n",
      "1     443\n",
      "Name: Lead Source_Reference, dtype: int64\n",
      "----------------------------------------------------------------------------------------\n",
      "0    8978\n",
      "1     125\n",
      "Name: Lead Source_Referral Sites, dtype: int64\n",
      "----------------------------------------------------------------------------------------\n",
      "0    9070\n",
      "1      33\n",
      "Name: Lead Source_Social Media, dtype: int64\n",
      "----------------------------------------------------------------------------------------\n",
      "0    8974\n",
      "1     129\n",
      "Name: Lead Source_Welingak Website, dtype: int64\n",
      "----------------------------------------------------------------------------------------\n",
      "0    8791\n",
      "1     312\n",
      "Name: Last Activity_Email Bounced, dtype: int64\n",
      "----------------------------------------------------------------------------------------\n",
      "0    8836\n",
      "1     267\n",
      "Name: Last Activity_Email Link Clicked, dtype: int64\n",
      "----------------------------------------------------------------------------------------\n",
      "0    5666\n",
      "1    3437\n",
      "Name: Last Activity_Email Opened, dtype: int64\n",
      "----------------------------------------------------------------------------------------\n",
      "0    8987\n",
      "1     116\n",
      "Name: Last Activity_Form Submitted on Website, dtype: int64\n",
      "----------------------------------------------------------------------------------------\n",
      "0    8131\n",
      "1     972\n",
      "Name: Last Activity_Olark Chat Conversation, dtype: int64\n",
      "----------------------------------------------------------------------------------------\n",
      "0    9061\n",
      "1      42\n",
      "Name: Last Activity_Others, dtype: int64\n",
      "----------------------------------------------------------------------------------------\n",
      "0    8463\n",
      "1     640\n",
      "Name: Last Activity_Page Visited on Website, dtype: int64\n",
      "----------------------------------------------------------------------------------------\n",
      "0    6365\n",
      "1    2738\n",
      "Name: Last Activity_SMS Sent, dtype: int64\n",
      "----------------------------------------------------------------------------------------\n",
      "0    9013\n",
      "1      90\n",
      "Name: Last Activity_Unreachable, dtype: int64\n",
      "----------------------------------------------------------------------------------------\n",
      "0    9042\n",
      "1      61\n",
      "Name: Last Activity_Unsubscribed, dtype: int64\n",
      "----------------------------------------------------------------------------------------\n",
      "0    8704\n",
      "1     399\n",
      "Name: Specialization_Business Administration, dtype: int64\n",
      "----------------------------------------------------------------------------------------\n",
      "0    9046\n",
      "1      57\n",
      "Name: Specialization_E-Business, dtype: int64\n",
      "----------------------------------------------------------------------------------------\n",
      "0    8992\n",
      "1     111\n",
      "Name: Specialization_E-COMMERCE, dtype: int64\n",
      "----------------------------------------------------------------------------------------\n",
      "0    8141\n",
      "1     962\n",
      "Name: Specialization_Finance Management, dtype: int64\n",
      "----------------------------------------------------------------------------------------\n",
      "0    8946\n",
      "1     157\n",
      "Name: Specialization_Healthcare Management, dtype: int64\n",
      "----------------------------------------------------------------------------------------\n",
      "0    8992\n",
      "1     111\n",
      "Name: Specialization_Hospitality Management, dtype: int64\n",
      "----------------------------------------------------------------------------------------\n",
      "0    8265\n",
      "1     838\n",
      "Name: Specialization_Human Resource Management, dtype: int64\n",
      "----------------------------------------------------------------------------------------\n",
      "0    8737\n",
      "1     366\n",
      "Name: Specialization_IT Projects Management, dtype: int64\n",
      "----------------------------------------------------------------------------------------\n",
      "0    8927\n",
      "1     176\n",
      "Name: Specialization_International Business, dtype: int64\n",
      "----------------------------------------------------------------------------------------\n",
      "0    8279\n",
      "1     824\n",
      "Name: Specialization_Marketing Management, dtype: int64\n",
      "----------------------------------------------------------------------------------------\n",
      "0    8901\n",
      "1     202\n",
      "Name: Specialization_Media and Advertising, dtype: int64\n",
      "----------------------------------------------------------------------------------------\n",
      "0    5799\n",
      "1    3304\n",
      "Name: Specialization_Not Specified, dtype: int64\n",
      "----------------------------------------------------------------------------------------\n",
      "0    8603\n",
      "1     500\n",
      "Name: Specialization_Operations Management, dtype: int64\n",
      "----------------------------------------------------------------------------------------\n",
      "0    9003\n",
      "1     100\n",
      "Name: Specialization_Retail Management, dtype: int64\n",
      "----------------------------------------------------------------------------------------\n",
      "0    9030\n",
      "1      73\n",
      "Name: Specialization_Rural and Agribusiness, dtype: int64\n",
      "----------------------------------------------------------------------------------------\n",
      "0    9063\n",
      "1      40\n",
      "Name: Specialization_Services Excellence, dtype: int64\n",
      "----------------------------------------------------------------------------------------\n",
      "0    8757\n",
      "1     346\n",
      "Name: Specialization_Supply Chain Management, dtype: int64\n",
      "----------------------------------------------------------------------------------------\n",
      "0    8901\n",
      "1     202\n",
      "Name: Specialization_Travel and Tourism, dtype: int64\n",
      "----------------------------------------------------------------------------------------\n",
      "0    9094\n",
      "1       9\n",
      "Name: What is your current occupation_Housewife, dtype: int64\n",
      "----------------------------------------------------------------------------------------\n",
      "0    9088\n",
      "1      15\n",
      "Name: What is your current occupation_Other, dtype: int64\n",
      "----------------------------------------------------------------------------------------\n",
      "0    8896\n",
      "1     207\n",
      "Name: What is your current occupation_Student, dtype: int64\n",
      "----------------------------------------------------------------------------------------\n",
      "1    5502\n",
      "0    3601\n",
      "Name: What is your current occupation_Unemployed, dtype: int64\n",
      "----------------------------------------------------------------------------------------\n",
      "0    6420\n",
      "1    2683\n",
      "Name: What is your current occupation_Unknown, dtype: int64\n",
      "----------------------------------------------------------------------------------------\n",
      "0    8424\n",
      "1     679\n",
      "Name: What is your current occupation_Working Professional, dtype: int64\n",
      "----------------------------------------------------------------------------------------\n",
      "0    9043\n",
      "1      60\n",
      "Name: Last Notable Activity_Email Bounced, dtype: int64\n",
      "----------------------------------------------------------------------------------------\n",
      "0    8930\n",
      "1     173\n",
      "Name: Last Notable Activity_Email Link Clicked, dtype: int64\n",
      "----------------------------------------------------------------------------------------\n",
      "0    9101\n",
      "1       2\n",
      "Name: Last Notable Activity_Email Marked Spam, dtype: int64\n",
      "----------------------------------------------------------------------------------------\n",
      "0    6276\n",
      "1    2827\n",
      "Name: Last Notable Activity_Email Opened, dtype: int64\n",
      "----------------------------------------------------------------------------------------\n",
      "0    9102\n",
      "1       1\n",
      "Name: Last Notable Activity_Email Received, dtype: int64\n",
      "----------------------------------------------------------------------------------------\n",
      "0    9102\n",
      "1       1\n",
      "Name: Last Notable Activity_Form Submitted on Website, dtype: int64\n",
      "----------------------------------------------------------------------------------------\n",
      "0    9089\n",
      "1      14\n",
      "Name: Last Notable Activity_Had a Phone Conversation, dtype: int64\n",
      "----------------------------------------------------------------------------------------\n",
      "0    5833\n",
      "1    3270\n",
      "Name: Last Notable Activity_Modified, dtype: int64\n",
      "----------------------------------------------------------------------------------------\n",
      "0    8920\n",
      "1     183\n",
      "Name: Last Notable Activity_Olark Chat Conversation, dtype: int64\n",
      "----------------------------------------------------------------------------------------\n",
      "0    8785\n",
      "1     318\n",
      "Name: Last Notable Activity_Page Visited on Website, dtype: int64\n",
      "----------------------------------------------------------------------------------------\n",
      "0    9102\n",
      "1       1\n",
      "Name: Last Notable Activity_Resubscribed to emails, dtype: int64\n",
      "----------------------------------------------------------------------------------------\n",
      "0    6931\n",
      "1    2172\n",
      "Name: Last Notable Activity_SMS Sent, dtype: int64\n",
      "----------------------------------------------------------------------------------------\n",
      "0    9071\n",
      "1      32\n",
      "Name: Last Notable Activity_Unreachable, dtype: int64\n",
      "----------------------------------------------------------------------------------------\n",
      "0    9056\n",
      "1      47\n",
      "Name: Last Notable Activity_Unsubscribed, dtype: int64\n",
      "----------------------------------------------------------------------------------------\n",
      "0    9102\n",
      "1       1\n",
      "Name: Last Notable Activity_View in browser link Clicked, dtype: int64\n",
      "----------------------------------------------------------------------------------------\n"
     ]
    }
   ],
   "source": [
    "## Checking the unique value distribution of categoty columns\n",
    "for column in leads:\n",
    "    print(leads[column].astype('category').value_counts())\n",
    "    print('----------------------------------------------------------------------------------------')"
   ]
  },
  {
   "cell_type": "code",
   "execution_count": 648,
   "metadata": {},
   "outputs": [],
   "source": [
    "## Add all columns wth class imbalance to be dropped\n",
    "cols_to_drop.extend(['Search','Magazine','Newspaper Article','X Education Forums','Newspaper',\n",
    "                 'Digital Advertisement','Through Recommendations','Receive More Updates About Our Courses',\n",
    "                 'Update me on Supply Chain Content',\n",
    "                 'Get updates on DM Content','I agree to pay the amount through cheque'])"
   ]
  },
  {
   "cell_type": "code",
   "execution_count": 649,
   "metadata": {},
   "outputs": [
    {
     "data": {
      "text/plain": [
       "['Country',\n",
       " 'City',\n",
       " 'What matters most to you in choosing a course',\n",
       " 'Tags',\n",
       " 'Do Not Call',\n",
       " 'Search',\n",
       " 'Magazine',\n",
       " 'Newspaper Article',\n",
       " 'X Education Forums',\n",
       " 'Newspaper',\n",
       " 'Digital Advertisement',\n",
       " 'Through Recommendations',\n",
       " 'Receive More Updates About Our Courses',\n",
       " 'Update me on Supply Chain Content',\n",
       " 'Get updates on DM Content',\n",
       " 'I agree to pay the amount through cheque']"
      ]
     },
     "execution_count": 649,
     "metadata": {},
     "output_type": "execute_result"
    }
   ],
   "source": [
    "cols_to_drop"
   ]
  },
  {
   "cell_type": "code",
   "execution_count": 650,
   "metadata": {},
   "outputs": [],
   "source": [
    "leads.drop(columns=cols_to_drop,inplace=True)"
   ]
  },
  {
   "cell_type": "code",
   "execution_count": 651,
   "metadata": {},
   "outputs": [
    {
     "name": "stdout",
     "output_type": "stream",
     "text": [
      "<class 'pandas.core.frame.DataFrame'>\n",
      "RangeIndex: 9240 entries, 0 to 9239\n",
      "Data columns (total 12 columns):\n",
      " #   Column                                  Non-Null Count  Dtype  \n",
      "---  ------                                  --------------  -----  \n",
      " 0   Lead Origin                             9240 non-null   object \n",
      " 1   Lead Source                             9240 non-null   object \n",
      " 2   Do Not Email                            9240 non-null   object \n",
      " 3   Converted                               9240 non-null   int64  \n",
      " 4   TotalVisits                             9103 non-null   float64\n",
      " 5   Total Time Spent on Website             9240 non-null   int64  \n",
      " 6   Page Views Per Visit                    9103 non-null   float64\n",
      " 7   Last Activity                           9240 non-null   object \n",
      " 8   Specialization                          9240 non-null   object \n",
      " 9   What is your current occupation         9240 non-null   object \n",
      " 10  A free copy of Mastering The Interview  9240 non-null   object \n",
      " 11  Last Notable Activity                   9240 non-null   object \n",
      "dtypes: float64(2), int64(2), object(8)\n",
      "memory usage: 866.4+ KB\n"
     ]
    }
   ],
   "source": [
    "leads.info()"
   ]
  },
  {
   "cell_type": "code",
   "execution_count": 652,
   "metadata": {},
   "outputs": [
    {
     "data": {
      "text/plain": [
       "Lead Origin                               0.00\n",
       "Lead Source                               0.00\n",
       "Do Not Email                              0.00\n",
       "Converted                                 0.00\n",
       "TotalVisits                               1.48\n",
       "Total Time Spent on Website               0.00\n",
       "Page Views Per Visit                      1.48\n",
       "Last Activity                             0.00\n",
       "Specialization                            0.00\n",
       "What is your current occupation           0.00\n",
       "A free copy of Mastering The Interview    0.00\n",
       "Last Notable Activity                     0.00\n",
       "dtype: float64"
      ]
     },
     "execution_count": 652,
     "metadata": {},
     "output_type": "execute_result"
    }
   ],
   "source": [
    "round(100*(leads.isnull().sum()/len(leads.index)), 2)"
   ]
  },
  {
   "cell_type": "code",
   "execution_count": 653,
   "metadata": {},
   "outputs": [],
   "source": [
    "# Drop the rows with null total visists\n",
    "leads = leads[~pd.isnull(leads_data['TotalVisits'])]"
   ]
  },
  {
   "cell_type": "code",
   "execution_count": 654,
   "metadata": {},
   "outputs": [
    {
     "data": {
      "text/plain": [
       "Lead Origin                               0.0\n",
       "Lead Source                               0.0\n",
       "Do Not Email                              0.0\n",
       "Converted                                 0.0\n",
       "TotalVisits                               0.0\n",
       "Total Time Spent on Website               0.0\n",
       "Page Views Per Visit                      0.0\n",
       "Last Activity                             0.0\n",
       "Specialization                            0.0\n",
       "What is your current occupation           0.0\n",
       "A free copy of Mastering The Interview    0.0\n",
       "Last Notable Activity                     0.0\n",
       "dtype: float64"
      ]
     },
     "execution_count": 654,
     "metadata": {},
     "output_type": "execute_result"
    }
   ],
   "source": [
    "round(100*(leads.isnull().sum()/len(leads.index)), 2)"
   ]
  },
  {
   "cell_type": "code",
   "execution_count": 655,
   "metadata": {},
   "outputs": [
    {
     "data": {
      "text/plain": [
       "count    9103.000000\n",
       "mean        3.445238\n",
       "std         4.854853\n",
       "min         0.000000\n",
       "5%          0.000000\n",
       "25%         1.000000\n",
       "50%         3.000000\n",
       "75%         5.000000\n",
       "90%         7.000000\n",
       "95%        10.000000\n",
       "99%        17.000000\n",
       "max       251.000000\n",
       "Name: TotalVisits, dtype: float64"
      ]
     },
     "execution_count": 655,
     "metadata": {},
     "output_type": "execute_result"
    }
   ],
   "source": [
    "#checking percentile values for \"Total Visits\"\n",
    "\n",
    "leads['TotalVisits'].describe(percentiles=[0.05,.25, .5, .75, .90, .95, .99])"
   ]
  },
  {
   "cell_type": "code",
   "execution_count": 656,
   "metadata": {},
   "outputs": [
    {
     "data": {
      "text/plain": [
       "count    9103.000000\n",
       "mean      481.350104\n",
       "std       545.066142\n",
       "min         0.000000\n",
       "5%          0.000000\n",
       "25%         9.000000\n",
       "50%       244.000000\n",
       "75%       919.500000\n",
       "90%      1372.000000\n",
       "95%      1556.900000\n",
       "99%      1838.960000\n",
       "max      2272.000000\n",
       "Name: Total Time Spent on Website, dtype: float64"
      ]
     },
     "execution_count": 656,
     "metadata": {},
     "output_type": "execute_result"
    }
   ],
   "source": [
    "#checking percentiles for \"Total Time Spent on Website\"\n",
    "\n",
    "leads['Total Time Spent on Website'].describe(percentiles=[0.05,.25, .5, .75, .90, .95, .99])"
   ]
  },
  {
   "cell_type": "code",
   "execution_count": 657,
   "metadata": {
    "scrolled": true
   },
   "outputs": [
    {
     "data": {
      "image/png": "[encoded data removed]",
      "text/plain": [
       "<Figure size 432x288 with 1 Axes>"
      ]
     },
     "metadata": {
      "needs_background": "light"
     },
     "output_type": "display_data"
    }
   ],
   "source": [
    "#visualizing spread of numeric variable\n",
    "\n",
    "plt.figure(figsize=(6,4))\n",
    "sns.boxplot(y=leads['Page Views Per Visit'])\n",
    "plt.show()"
   ]
  },
  {
   "cell_type": "code",
   "execution_count": 658,
   "metadata": {},
   "outputs": [
    {
     "data": {
      "image/png": "[encoded data removed]",
      "text/plain": [
       "<Figure size 432x288 with 1 Axes>"
      ]
     },
     "metadata": {
      "needs_background": "light"
     },
     "output_type": "display_data"
    }
   ],
   "source": [
    "#checking Spread of \"Total Visits\" vs Converted variable\n",
    "sns.boxplot(y = 'TotalVisits', x = 'Converted', data = leads)\n",
    "plt.show()"
   ]
  },
  {
   "cell_type": "code",
   "execution_count": 659,
   "metadata": {},
   "outputs": [
    {
     "data": {
      "text/plain": [
       "Index(['Lead Origin', 'Lead Source', 'Do Not Email', 'Last Activity',\n",
       "       'Specialization', 'What is your current occupation',\n",
       "       'A free copy of Mastering The Interview', 'Last Notable Activity'],\n",
       "      dtype='object')"
      ]
     },
     "execution_count": 659,
     "metadata": {},
     "output_type": "execute_result"
    }
   ],
   "source": [
    "#getting a list of categorical columns\n",
    "\n",
    "cat_cols= leads.select_dtypes(include=['object']).columns\n",
    "cat_cols"
   ]
  },
  {
   "cell_type": "code",
   "execution_count": 660,
   "metadata": {},
   "outputs": [
    {
     "data": {
      "text/html": [
       "<div>\n",
       "<style scoped>\n",
       "    .dataframe tbody tr th:only-of-type {\n",
       "        vertical-align: middle;\n",
       "    }\n",
       "\n",
       "    .dataframe tbody tr th {\n",
       "        vertical-align: top;\n",
       "    }\n",
       "\n",
       "    .dataframe thead th {\n",
       "        text-align: right;\n",
       "    }\n",
       "</style>\n",
       "<table border=\"1\" class=\"dataframe\">\n",
       "  <thead>\n",
       "    <tr style=\"text-align: right;\">\n",
       "      <th></th>\n",
       "      <th>Lead Origin</th>\n",
       "      <th>Lead Source</th>\n",
       "      <th>Do Not Email</th>\n",
       "      <th>Converted</th>\n",
       "      <th>TotalVisits</th>\n",
       "      <th>Total Time Spent on Website</th>\n",
       "      <th>Page Views Per Visit</th>\n",
       "      <th>Last Activity</th>\n",
       "      <th>Specialization</th>\n",
       "      <th>What is your current occupation</th>\n",
       "      <th>A free copy of Mastering The Interview</th>\n",
       "      <th>Last Notable Activity</th>\n",
       "    </tr>\n",
       "  </thead>\n",
       "  <tbody>\n",
       "    <tr>\n",
       "      <th>0</th>\n",
       "      <td>API</td>\n",
       "      <td>Olark Chat</td>\n",
       "      <td>No</td>\n",
       "      <td>0</td>\n",
       "      <td>0.0</td>\n",
       "      <td>0</td>\n",
       "      <td>0.0</td>\n",
       "      <td>Page Visited on Website</td>\n",
       "      <td>Not Specified</td>\n",
       "      <td>Unemployed</td>\n",
       "      <td>No</td>\n",
       "      <td>Modified</td>\n",
       "    </tr>\n",
       "    <tr>\n",
       "      <th>1</th>\n",
       "      <td>API</td>\n",
       "      <td>Organic Search</td>\n",
       "      <td>No</td>\n",
       "      <td>0</td>\n",
       "      <td>5.0</td>\n",
       "      <td>674</td>\n",
       "      <td>2.5</td>\n",
       "      <td>Email Opened</td>\n",
       "      <td>Not Specified</td>\n",
       "      <td>Unemployed</td>\n",
       "      <td>No</td>\n",
       "      <td>Email Opened</td>\n",
       "    </tr>\n",
       "    <tr>\n",
       "      <th>2</th>\n",
       "      <td>Landing Page Submission</td>\n",
       "      <td>Direct Traffic</td>\n",
       "      <td>No</td>\n",
       "      <td>1</td>\n",
       "      <td>2.0</td>\n",
       "      <td>1532</td>\n",
       "      <td>2.0</td>\n",
       "      <td>Email Opened</td>\n",
       "      <td>Business Administration</td>\n",
       "      <td>Student</td>\n",
       "      <td>Yes</td>\n",
       "      <td>Email Opened</td>\n",
       "    </tr>\n",
       "    <tr>\n",
       "      <th>3</th>\n",
       "      <td>Landing Page Submission</td>\n",
       "      <td>Direct Traffic</td>\n",
       "      <td>No</td>\n",
       "      <td>0</td>\n",
       "      <td>1.0</td>\n",
       "      <td>305</td>\n",
       "      <td>1.0</td>\n",
       "      <td>Unreachable</td>\n",
       "      <td>Media and Advertising</td>\n",
       "      <td>Unemployed</td>\n",
       "      <td>No</td>\n",
       "      <td>Modified</td>\n",
       "    </tr>\n",
       "    <tr>\n",
       "      <th>4</th>\n",
       "      <td>Landing Page Submission</td>\n",
       "      <td>Google</td>\n",
       "      <td>No</td>\n",
       "      <td>1</td>\n",
       "      <td>2.0</td>\n",
       "      <td>1428</td>\n",
       "      <td>1.0</td>\n",
       "      <td>Converted to Lead</td>\n",
       "      <td>Not Specified</td>\n",
       "      <td>Unemployed</td>\n",
       "      <td>No</td>\n",
       "      <td>Modified</td>\n",
       "    </tr>\n",
       "  </tbody>\n",
       "</table>\n",
       "</div>"
      ],
      "text/plain": [
       "               Lead Origin     Lead Source Do Not Email  Converted  \\\n",
       "0                      API      Olark Chat           No          0   \n",
       "1                      API  Organic Search           No          0   \n",
       "2  Landing Page Submission  Direct Traffic           No          1   \n",
       "3  Landing Page Submission  Direct Traffic           No          0   \n",
       "4  Landing Page Submission          Google           No          1   \n",
       "\n",
       "   TotalVisits  Total Time Spent on Website  Page Views Per Visit  \\\n",
       "0          0.0                            0                   0.0   \n",
       "1          5.0                          674                   2.5   \n",
       "2          2.0                         1532                   2.0   \n",
       "3          1.0                          305                   1.0   \n",
       "4          2.0                         1428                   1.0   \n",
       "\n",
       "             Last Activity           Specialization  \\\n",
       "0  Page Visited on Website            Not Specified   \n",
       "1             Email Opened            Not Specified   \n",
       "2             Email Opened  Business Administration   \n",
       "3              Unreachable    Media and Advertising   \n",
       "4        Converted to Lead            Not Specified   \n",
       "\n",
       "  What is your current occupation A free copy of Mastering The Interview  \\\n",
       "0                      Unemployed                                     No   \n",
       "1                      Unemployed                                     No   \n",
       "2                         Student                                    Yes   \n",
       "3                      Unemployed                                     No   \n",
       "4                      Unemployed                                     No   \n",
       "\n",
       "  Last Notable Activity  \n",
       "0              Modified  \n",
       "1          Email Opened  \n",
       "2          Email Opened  \n",
       "3              Modified  \n",
       "4              Modified  "
      ]
     },
     "execution_count": 660,
     "metadata": {},
     "output_type": "execute_result"
    }
   ],
   "source": [
    "leads.head()"
   ]
  },
  {
   "cell_type": "markdown",
   "metadata": {},
   "source": [
    "### Step 3: Data Preparation"
   ]
  },
  {
   "cell_type": "markdown",
   "metadata": {},
   "source": [
    "#### Converting some binary variables (Yes/No) to 0/1"
   ]
  },
  {
   "cell_type": "code",
   "execution_count": 661,
   "metadata": {},
   "outputs": [],
   "source": [
    "# List of variables to map\n",
    "\n",
    "varlist =  ['A free copy of Mastering The Interview','Do Not Email']\n",
    "\n",
    "# Defining the map function\n",
    "def binary_map(x):\n",
    "    return x.map({'Yes': 1, \"No\": 0})\n",
    "\n",
    "# Applying the function to the leads list\n",
    "leads[varlist] = leads[varlist].apply(binary_map)"
   ]
  },
  {
   "cell_type": "code",
   "execution_count": 662,
   "metadata": {},
   "outputs": [
    {
     "data": {
      "text/html": [
       "<div>\n",
       "<style scoped>\n",
       "    .dataframe tbody tr th:only-of-type {\n",
       "        vertical-align: middle;\n",
       "    }\n",
       "\n",
       "    .dataframe tbody tr th {\n",
       "        vertical-align: top;\n",
       "    }\n",
       "\n",
       "    .dataframe thead th {\n",
       "        text-align: right;\n",
       "    }\n",
       "</style>\n",
       "<table border=\"1\" class=\"dataframe\">\n",
       "  <thead>\n",
       "    <tr style=\"text-align: right;\">\n",
       "      <th></th>\n",
       "      <th>Lead Origin</th>\n",
       "      <th>Lead Source</th>\n",
       "      <th>Do Not Email</th>\n",
       "      <th>Converted</th>\n",
       "      <th>TotalVisits</th>\n",
       "      <th>Total Time Spent on Website</th>\n",
       "      <th>Page Views Per Visit</th>\n",
       "      <th>Last Activity</th>\n",
       "      <th>Specialization</th>\n",
       "      <th>What is your current occupation</th>\n",
       "      <th>A free copy of Mastering The Interview</th>\n",
       "      <th>Last Notable Activity</th>\n",
       "    </tr>\n",
       "  </thead>\n",
       "  <tbody>\n",
       "    <tr>\n",
       "      <th>0</th>\n",
       "      <td>API</td>\n",
       "      <td>Olark Chat</td>\n",
       "      <td>0</td>\n",
       "      <td>0</td>\n",
       "      <td>0.0</td>\n",
       "      <td>0</td>\n",
       "      <td>0.0</td>\n",
       "      <td>Page Visited on Website</td>\n",
       "      <td>Not Specified</td>\n",
       "      <td>Unemployed</td>\n",
       "      <td>0</td>\n",
       "      <td>Modified</td>\n",
       "    </tr>\n",
       "    <tr>\n",
       "      <th>1</th>\n",
       "      <td>API</td>\n",
       "      <td>Organic Search</td>\n",
       "      <td>0</td>\n",
       "      <td>0</td>\n",
       "      <td>5.0</td>\n",
       "      <td>674</td>\n",
       "      <td>2.5</td>\n",
       "      <td>Email Opened</td>\n",
       "      <td>Not Specified</td>\n",
       "      <td>Unemployed</td>\n",
       "      <td>0</td>\n",
       "      <td>Email Opened</td>\n",
       "    </tr>\n",
       "    <tr>\n",
       "      <th>2</th>\n",
       "      <td>Landing Page Submission</td>\n",
       "      <td>Direct Traffic</td>\n",
       "      <td>0</td>\n",
       "      <td>1</td>\n",
       "      <td>2.0</td>\n",
       "      <td>1532</td>\n",
       "      <td>2.0</td>\n",
       "      <td>Email Opened</td>\n",
       "      <td>Business Administration</td>\n",
       "      <td>Student</td>\n",
       "      <td>1</td>\n",
       "      <td>Email Opened</td>\n",
       "    </tr>\n",
       "    <tr>\n",
       "      <th>3</th>\n",
       "      <td>Landing Page Submission</td>\n",
       "      <td>Direct Traffic</td>\n",
       "      <td>0</td>\n",
       "      <td>0</td>\n",
       "      <td>1.0</td>\n",
       "      <td>305</td>\n",
       "      <td>1.0</td>\n",
       "      <td>Unreachable</td>\n",
       "      <td>Media and Advertising</td>\n",
       "      <td>Unemployed</td>\n",
       "      <td>0</td>\n",
       "      <td>Modified</td>\n",
       "    </tr>\n",
       "    <tr>\n",
       "      <th>4</th>\n",
       "      <td>Landing Page Submission</td>\n",
       "      <td>Google</td>\n",
       "      <td>0</td>\n",
       "      <td>1</td>\n",
       "      <td>2.0</td>\n",
       "      <td>1428</td>\n",
       "      <td>1.0</td>\n",
       "      <td>Converted to Lead</td>\n",
       "      <td>Not Specified</td>\n",
       "      <td>Unemployed</td>\n",
       "      <td>0</td>\n",
       "      <td>Modified</td>\n",
       "    </tr>\n",
       "  </tbody>\n",
       "</table>\n",
       "</div>"
      ],
      "text/plain": [
       "               Lead Origin     Lead Source  Do Not Email  Converted  \\\n",
       "0                      API      Olark Chat             0          0   \n",
       "1                      API  Organic Search             0          0   \n",
       "2  Landing Page Submission  Direct Traffic             0          1   \n",
       "3  Landing Page Submission  Direct Traffic             0          0   \n",
       "4  Landing Page Submission          Google             0          1   \n",
       "\n",
       "   TotalVisits  Total Time Spent on Website  Page Views Per Visit  \\\n",
       "0          0.0                            0                   0.0   \n",
       "1          5.0                          674                   2.5   \n",
       "2          2.0                         1532                   2.0   \n",
       "3          1.0                          305                   1.0   \n",
       "4          2.0                         1428                   1.0   \n",
       "\n",
       "             Last Activity           Specialization  \\\n",
       "0  Page Visited on Website            Not Specified   \n",
       "1             Email Opened            Not Specified   \n",
       "2             Email Opened  Business Administration   \n",
       "3              Unreachable    Media and Advertising   \n",
       "4        Converted to Lead            Not Specified   \n",
       "\n",
       "  What is your current occupation  A free copy of Mastering The Interview  \\\n",
       "0                      Unemployed                                       0   \n",
       "1                      Unemployed                                       0   \n",
       "2                         Student                                       1   \n",
       "3                      Unemployed                                       0   \n",
       "4                      Unemployed                                       0   \n",
       "\n",
       "  Last Notable Activity  \n",
       "0              Modified  \n",
       "1          Email Opened  \n",
       "2          Email Opened  \n",
       "3              Modified  \n",
       "4              Modified  "
      ]
     },
     "execution_count": 662,
     "metadata": {},
     "output_type": "execute_result"
    }
   ],
   "source": [
    "leads.head()"
   ]
  },
  {
   "cell_type": "code",
   "execution_count": 663,
   "metadata": {},
   "outputs": [
    {
     "name": "stdout",
     "output_type": "stream",
     "text": [
      "<class 'pandas.core.frame.DataFrame'>\n",
      "Int64Index: 9103 entries, 0 to 9239\n",
      "Data columns (total 12 columns):\n",
      " #   Column                                  Non-Null Count  Dtype  \n",
      "---  ------                                  --------------  -----  \n",
      " 0   Lead Origin                             9103 non-null   object \n",
      " 1   Lead Source                             9103 non-null   object \n",
      " 2   Do Not Email                            9103 non-null   int64  \n",
      " 3   Converted                               9103 non-null   int64  \n",
      " 4   TotalVisits                             9103 non-null   float64\n",
      " 5   Total Time Spent on Website             9103 non-null   int64  \n",
      " 6   Page Views Per Visit                    9103 non-null   float64\n",
      " 7   Last Activity                           9103 non-null   object \n",
      " 8   Specialization                          9103 non-null   object \n",
      " 9   What is your current occupation         9103 non-null   object \n",
      " 10  A free copy of Mastering The Interview  9103 non-null   int64  \n",
      " 11  Last Notable Activity                   9103 non-null   object \n",
      "dtypes: float64(2), int64(4), object(6)\n",
      "memory usage: 924.5+ KB\n"
     ]
    }
   ],
   "source": [
    "leads.info()"
   ]
  },
  {
   "cell_type": "markdown",
   "metadata": {},
   "source": [
    "#### For categorical variables with multiple levels, create dummy features "
   ]
  },
  {
   "cell_type": "code",
   "execution_count": 664,
   "metadata": {},
   "outputs": [],
   "source": [
    "# dummy encoding for the categorical variables\n",
    "dummies = pd.get_dummies(leads.select_dtypes(include=['object']), drop_first=True)\n",
    "\n",
    "# dropping the original columns and concatinating the dummy columns\n",
    "leads = leads.drop(leads.select_dtypes(include=['object']).columns, axis=1)\n",
    "leads = pd.concat([leads, dummies], axis=1)"
   ]
  },
  {
   "cell_type": "code",
   "execution_count": 665,
   "metadata": {},
   "outputs": [
    {
     "name": "stdout",
     "output_type": "stream",
     "text": [
      "<class 'pandas.core.frame.DataFrame'>\n",
      "Int64Index: 9103 entries, 0 to 9239\n",
      "Data columns (total 67 columns):\n",
      " #   Column                                                Non-Null Count  Dtype  \n",
      "---  ------                                                --------------  -----  \n",
      " 0   Do Not Email                                          9103 non-null   int64  \n",
      " 1   Converted                                             9103 non-null   int64  \n",
      " 2   TotalVisits                                           9103 non-null   float64\n",
      " 3   Total Time Spent on Website                           9103 non-null   int64  \n",
      " 4   Page Views Per Visit                                  9103 non-null   float64\n",
      " 5   A free copy of Mastering The Interview                9103 non-null   int64  \n",
      " 6   Lead Origin_Landing Page Submission                   9103 non-null   uint8  \n",
      " 7   Lead Origin_Lead Add Form                             9103 non-null   uint8  \n",
      " 8   Lead Origin_Lead Import                               9103 non-null   uint8  \n",
      " 9   Lead Source_Google                                    9103 non-null   uint8  \n",
      " 10  Lead Source_Live Chat                                 9103 non-null   uint8  \n",
      " 11  Lead Source_Olark Chat                                9103 non-null   uint8  \n",
      " 12  Lead Source_Organic Search                            9103 non-null   uint8  \n",
      " 13  Lead Source_Others                                    9103 non-null   uint8  \n",
      " 14  Lead Source_Reference                                 9103 non-null   uint8  \n",
      " 15  Lead Source_Referral Sites                            9103 non-null   uint8  \n",
      " 16  Lead Source_Social Media                              9103 non-null   uint8  \n",
      " 17  Lead Source_Welingak Website                          9103 non-null   uint8  \n",
      " 18  Last Activity_Email Bounced                           9103 non-null   uint8  \n",
      " 19  Last Activity_Email Link Clicked                      9103 non-null   uint8  \n",
      " 20  Last Activity_Email Opened                            9103 non-null   uint8  \n",
      " 21  Last Activity_Form Submitted on Website               9103 non-null   uint8  \n",
      " 22  Last Activity_Olark Chat Conversation                 9103 non-null   uint8  \n",
      " 23  Last Activity_Others                                  9103 non-null   uint8  \n",
      " 24  Last Activity_Page Visited on Website                 9103 non-null   uint8  \n",
      " 25  Last Activity_SMS Sent                                9103 non-null   uint8  \n",
      " 26  Last Activity_Unreachable                             9103 non-null   uint8  \n",
      " 27  Last Activity_Unsubscribed                            9103 non-null   uint8  \n",
      " 28  Specialization_Business Administration                9103 non-null   uint8  \n",
      " 29  Specialization_E-Business                             9103 non-null   uint8  \n",
      " 30  Specialization_E-COMMERCE                             9103 non-null   uint8  \n",
      " 31  Specialization_Finance Management                     9103 non-null   uint8  \n",
      " 32  Specialization_Healthcare Management                  9103 non-null   uint8  \n",
      " 33  Specialization_Hospitality Management                 9103 non-null   uint8  \n",
      " 34  Specialization_Human Resource Management              9103 non-null   uint8  \n",
      " 35  Specialization_IT Projects Management                 9103 non-null   uint8  \n",
      " 36  Specialization_International Business                 9103 non-null   uint8  \n",
      " 37  Specialization_Marketing Management                   9103 non-null   uint8  \n",
      " 38  Specialization_Media and Advertising                  9103 non-null   uint8  \n",
      " 39  Specialization_Not Specified                          9103 non-null   uint8  \n",
      " 40  Specialization_Operations Management                  9103 non-null   uint8  \n",
      " 41  Specialization_Retail Management                      9103 non-null   uint8  \n",
      " 42  Specialization_Rural and Agribusiness                 9103 non-null   uint8  \n",
      " 43  Specialization_Services Excellence                    9103 non-null   uint8  \n",
      " 44  Specialization_Supply Chain Management                9103 non-null   uint8  \n",
      " 45  Specialization_Travel and Tourism                     9103 non-null   uint8  \n",
      " 46  What is your current occupation_Housewife             9103 non-null   uint8  \n",
      " 47  What is your current occupation_Other                 9103 non-null   uint8  \n",
      " 48  What is your current occupation_Student               9103 non-null   uint8  \n",
      " 49  What is your current occupation_Unemployed            9103 non-null   uint8  \n",
      " 50  What is your current occupation_Unknown               9103 non-null   uint8  \n",
      " 51  What is your current occupation_Working Professional  9103 non-null   uint8  \n",
      " 52  Last Notable Activity_Email Bounced                   9103 non-null   uint8  \n",
      " 53  Last Notable Activity_Email Link Clicked              9103 non-null   uint8  \n",
      " 54  Last Notable Activity_Email Marked Spam               9103 non-null   uint8  \n",
      " 55  Last Notable Activity_Email Opened                    9103 non-null   uint8  \n",
      " 56  Last Notable Activity_Email Received                  9103 non-null   uint8  \n",
      " 57  Last Notable Activity_Form Submitted on Website       9103 non-null   uint8  \n",
      " 58  Last Notable Activity_Had a Phone Conversation        9103 non-null   uint8  \n",
      " 59  Last Notable Activity_Modified                        9103 non-null   uint8  \n",
      " 60  Last Notable Activity_Olark Chat Conversation         9103 non-null   uint8  \n",
      " 61  Last Notable Activity_Page Visited on Website         9103 non-null   uint8  \n",
      " 62  Last Notable Activity_Resubscribed to emails          9103 non-null   uint8  \n",
      " 63  Last Notable Activity_SMS Sent                        9103 non-null   uint8  \n",
      " 64  Last Notable Activity_Unreachable                     9103 non-null   uint8  \n",
      " 65  Last Notable Activity_Unsubscribed                    9103 non-null   uint8  \n",
      " 66  Last Notable Activity_View in browser link Clicked    9103 non-null   uint8  \n",
      "dtypes: float64(2), int64(4), uint8(61)\n",
      "memory usage: 1.0 MB\n"
     ]
    }
   ],
   "source": [
    "leads.info()"
   ]
  },
  {
   "cell_type": "code",
   "execution_count": 666,
   "metadata": {},
   "outputs": [
    {
     "data": {
      "text/html": [
       "<div>\n",
       "<style scoped>\n",
       "    .dataframe tbody tr th:only-of-type {\n",
       "        vertical-align: middle;\n",
       "    }\n",
       "\n",
       "    .dataframe tbody tr th {\n",
       "        vertical-align: top;\n",
       "    }\n",
       "\n",
       "    .dataframe thead th {\n",
       "        text-align: right;\n",
       "    }\n",
       "</style>\n",
       "<table border=\"1\" class=\"dataframe\">\n",
       "  <thead>\n",
       "    <tr style=\"text-align: right;\">\n",
       "      <th></th>\n",
       "      <th>Do Not Email</th>\n",
       "      <th>Converted</th>\n",
       "      <th>TotalVisits</th>\n",
       "      <th>Total Time Spent on Website</th>\n",
       "      <th>Page Views Per Visit</th>\n",
       "      <th>A free copy of Mastering The Interview</th>\n",
       "      <th>Lead Origin_Landing Page Submission</th>\n",
       "      <th>Lead Origin_Lead Add Form</th>\n",
       "      <th>Lead Origin_Lead Import</th>\n",
       "      <th>Lead Source_Google</th>\n",
       "      <th>...</th>\n",
       "      <th>Last Notable Activity_Form Submitted on Website</th>\n",
       "      <th>Last Notable Activity_Had a Phone Conversation</th>\n",
       "      <th>Last Notable Activity_Modified</th>\n",
       "      <th>Last Notable Activity_Olark Chat Conversation</th>\n",
       "      <th>Last Notable Activity_Page Visited on Website</th>\n",
       "      <th>Last Notable Activity_Resubscribed to emails</th>\n",
       "      <th>Last Notable Activity_SMS Sent</th>\n",
       "      <th>Last Notable Activity_Unreachable</th>\n",
       "      <th>Last Notable Activity_Unsubscribed</th>\n",
       "      <th>Last Notable Activity_View in browser link Clicked</th>\n",
       "    </tr>\n",
       "  </thead>\n",
       "  <tbody>\n",
       "    <tr>\n",
       "      <th>0</th>\n",
       "      <td>0</td>\n",
       "      <td>0</td>\n",
       "      <td>0.0</td>\n",
       "      <td>0</td>\n",
       "      <td>0.0</td>\n",
       "      <td>0</td>\n",
       "      <td>0</td>\n",
       "      <td>0</td>\n",
       "      <td>0</td>\n",
       "      <td>0</td>\n",
       "      <td>...</td>\n",
       "      <td>0</td>\n",
       "      <td>0</td>\n",
       "      <td>1</td>\n",
       "      <td>0</td>\n",
       "      <td>0</td>\n",
       "      <td>0</td>\n",
       "      <td>0</td>\n",
       "      <td>0</td>\n",
       "      <td>0</td>\n",
       "      <td>0</td>\n",
       "    </tr>\n",
       "    <tr>\n",
       "      <th>1</th>\n",
       "      <td>0</td>\n",
       "      <td>0</td>\n",
       "      <td>5.0</td>\n",
       "      <td>674</td>\n",
       "      <td>2.5</td>\n",
       "      <td>0</td>\n",
       "      <td>0</td>\n",
       "      <td>0</td>\n",
       "      <td>0</td>\n",
       "      <td>0</td>\n",
       "      <td>...</td>\n",
       "      <td>0</td>\n",
       "      <td>0</td>\n",
       "      <td>0</td>\n",
       "      <td>0</td>\n",
       "      <td>0</td>\n",
       "      <td>0</td>\n",
       "      <td>0</td>\n",
       "      <td>0</td>\n",
       "      <td>0</td>\n",
       "      <td>0</td>\n",
       "    </tr>\n",
       "    <tr>\n",
       "      <th>2</th>\n",
       "      <td>0</td>\n",
       "      <td>1</td>\n",
       "      <td>2.0</td>\n",
       "      <td>1532</td>\n",
       "      <td>2.0</td>\n",
       "      <td>1</td>\n",
       "      <td>1</td>\n",
       "      <td>0</td>\n",
       "      <td>0</td>\n",
       "      <td>0</td>\n",
       "      <td>...</td>\n",
       "      <td>0</td>\n",
       "      <td>0</td>\n",
       "      <td>0</td>\n",
       "      <td>0</td>\n",
       "      <td>0</td>\n",
       "      <td>0</td>\n",
       "      <td>0</td>\n",
       "      <td>0</td>\n",
       "      <td>0</td>\n",
       "      <td>0</td>\n",
       "    </tr>\n",
       "    <tr>\n",
       "      <th>3</th>\n",
       "      <td>0</td>\n",
       "      <td>0</td>\n",
       "      <td>1.0</td>\n",
       "      <td>305</td>\n",
       "      <td>1.0</td>\n",
       "      <td>0</td>\n",
       "      <td>1</td>\n",
       "      <td>0</td>\n",
       "      <td>0</td>\n",
       "      <td>0</td>\n",
       "      <td>...</td>\n",
       "      <td>0</td>\n",
       "      <td>0</td>\n",
       "      <td>1</td>\n",
       "      <td>0</td>\n",
       "      <td>0</td>\n",
       "      <td>0</td>\n",
       "      <td>0</td>\n",
       "      <td>0</td>\n",
       "      <td>0</td>\n",
       "      <td>0</td>\n",
       "    </tr>\n",
       "    <tr>\n",
       "      <th>4</th>\n",
       "      <td>0</td>\n",
       "      <td>1</td>\n",
       "      <td>2.0</td>\n",
       "      <td>1428</td>\n",
       "      <td>1.0</td>\n",
       "      <td>0</td>\n",
       "      <td>1</td>\n",
       "      <td>0</td>\n",
       "      <td>0</td>\n",
       "      <td>1</td>\n",
       "      <td>...</td>\n",
       "      <td>0</td>\n",
       "      <td>0</td>\n",
       "      <td>1</td>\n",
       "      <td>0</td>\n",
       "      <td>0</td>\n",
       "      <td>0</td>\n",
       "      <td>0</td>\n",
       "      <td>0</td>\n",
       "      <td>0</td>\n",
       "      <td>0</td>\n",
       "    </tr>\n",
       "  </tbody>\n",
       "</table>\n",
       "<p>5 rows × 67 columns</p>\n",
       "</div>"
      ],
      "text/plain": [
       "   Do Not Email  Converted  TotalVisits  Total Time Spent on Website  \\\n",
       "0             0          0          0.0                            0   \n",
       "1             0          0          5.0                          674   \n",
       "2             0          1          2.0                         1532   \n",
       "3             0          0          1.0                          305   \n",
       "4             0          1          2.0                         1428   \n",
       "\n",
       "   Page Views Per Visit  A free copy of Mastering The Interview  \\\n",
       "0                   0.0                                       0   \n",
       "1                   2.5                                       0   \n",
       "2                   2.0                                       1   \n",
       "3                   1.0                                       0   \n",
       "4                   1.0                                       0   \n",
       "\n",
       "   Lead Origin_Landing Page Submission  Lead Origin_Lead Add Form  \\\n",
       "0                                    0                          0   \n",
       "1                                    0                          0   \n",
       "2                                    1                          0   \n",
       "3                                    1                          0   \n",
       "4                                    1                          0   \n",
       "\n",
       "   Lead Origin_Lead Import  Lead Source_Google  ...  \\\n",
       "0                        0                   0  ...   \n",
       "1                        0                   0  ...   \n",
       "2                        0                   0  ...   \n",
       "3                        0                   0  ...   \n",
       "4                        0                   1  ...   \n",
       "\n",
       "   Last Notable Activity_Form Submitted on Website  \\\n",
       "0                                                0   \n",
       "1                                                0   \n",
       "2                                                0   \n",
       "3                                                0   \n",
       "4                                                0   \n",
       "\n",
       "   Last Notable Activity_Had a Phone Conversation  \\\n",
       "0                                               0   \n",
       "1                                               0   \n",
       "2                                               0   \n",
       "3                                               0   \n",
       "4                                               0   \n",
       "\n",
       "   Last Notable Activity_Modified  \\\n",
       "0                               1   \n",
       "1                               0   \n",
       "2                               0   \n",
       "3                               1   \n",
       "4                               1   \n",
       "\n",
       "   Last Notable Activity_Olark Chat Conversation  \\\n",
       "0                                              0   \n",
       "1                                              0   \n",
       "2                                              0   \n",
       "3                                              0   \n",
       "4                                              0   \n",
       "\n",
       "   Last Notable Activity_Page Visited on Website  \\\n",
       "0                                              0   \n",
       "1                                              0   \n",
       "2                                              0   \n",
       "3                                              0   \n",
       "4                                              0   \n",
       "\n",
       "   Last Notable Activity_Resubscribed to emails  \\\n",
       "0                                             0   \n",
       "1                                             0   \n",
       "2                                             0   \n",
       "3                                             0   \n",
       "4                                             0   \n",
       "\n",
       "   Last Notable Activity_SMS Sent  Last Notable Activity_Unreachable  \\\n",
       "0                               0                                  0   \n",
       "1                               0                                  0   \n",
       "2                               0                                  0   \n",
       "3                               0                                  0   \n",
       "4                               0                                  0   \n",
       "\n",
       "   Last Notable Activity_Unsubscribed  \\\n",
       "0                                   0   \n",
       "1                                   0   \n",
       "2                                   0   \n",
       "3                                   0   \n",
       "4                                   0   \n",
       "\n",
       "   Last Notable Activity_View in browser link Clicked  \n",
       "0                                                  0   \n",
       "1                                                  0   \n",
       "2                                                  0   \n",
       "3                                                  0   \n",
       "4                                                  0   \n",
       "\n",
       "[5 rows x 67 columns]"
      ]
     },
     "execution_count": 666,
     "metadata": {},
     "output_type": "execute_result"
    }
   ],
   "source": [
    "leads.head()"
   ]
  },
  {
   "cell_type": "code",
   "execution_count": 667,
   "metadata": {},
   "outputs": [
    {
     "data": {
      "text/plain": [
       "38.02043282434362"
      ]
     },
     "execution_count": 667,
     "metadata": {},
     "output_type": "execute_result"
    }
   ],
   "source": [
    "#Check the % of Data that has Converted Values = 1:\n",
    "\n",
    "Converted = (sum(leads['Converted'])/len(leads['Converted'].index))*100\n",
    "Converted"
   ]
  },
  {
   "cell_type": "code",
   "execution_count": 668,
   "metadata": {},
   "outputs": [],
   "source": [
    "## This shows there is no signifcant class imbalance with Coverted variable"
   ]
  },
  {
   "cell_type": "markdown",
   "metadata": {},
   "source": [
    "### Step 4: Test-Train Split"
   ]
  },
  {
   "cell_type": "code",
   "execution_count": 669,
   "metadata": {},
   "outputs": [],
   "source": [
    "from sklearn.model_selection import train_test_split"
   ]
  },
  {
   "cell_type": "code",
   "execution_count": 670,
   "metadata": {},
   "outputs": [
    {
     "data": {
      "text/html": [
       "<div>\n",
       "<style scoped>\n",
       "    .dataframe tbody tr th:only-of-type {\n",
       "        vertical-align: middle;\n",
       "    }\n",
       "\n",
       "    .dataframe tbody tr th {\n",
       "        vertical-align: top;\n",
       "    }\n",
       "\n",
       "    .dataframe thead th {\n",
       "        text-align: right;\n",
       "    }\n",
       "</style>\n",
       "<table border=\"1\" class=\"dataframe\">\n",
       "  <thead>\n",
       "    <tr style=\"text-align: right;\">\n",
       "      <th></th>\n",
       "      <th>Do Not Email</th>\n",
       "      <th>TotalVisits</th>\n",
       "      <th>Total Time Spent on Website</th>\n",
       "      <th>Page Views Per Visit</th>\n",
       "      <th>A free copy of Mastering The Interview</th>\n",
       "      <th>Lead Origin_Landing Page Submission</th>\n",
       "      <th>Lead Origin_Lead Add Form</th>\n",
       "      <th>Lead Origin_Lead Import</th>\n",
       "      <th>Lead Source_Google</th>\n",
       "      <th>Lead Source_Live Chat</th>\n",
       "      <th>...</th>\n",
       "      <th>Last Notable Activity_Form Submitted on Website</th>\n",
       "      <th>Last Notable Activity_Had a Phone Conversation</th>\n",
       "      <th>Last Notable Activity_Modified</th>\n",
       "      <th>Last Notable Activity_Olark Chat Conversation</th>\n",
       "      <th>Last Notable Activity_Page Visited on Website</th>\n",
       "      <th>Last Notable Activity_Resubscribed to emails</th>\n",
       "      <th>Last Notable Activity_SMS Sent</th>\n",
       "      <th>Last Notable Activity_Unreachable</th>\n",
       "      <th>Last Notable Activity_Unsubscribed</th>\n",
       "      <th>Last Notable Activity_View in browser link Clicked</th>\n",
       "    </tr>\n",
       "  </thead>\n",
       "  <tbody>\n",
       "    <tr>\n",
       "      <th>0</th>\n",
       "      <td>0</td>\n",
       "      <td>0.0</td>\n",
       "      <td>0</td>\n",
       "      <td>0.0</td>\n",
       "      <td>0</td>\n",
       "      <td>0</td>\n",
       "      <td>0</td>\n",
       "      <td>0</td>\n",
       "      <td>0</td>\n",
       "      <td>0</td>\n",
       "      <td>...</td>\n",
       "      <td>0</td>\n",
       "      <td>0</td>\n",
       "      <td>1</td>\n",
       "      <td>0</td>\n",
       "      <td>0</td>\n",
       "      <td>0</td>\n",
       "      <td>0</td>\n",
       "      <td>0</td>\n",
       "      <td>0</td>\n",
       "      <td>0</td>\n",
       "    </tr>\n",
       "    <tr>\n",
       "      <th>1</th>\n",
       "      <td>0</td>\n",
       "      <td>5.0</td>\n",
       "      <td>674</td>\n",
       "      <td>2.5</td>\n",
       "      <td>0</td>\n",
       "      <td>0</td>\n",
       "      <td>0</td>\n",
       "      <td>0</td>\n",
       "      <td>0</td>\n",
       "      <td>0</td>\n",
       "      <td>...</td>\n",
       "      <td>0</td>\n",
       "      <td>0</td>\n",
       "      <td>0</td>\n",
       "      <td>0</td>\n",
       "      <td>0</td>\n",
       "      <td>0</td>\n",
       "      <td>0</td>\n",
       "      <td>0</td>\n",
       "      <td>0</td>\n",
       "      <td>0</td>\n",
       "    </tr>\n",
       "    <tr>\n",
       "      <th>2</th>\n",
       "      <td>0</td>\n",
       "      <td>2.0</td>\n",
       "      <td>1532</td>\n",
       "      <td>2.0</td>\n",
       "      <td>1</td>\n",
       "      <td>1</td>\n",
       "      <td>0</td>\n",
       "      <td>0</td>\n",
       "      <td>0</td>\n",
       "      <td>0</td>\n",
       "      <td>...</td>\n",
       "      <td>0</td>\n",
       "      <td>0</td>\n",
       "      <td>0</td>\n",
       "      <td>0</td>\n",
       "      <td>0</td>\n",
       "      <td>0</td>\n",
       "      <td>0</td>\n",
       "      <td>0</td>\n",
       "      <td>0</td>\n",
       "      <td>0</td>\n",
       "    </tr>\n",
       "    <tr>\n",
       "      <th>3</th>\n",
       "      <td>0</td>\n",
       "      <td>1.0</td>\n",
       "      <td>305</td>\n",
       "      <td>1.0</td>\n",
       "      <td>0</td>\n",
       "      <td>1</td>\n",
       "      <td>0</td>\n",
       "      <td>0</td>\n",
       "      <td>0</td>\n",
       "      <td>0</td>\n",
       "      <td>...</td>\n",
       "      <td>0</td>\n",
       "      <td>0</td>\n",
       "      <td>1</td>\n",
       "      <td>0</td>\n",
       "      <td>0</td>\n",
       "      <td>0</td>\n",
       "      <td>0</td>\n",
       "      <td>0</td>\n",
       "      <td>0</td>\n",
       "      <td>0</td>\n",
       "    </tr>\n",
       "    <tr>\n",
       "      <th>4</th>\n",
       "      <td>0</td>\n",
       "      <td>2.0</td>\n",
       "      <td>1428</td>\n",
       "      <td>1.0</td>\n",
       "      <td>0</td>\n",
       "      <td>1</td>\n",
       "      <td>0</td>\n",
       "      <td>0</td>\n",
       "      <td>1</td>\n",
       "      <td>0</td>\n",
       "      <td>...</td>\n",
       "      <td>0</td>\n",
       "      <td>0</td>\n",
       "      <td>1</td>\n",
       "      <td>0</td>\n",
       "      <td>0</td>\n",
       "      <td>0</td>\n",
       "      <td>0</td>\n",
       "      <td>0</td>\n",
       "      <td>0</td>\n",
       "      <td>0</td>\n",
       "    </tr>\n",
       "  </tbody>\n",
       "</table>\n",
       "<p>5 rows × 66 columns</p>\n",
       "</div>"
      ],
      "text/plain": [
       "   Do Not Email  TotalVisits  Total Time Spent on Website  \\\n",
       "0             0          0.0                            0   \n",
       "1             0          5.0                          674   \n",
       "2             0          2.0                         1532   \n",
       "3             0          1.0                          305   \n",
       "4             0          2.0                         1428   \n",
       "\n",
       "   Page Views Per Visit  A free copy of Mastering The Interview  \\\n",
       "0                   0.0                                       0   \n",
       "1                   2.5                                       0   \n",
       "2                   2.0                                       1   \n",
       "3                   1.0                                       0   \n",
       "4                   1.0                                       0   \n",
       "\n",
       "   Lead Origin_Landing Page Submission  Lead Origin_Lead Add Form  \\\n",
       "0                                    0                          0   \n",
       "1                                    0                          0   \n",
       "2                                    1                          0   \n",
       "3                                    1                          0   \n",
       "4                                    1                          0   \n",
       "\n",
       "   Lead Origin_Lead Import  Lead Source_Google  Lead Source_Live Chat  ...  \\\n",
       "0                        0                   0                      0  ...   \n",
       "1                        0                   0                      0  ...   \n",
       "2                        0                   0                      0  ...   \n",
       "3                        0                   0                      0  ...   \n",
       "4                        0                   1                      0  ...   \n",
       "\n",
       "   Last Notable Activity_Form Submitted on Website  \\\n",
       "0                                                0   \n",
       "1                                                0   \n",
       "2                                                0   \n",
       "3                                                0   \n",
       "4                                                0   \n",
       "\n",
       "   Last Notable Activity_Had a Phone Conversation  \\\n",
       "0                                               0   \n",
       "1                                               0   \n",
       "2                                               0   \n",
       "3                                               0   \n",
       "4                                               0   \n",
       "\n",
       "   Last Notable Activity_Modified  \\\n",
       "0                               1   \n",
       "1                               0   \n",
       "2                               0   \n",
       "3                               1   \n",
       "4                               1   \n",
       "\n",
       "   Last Notable Activity_Olark Chat Conversation  \\\n",
       "0                                              0   \n",
       "1                                              0   \n",
       "2                                              0   \n",
       "3                                              0   \n",
       "4                                              0   \n",
       "\n",
       "   Last Notable Activity_Page Visited on Website  \\\n",
       "0                                              0   \n",
       "1                                              0   \n",
       "2                                              0   \n",
       "3                                              0   \n",
       "4                                              0   \n",
       "\n",
       "   Last Notable Activity_Resubscribed to emails  \\\n",
       "0                                             0   \n",
       "1                                             0   \n",
       "2                                             0   \n",
       "3                                             0   \n",
       "4                                             0   \n",
       "\n",
       "   Last Notable Activity_SMS Sent  Last Notable Activity_Unreachable  \\\n",
       "0                               0                                  0   \n",
       "1                               0                                  0   \n",
       "2                               0                                  0   \n",
       "3                               0                                  0   \n",
       "4                               0                                  0   \n",
       "\n",
       "   Last Notable Activity_Unsubscribed  \\\n",
       "0                                   0   \n",
       "1                                   0   \n",
       "2                                   0   \n",
       "3                                   0   \n",
       "4                                   0   \n",
       "\n",
       "   Last Notable Activity_View in browser link Clicked  \n",
       "0                                                  0   \n",
       "1                                                  0   \n",
       "2                                                  0   \n",
       "3                                                  0   \n",
       "4                                                  0   \n",
       "\n",
       "[5 rows x 66 columns]"
      ]
     },
     "execution_count": 670,
     "metadata": {},
     "output_type": "execute_result"
    }
   ],
   "source": [
    "# Putting feature variable to X\n",
    "X = leads.drop(['Converted'], axis=1)\n",
    "\n",
    "X.head()"
   ]
  },
  {
   "cell_type": "code",
   "execution_count": 671,
   "metadata": {
    "scrolled": true
   },
   "outputs": [
    {
     "data": {
      "text/plain": [
       "0    0\n",
       "1    0\n",
       "2    1\n",
       "3    0\n",
       "4    1\n",
       "Name: Converted, dtype: int64"
      ]
     },
     "execution_count": 671,
     "metadata": {},
     "output_type": "execute_result"
    }
   ],
   "source": [
    "# Putting response variable to y\n",
    "y = leads['Converted']\n",
    "\n",
    "y.head()"
   ]
  },
  {
   "cell_type": "code",
   "execution_count": 672,
   "metadata": {},
   "outputs": [],
   "source": [
    "# Splitting the data into train and test\n",
    "X_train, X_test, y_train, y_test = train_test_split(X, y, train_size=0.7, test_size=0.3, random_state=100)"
   ]
  },
  {
   "cell_type": "markdown",
   "metadata": {},
   "source": [
    "### Step 5: Feature Scaling"
   ]
  },
  {
   "cell_type": "code",
   "execution_count": 673,
   "metadata": {},
   "outputs": [],
   "source": [
    "from sklearn.preprocessing import MinMaxScaler"
   ]
  },
  {
   "cell_type": "code",
   "execution_count": 674,
   "metadata": {},
   "outputs": [
    {
     "data": {
      "text/html": [
       "<div>\n",
       "<style scoped>\n",
       "    .dataframe tbody tr th:only-of-type {\n",
       "        vertical-align: middle;\n",
       "    }\n",
       "\n",
       "    .dataframe tbody tr th {\n",
       "        vertical-align: top;\n",
       "    }\n",
       "\n",
       "    .dataframe thead th {\n",
       "        text-align: right;\n",
       "    }\n",
       "</style>\n",
       "<table border=\"1\" class=\"dataframe\">\n",
       "  <thead>\n",
       "    <tr style=\"text-align: right;\">\n",
       "      <th></th>\n",
       "      <th>Do Not Email</th>\n",
       "      <th>TotalVisits</th>\n",
       "      <th>Total Time Spent on Website</th>\n",
       "      <th>Page Views Per Visit</th>\n",
       "      <th>A free copy of Mastering The Interview</th>\n",
       "      <th>Lead Origin_Landing Page Submission</th>\n",
       "      <th>Lead Origin_Lead Add Form</th>\n",
       "      <th>Lead Origin_Lead Import</th>\n",
       "      <th>Lead Source_Google</th>\n",
       "      <th>Lead Source_Live Chat</th>\n",
       "      <th>...</th>\n",
       "      <th>Last Notable Activity_Form Submitted on Website</th>\n",
       "      <th>Last Notable Activity_Had a Phone Conversation</th>\n",
       "      <th>Last Notable Activity_Modified</th>\n",
       "      <th>Last Notable Activity_Olark Chat Conversation</th>\n",
       "      <th>Last Notable Activity_Page Visited on Website</th>\n",
       "      <th>Last Notable Activity_Resubscribed to emails</th>\n",
       "      <th>Last Notable Activity_SMS Sent</th>\n",
       "      <th>Last Notable Activity_Unreachable</th>\n",
       "      <th>Last Notable Activity_Unsubscribed</th>\n",
       "      <th>Last Notable Activity_View in browser link Clicked</th>\n",
       "    </tr>\n",
       "  </thead>\n",
       "  <tbody>\n",
       "    <tr>\n",
       "      <th>7962</th>\n",
       "      <td>0</td>\n",
       "      <td>0.011952</td>\n",
       "      <td>0.570794</td>\n",
       "      <td>0.027273</td>\n",
       "      <td>0</td>\n",
       "      <td>1</td>\n",
       "      <td>0</td>\n",
       "      <td>0</td>\n",
       "      <td>1</td>\n",
       "      <td>0</td>\n",
       "      <td>...</td>\n",
       "      <td>0</td>\n",
       "      <td>0</td>\n",
       "      <td>0</td>\n",
       "      <td>0</td>\n",
       "      <td>0</td>\n",
       "      <td>0</td>\n",
       "      <td>1</td>\n",
       "      <td>0</td>\n",
       "      <td>0</td>\n",
       "      <td>0</td>\n",
       "    </tr>\n",
       "    <tr>\n",
       "      <th>5520</th>\n",
       "      <td>0</td>\n",
       "      <td>0.027888</td>\n",
       "      <td>0.026631</td>\n",
       "      <td>0.127273</td>\n",
       "      <td>0</td>\n",
       "      <td>1</td>\n",
       "      <td>0</td>\n",
       "      <td>0</td>\n",
       "      <td>0</td>\n",
       "      <td>0</td>\n",
       "      <td>...</td>\n",
       "      <td>0</td>\n",
       "      <td>0</td>\n",
       "      <td>0</td>\n",
       "      <td>0</td>\n",
       "      <td>0</td>\n",
       "      <td>0</td>\n",
       "      <td>0</td>\n",
       "      <td>0</td>\n",
       "      <td>0</td>\n",
       "      <td>0</td>\n",
       "    </tr>\n",
       "    <tr>\n",
       "      <th>1962</th>\n",
       "      <td>0</td>\n",
       "      <td>0.019920</td>\n",
       "      <td>0.075011</td>\n",
       "      <td>0.045455</td>\n",
       "      <td>0</td>\n",
       "      <td>1</td>\n",
       "      <td>0</td>\n",
       "      <td>0</td>\n",
       "      <td>1</td>\n",
       "      <td>0</td>\n",
       "      <td>...</td>\n",
       "      <td>0</td>\n",
       "      <td>0</td>\n",
       "      <td>1</td>\n",
       "      <td>0</td>\n",
       "      <td>0</td>\n",
       "      <td>0</td>\n",
       "      <td>0</td>\n",
       "      <td>0</td>\n",
       "      <td>0</td>\n",
       "      <td>0</td>\n",
       "    </tr>\n",
       "    <tr>\n",
       "      <th>1566</th>\n",
       "      <td>0</td>\n",
       "      <td>0.055777</td>\n",
       "      <td>0.550821</td>\n",
       "      <td>0.063636</td>\n",
       "      <td>0</td>\n",
       "      <td>1</td>\n",
       "      <td>0</td>\n",
       "      <td>0</td>\n",
       "      <td>1</td>\n",
       "      <td>0</td>\n",
       "      <td>...</td>\n",
       "      <td>0</td>\n",
       "      <td>0</td>\n",
       "      <td>0</td>\n",
       "      <td>0</td>\n",
       "      <td>0</td>\n",
       "      <td>0</td>\n",
       "      <td>0</td>\n",
       "      <td>0</td>\n",
       "      <td>0</td>\n",
       "      <td>0</td>\n",
       "    </tr>\n",
       "    <tr>\n",
       "      <th>9170</th>\n",
       "      <td>0</td>\n",
       "      <td>0.000000</td>\n",
       "      <td>0.000000</td>\n",
       "      <td>0.000000</td>\n",
       "      <td>0</td>\n",
       "      <td>0</td>\n",
       "      <td>0</td>\n",
       "      <td>0</td>\n",
       "      <td>0</td>\n",
       "      <td>0</td>\n",
       "      <td>...</td>\n",
       "      <td>0</td>\n",
       "      <td>0</td>\n",
       "      <td>0</td>\n",
       "      <td>0</td>\n",
       "      <td>0</td>\n",
       "      <td>0</td>\n",
       "      <td>0</td>\n",
       "      <td>0</td>\n",
       "      <td>0</td>\n",
       "      <td>0</td>\n",
       "    </tr>\n",
       "  </tbody>\n",
       "</table>\n",
       "<p>5 rows × 66 columns</p>\n",
       "</div>"
      ],
      "text/plain": [
       "      Do Not Email  TotalVisits  Total Time Spent on Website  \\\n",
       "7962             0     0.011952                     0.570794   \n",
       "5520             0     0.027888                     0.026631   \n",
       "1962             0     0.019920                     0.075011   \n",
       "1566             0     0.055777                     0.550821   \n",
       "9170             0     0.000000                     0.000000   \n",
       "\n",
       "      Page Views Per Visit  A free copy of Mastering The Interview  \\\n",
       "7962              0.027273                                       0   \n",
       "5520              0.127273                                       0   \n",
       "1962              0.045455                                       0   \n",
       "1566              0.063636                                       0   \n",
       "9170              0.000000                                       0   \n",
       "\n",
       "      Lead Origin_Landing Page Submission  Lead Origin_Lead Add Form  \\\n",
       "7962                                    1                          0   \n",
       "5520                                    1                          0   \n",
       "1962                                    1                          0   \n",
       "1566                                    1                          0   \n",
       "9170                                    0                          0   \n",
       "\n",
       "      Lead Origin_Lead Import  Lead Source_Google  Lead Source_Live Chat  ...  \\\n",
       "7962                        0                   1                      0  ...   \n",
       "5520                        0                   0                      0  ...   \n",
       "1962                        0                   1                      0  ...   \n",
       "1566                        0                   1                      0  ...   \n",
       "9170                        0                   0                      0  ...   \n",
       "\n",
       "      Last Notable Activity_Form Submitted on Website  \\\n",
       "7962                                                0   \n",
       "5520                                                0   \n",
       "1962                                                0   \n",
       "1566                                                0   \n",
       "9170                                                0   \n",
       "\n",
       "      Last Notable Activity_Had a Phone Conversation  \\\n",
       "7962                                               0   \n",
       "5520                                               0   \n",
       "1962                                               0   \n",
       "1566                                               0   \n",
       "9170                                               0   \n",
       "\n",
       "      Last Notable Activity_Modified  \\\n",
       "7962                               0   \n",
       "5520                               0   \n",
       "1962                               1   \n",
       "1566                               0   \n",
       "9170                               0   \n",
       "\n",
       "      Last Notable Activity_Olark Chat Conversation  \\\n",
       "7962                                              0   \n",
       "5520                                              0   \n",
       "1962                                              0   \n",
       "1566                                              0   \n",
       "9170                                              0   \n",
       "\n",
       "      Last Notable Activity_Page Visited on Website  \\\n",
       "7962                                              0   \n",
       "5520                                              0   \n",
       "1962                                              0   \n",
       "1566                                              0   \n",
       "9170                                              0   \n",
       "\n",
       "      Last Notable Activity_Resubscribed to emails  \\\n",
       "7962                                             0   \n",
       "5520                                             0   \n",
       "1962                                             0   \n",
       "1566                                             0   \n",
       "9170                                             0   \n",
       "\n",
       "      Last Notable Activity_SMS Sent  Last Notable Activity_Unreachable  \\\n",
       "7962                               1                                  0   \n",
       "5520                               0                                  0   \n",
       "1962                               0                                  0   \n",
       "1566                               0                                  0   \n",
       "9170                               0                                  0   \n",
       "\n",
       "      Last Notable Activity_Unsubscribed  \\\n",
       "7962                                   0   \n",
       "5520                                   0   \n",
       "1962                                   0   \n",
       "1566                                   0   \n",
       "9170                                   0   \n",
       "\n",
       "      Last Notable Activity_View in browser link Clicked  \n",
       "7962                                                  0   \n",
       "5520                                                  0   \n",
       "1962                                                  0   \n",
       "1566                                                  0   \n",
       "9170                                                  0   \n",
       "\n",
       "[5 rows x 66 columns]"
      ]
     },
     "execution_count": 674,
     "metadata": {},
     "output_type": "execute_result"
    }
   ],
   "source": [
    "scaler = MinMaxScaler()\n",
    "\n",
    "X_train[['TotalVisits', 'Page Views Per Visit', 'Total Time Spent on Website']] = scaler.fit_transform(X_train[['TotalVisits', 'Page Views Per Visit', 'Total Time Spent on Website']])\n",
    "X_train.head()"
   ]
  },
  {
   "cell_type": "code",
   "execution_count": 675,
   "metadata": {},
   "outputs": [
    {
     "data": {
      "text/plain": [
       "38.02043282434362"
      ]
     },
     "execution_count": 675,
     "metadata": {},
     "output_type": "execute_result"
    }
   ],
   "source": [
    "### Checking the Churn Rate\n",
    "convertion = (sum(leads['Converted'])/len(leads['Converted'].index))*100\n",
    "convertion"
   ]
  },
  {
   "cell_type": "markdown",
   "metadata": {},
   "source": [
    "### Step 6: Looking at Correlations"
   ]
  },
  {
   "cell_type": "code",
   "execution_count": 676,
   "metadata": {},
   "outputs": [],
   "source": [
    "# Importing matplotlib and seaborn\n",
    "import matplotlib.pyplot as plt\n",
    "import seaborn as sns\n",
    "%matplotlib inline"
   ]
  },
  {
   "cell_type": "code",
   "execution_count": 677,
   "metadata": {},
   "outputs": [
    {
     "data": {
      "image/png": "[encoded data removed]",
      "text/plain": [
       "<Figure size 1800x1080 with 2 Axes>"
      ]
     },
     "metadata": {
      "needs_background": "light"
     },
     "output_type": "display_data"
    }
   ],
   "source": [
    "# Looking at the correlation table\n",
    "plt.figure(figsize = (25,15))\n",
    "sns.heatmap(leads.corr())\n",
    "plt.show()"
   ]
  },
  {
   "cell_type": "markdown",
   "metadata": {},
   "source": [
    "#### Since there are too many vaiables, it will be difficult to make the decision at this stage"
   ]
  },
  {
   "cell_type": "markdown",
   "metadata": {},
   "source": [
    "### Step 7: Model Building\n",
    "Let's start by splitting our data into a training set and a test set."
   ]
  },
  {
   "cell_type": "markdown",
   "metadata": {},
   "source": [
    "#### Running Your First Training Model"
   ]
  },
  {
   "cell_type": "code",
   "execution_count": 678,
   "metadata": {},
   "outputs": [],
   "source": [
    "import statsmodels.api as sm"
   ]
  },
  {
   "cell_type": "code",
   "execution_count": 679,
   "metadata": {
    "scrolled": true
   },
   "outputs": [
    {
     "data": {
      "text/html": [
       "<table class=\"simpletable\">\n",
       "<caption>Generalized Linear Model Regression Results</caption>\n",
       "<tr>\n",
       "  <th>Dep. Variable:</th>       <td>Converted</td>    <th>  No. Observations:  </th>  <td>  6372</td> \n",
       "</tr>\n",
       "<tr>\n",
       "  <th>Model:</th>                  <td>GLM</td>       <th>  Df Residuals:      </th>  <td>  6306</td> \n",
       "</tr>\n",
       "<tr>\n",
       "  <th>Model Family:</th>        <td>Binomial</td>     <th>  Df Model:          </th>  <td>    65</td> \n",
       "</tr>\n",
       "<tr>\n",
       "  <th>Link Function:</th>         <td>Logit</td>      <th>  Scale:             </th> <td>  1.0000</td>\n",
       "</tr>\n",
       "<tr>\n",
       "  <th>Method:</th>                <td>IRLS</td>       <th>  Log-Likelihood:    </th> <td> -2498.8</td>\n",
       "</tr>\n",
       "<tr>\n",
       "  <th>Date:</th>            <td>Sun, 19 Mar 2023</td> <th>  Deviance:          </th> <td>  4997.7</td>\n",
       "</tr>\n",
       "<tr>\n",
       "  <th>Time:</th>                <td>15:52:15</td>     <th>  Pearson chi2:      </th> <td>6.24e+03</td>\n",
       "</tr>\n",
       "<tr>\n",
       "  <th>No. Iterations:</th>         <td>21</td>        <th>  Pseudo R-squ. (CS):</th>  <td>0.4193</td> \n",
       "</tr>\n",
       "<tr>\n",
       "  <th>Covariance Type:</th>     <td>nonrobust</td>    <th>                     </th>     <td> </td>   \n",
       "</tr>\n",
       "</table>\n",
       "<table class=\"simpletable\">\n",
       "<tr>\n",
       "                            <td></td>                              <th>coef</th>     <th>std err</th>      <th>z</th>      <th>P>|z|</th>  <th>[0.025</th>    <th>0.975]</th>  \n",
       "</tr>\n",
       "<tr>\n",
       "  <th>const</th>                                                <td>   19.3454</td> <td> 4.82e+04</td> <td>    0.000</td> <td> 1.000</td> <td>-9.44e+04</td> <td> 9.45e+04</td>\n",
       "</tr>\n",
       "<tr>\n",
       "  <th>Do Not Email</th>                                         <td>   -1.4186</td> <td>    0.218</td> <td>   -6.506</td> <td> 0.000</td> <td>   -1.846</td> <td>   -0.991</td>\n",
       "</tr>\n",
       "<tr>\n",
       "  <th>TotalVisits</th>                                          <td>   11.3213</td> <td>    2.733</td> <td>    4.143</td> <td> 0.000</td> <td>    5.966</td> <td>   16.677</td>\n",
       "</tr>\n",
       "<tr>\n",
       "  <th>Total Time Spent on Website</th>                          <td>    4.4889</td> <td>    0.172</td> <td>   26.173</td> <td> 0.000</td> <td>    4.153</td> <td>    4.825</td>\n",
       "</tr>\n",
       "<tr>\n",
       "  <th>Page Views Per Visit</th>                                 <td>   -4.4463</td> <td>    1.406</td> <td>   -3.163</td> <td> 0.002</td> <td>   -7.201</td> <td>   -1.691</td>\n",
       "</tr>\n",
       "<tr>\n",
       "  <th>A free copy of Mastering The Interview</th>               <td>   -0.1073</td> <td>    0.110</td> <td>   -0.975</td> <td> 0.329</td> <td>   -0.323</td> <td>    0.108</td>\n",
       "</tr>\n",
       "<tr>\n",
       "  <th>Lead Origin_Landing Page Submission</th>                  <td>   -0.7474</td> <td>    0.138</td> <td>   -5.410</td> <td> 0.000</td> <td>   -1.018</td> <td>   -0.477</td>\n",
       "</tr>\n",
       "<tr>\n",
       "  <th>Lead Origin_Lead Add Form</th>                            <td>    2.9071</td> <td>    1.051</td> <td>    2.766</td> <td> 0.006</td> <td>    0.847</td> <td>    4.967</td>\n",
       "</tr>\n",
       "<tr>\n",
       "  <th>Lead Origin_Lead Import</th>                              <td>   -0.0772</td> <td>    1.205</td> <td>   -0.064</td> <td> 0.949</td> <td>   -2.439</td> <td>    2.285</td>\n",
       "</tr>\n",
       "<tr>\n",
       "  <th>Lead Source_Google</th>                                   <td>    0.2449</td> <td>    0.117</td> <td>    2.102</td> <td> 0.036</td> <td>    0.017</td> <td>    0.473</td>\n",
       "</tr>\n",
       "<tr>\n",
       "  <th>Lead Source_Live Chat</th>                                <td>   20.3816</td> <td> 3.41e+04</td> <td>    0.001</td> <td> 1.000</td> <td>-6.68e+04</td> <td> 6.68e+04</td>\n",
       "</tr>\n",
       "<tr>\n",
       "  <th>Lead Source_Olark Chat</th>                               <td>    1.2082</td> <td>    0.165</td> <td>    7.302</td> <td> 0.000</td> <td>    0.884</td> <td>    1.533</td>\n",
       "</tr>\n",
       "<tr>\n",
       "  <th>Lead Source_Organic Search</th>                           <td>    0.1371</td> <td>    0.131</td> <td>    1.047</td> <td> 0.295</td> <td>   -0.119</td> <td>    0.394</td>\n",
       "</tr>\n",
       "<tr>\n",
       "  <th>Lead Source_Others</th>                                   <td>    0.7386</td> <td>    0.742</td> <td>    0.996</td> <td> 0.319</td> <td>   -0.716</td> <td>    2.193</td>\n",
       "</tr>\n",
       "<tr>\n",
       "  <th>Lead Source_Reference</th>                                <td>    0.4030</td> <td>    1.076</td> <td>    0.375</td> <td> 0.708</td> <td>   -1.706</td> <td>    2.512</td>\n",
       "</tr>\n",
       "<tr>\n",
       "  <th>Lead Source_Referral Sites</th>                           <td>   -0.0866</td> <td>    0.374</td> <td>   -0.232</td> <td> 0.817</td> <td>   -0.819</td> <td>    0.646</td>\n",
       "</tr>\n",
       "<tr>\n",
       "  <th>Lead Source_Social Media</th>                             <td>    0.9084</td> <td>    1.149</td> <td>    0.791</td> <td> 0.429</td> <td>   -1.343</td> <td>    3.160</td>\n",
       "</tr>\n",
       "<tr>\n",
       "  <th>Lead Source_Welingak Website</th>                         <td>    2.7079</td> <td>    1.274</td> <td>    2.126</td> <td> 0.033</td> <td>    0.212</td> <td>    5.204</td>\n",
       "</tr>\n",
       "<tr>\n",
       "  <th>Last Activity_Email Bounced</th>                          <td>    0.1912</td> <td>    0.525</td> <td>    0.364</td> <td> 0.716</td> <td>   -0.838</td> <td>    1.221</td>\n",
       "</tr>\n",
       "<tr>\n",
       "  <th>Last Activity_Email Link Clicked</th>                     <td>    0.5680</td> <td>    0.436</td> <td>    1.303</td> <td> 0.193</td> <td>   -0.286</td> <td>    1.422</td>\n",
       "</tr>\n",
       "<tr>\n",
       "  <th>Last Activity_Email Opened</th>                           <td>    1.2138</td> <td>    0.247</td> <td>    4.911</td> <td> 0.000</td> <td>    0.729</td> <td>    1.698</td>\n",
       "</tr>\n",
       "<tr>\n",
       "  <th>Last Activity_Form Submitted on Website</th>              <td>    0.3701</td> <td>    0.389</td> <td>    0.952</td> <td> 0.341</td> <td>   -0.392</td> <td>    1.132</td>\n",
       "</tr>\n",
       "<tr>\n",
       "  <th>Last Activity_Olark Chat Conversation</th>                <td>   -0.2095</td> <td>    0.283</td> <td>   -0.740</td> <td> 0.460</td> <td>   -0.765</td> <td>    0.346</td>\n",
       "</tr>\n",
       "<tr>\n",
       "  <th>Last Activity_Others</th>                                 <td>    1.9617</td> <td>    0.588</td> <td>    3.335</td> <td> 0.001</td> <td>    0.809</td> <td>    3.115</td>\n",
       "</tr>\n",
       "<tr>\n",
       "  <th>Last Activity_Page Visited on Website</th>                <td>    0.6212</td> <td>    0.297</td> <td>    2.089</td> <td> 0.037</td> <td>    0.038</td> <td>    1.204</td>\n",
       "</tr>\n",
       "<tr>\n",
       "  <th>Last Activity_SMS Sent</th>                               <td>    1.6426</td> <td>    0.253</td> <td>    6.489</td> <td> 0.000</td> <td>    1.146</td> <td>    2.139</td>\n",
       "</tr>\n",
       "<tr>\n",
       "  <th>Last Activity_Unreachable</th>                            <td>    0.6285</td> <td>    0.502</td> <td>    1.251</td> <td> 0.211</td> <td>   -0.356</td> <td>    1.613</td>\n",
       "</tr>\n",
       "<tr>\n",
       "  <th>Last Activity_Unsubscribed</th>                           <td>    1.8445</td> <td>    1.139</td> <td>    1.620</td> <td> 0.105</td> <td>   -0.387</td> <td>    4.076</td>\n",
       "</tr>\n",
       "<tr>\n",
       "  <th>Specialization_Business Administration</th>               <td>   -0.2933</td> <td>    0.246</td> <td>   -1.192</td> <td> 0.233</td> <td>   -0.775</td> <td>    0.189</td>\n",
       "</tr>\n",
       "<tr>\n",
       "  <th>Specialization_E-Business</th>                            <td>    0.6267</td> <td>    0.457</td> <td>    1.372</td> <td> 0.170</td> <td>   -0.269</td> <td>    1.522</td>\n",
       "</tr>\n",
       "<tr>\n",
       "  <th>Specialization_E-COMMERCE</th>                            <td>   -0.3197</td> <td>    0.382</td> <td>   -0.838</td> <td> 0.402</td> <td>   -1.068</td> <td>    0.428</td>\n",
       "</tr>\n",
       "<tr>\n",
       "  <th>Specialization_Finance Management</th>                    <td>   -0.2623</td> <td>    0.208</td> <td>   -1.261</td> <td> 0.207</td> <td>   -0.670</td> <td>    0.145</td>\n",
       "</tr>\n",
       "<tr>\n",
       "  <th>Specialization_Healthcare Management</th>                 <td>   -0.3286</td> <td>    0.315</td> <td>   -1.043</td> <td> 0.297</td> <td>   -0.946</td> <td>    0.289</td>\n",
       "</tr>\n",
       "<tr>\n",
       "  <th>Specialization_Hospitality Management</th>                <td>   -0.9039</td> <td>    0.369</td> <td>   -2.448</td> <td> 0.014</td> <td>   -1.628</td> <td>   -0.180</td>\n",
       "</tr>\n",
       "<tr>\n",
       "  <th>Specialization_Human Resource Management</th>             <td>   -0.2990</td> <td>    0.211</td> <td>   -1.415</td> <td> 0.157</td> <td>   -0.713</td> <td>    0.115</td>\n",
       "</tr>\n",
       "<tr>\n",
       "  <th>Specialization_IT Projects Management</th>                <td>   -0.1953</td> <td>    0.257</td> <td>   -0.759</td> <td> 0.448</td> <td>   -0.700</td> <td>    0.309</td>\n",
       "</tr>\n",
       "<tr>\n",
       "  <th>Specialization_International Business</th>                <td>   -0.3791</td> <td>    0.317</td> <td>   -1.196</td> <td> 0.232</td> <td>   -1.000</td> <td>    0.242</td>\n",
       "</tr>\n",
       "<tr>\n",
       "  <th>Specialization_Marketing Management</th>                  <td>   -0.1389</td> <td>    0.212</td> <td>   -0.656</td> <td> 0.512</td> <td>   -0.554</td> <td>    0.276</td>\n",
       "</tr>\n",
       "<tr>\n",
       "  <th>Specialization_Media and Advertising</th>                 <td>   -0.4196</td> <td>    0.292</td> <td>   -1.439</td> <td> 0.150</td> <td>   -0.991</td> <td>    0.152</td>\n",
       "</tr>\n",
       "<tr>\n",
       "  <th>Specialization_Not Specified</th>                         <td>   -1.0798</td> <td>    0.216</td> <td>   -5.007</td> <td> 0.000</td> <td>   -1.502</td> <td>   -0.657</td>\n",
       "</tr>\n",
       "<tr>\n",
       "  <th>Specialization_Operations Management</th>                 <td>   -0.3522</td> <td>    0.234</td> <td>   -1.508</td> <td> 0.132</td> <td>   -0.810</td> <td>    0.106</td>\n",
       "</tr>\n",
       "<tr>\n",
       "  <th>Specialization_Retail Management</th>                     <td>   -0.2434</td> <td>    0.370</td> <td>   -0.658</td> <td> 0.511</td> <td>   -0.969</td> <td>    0.482</td>\n",
       "</tr>\n",
       "<tr>\n",
       "  <th>Specialization_Rural and Agribusiness</th>                <td>   -0.2192</td> <td>    0.404</td> <td>   -0.542</td> <td> 0.588</td> <td>   -1.012</td> <td>    0.573</td>\n",
       "</tr>\n",
       "<tr>\n",
       "  <th>Specialization_Services Excellence</th>                   <td>    0.7596</td> <td>    0.641</td> <td>    1.185</td> <td> 0.236</td> <td>   -0.496</td> <td>    2.016</td>\n",
       "</tr>\n",
       "<tr>\n",
       "  <th>Specialization_Supply Chain Management</th>               <td>   -0.2291</td> <td>    0.250</td> <td>   -0.917</td> <td> 0.359</td> <td>   -0.719</td> <td>    0.261</td>\n",
       "</tr>\n",
       "<tr>\n",
       "  <th>Specialization_Travel and Tourism</th>                    <td>   -0.1620</td> <td>    0.304</td> <td>   -0.533</td> <td> 0.594</td> <td>   -0.758</td> <td>    0.434</td>\n",
       "</tr>\n",
       "<tr>\n",
       "  <th>What is your current occupation_Housewife</th>            <td>   22.5572</td> <td> 1.58e+04</td> <td>    0.001</td> <td> 0.999</td> <td>-3.08e+04</td> <td> 3.09e+04</td>\n",
       "</tr>\n",
       "<tr>\n",
       "  <th>What is your current occupation_Other</th>                <td>   -0.1640</td> <td>    1.243</td> <td>   -0.132</td> <td> 0.895</td> <td>   -2.600</td> <td>    2.272</td>\n",
       "</tr>\n",
       "<tr>\n",
       "  <th>What is your current occupation_Student</th>              <td>   -0.3936</td> <td>    1.074</td> <td>   -0.367</td> <td> 0.714</td> <td>   -2.498</td> <td>    1.711</td>\n",
       "</tr>\n",
       "<tr>\n",
       "  <th>What is your current occupation_Unemployed</th>           <td>   -0.5589</td> <td>    1.047</td> <td>   -0.534</td> <td> 0.594</td> <td>   -2.611</td> <td>    1.494</td>\n",
       "</tr>\n",
       "<tr>\n",
       "  <th>What is your current occupation_Unknown</th>              <td>   -1.6565</td> <td>    1.050</td> <td>   -1.577</td> <td> 0.115</td> <td>   -3.715</td> <td>    0.402</td>\n",
       "</tr>\n",
       "<tr>\n",
       "  <th>What is your current occupation_Working Professional</th> <td>    1.9407</td> <td>    1.062</td> <td>    1.827</td> <td> 0.068</td> <td>   -0.141</td> <td>    4.023</td>\n",
       "</tr>\n",
       "<tr>\n",
       "  <th>Last Notable Activity_Email Bounced</th>                  <td>  -20.0102</td> <td> 4.82e+04</td> <td>   -0.000</td> <td> 1.000</td> <td>-9.45e+04</td> <td> 9.44e+04</td>\n",
       "</tr>\n",
       "<tr>\n",
       "  <th>Last Notable Activity_Email Link Clicked</th>             <td>  -20.8742</td> <td> 4.82e+04</td> <td>   -0.000</td> <td> 1.000</td> <td>-9.45e+04</td> <td> 9.44e+04</td>\n",
       "</tr>\n",
       "<tr>\n",
       "  <th>Last Notable Activity_Email Marked Spam</th>              <td>    0.3580</td> <td> 6.82e+04</td> <td> 5.25e-06</td> <td> 1.000</td> <td>-1.34e+05</td> <td> 1.34e+05</td>\n",
       "</tr>\n",
       "<tr>\n",
       "  <th>Last Notable Activity_Email Opened</th>                   <td>  -21.0038</td> <td> 4.82e+04</td> <td>   -0.000</td> <td> 1.000</td> <td>-9.45e+04</td> <td> 9.44e+04</td>\n",
       "</tr>\n",
       "<tr>\n",
       "  <th>Last Notable Activity_Email Received</th>                 <td>   -1.4246</td> <td> 6.82e+04</td> <td>-2.09e-05</td> <td> 1.000</td> <td>-1.34e+05</td> <td> 1.34e+05</td>\n",
       "</tr>\n",
       "<tr>\n",
       "  <th>Last Notable Activity_Form Submitted on Website</th>      <td>-5.448e-12</td> <td> 3.29e-07</td> <td>-1.66e-05</td> <td> 1.000</td> <td>-6.45e-07</td> <td> 6.45e-07</td>\n",
       "</tr>\n",
       "<tr>\n",
       "  <th>Last Notable Activity_Had a Phone Conversation</th>       <td>  -19.1060</td> <td> 4.82e+04</td> <td>   -0.000</td> <td> 1.000</td> <td>-9.45e+04</td> <td> 9.44e+04</td>\n",
       "</tr>\n",
       "<tr>\n",
       "  <th>Last Notable Activity_Modified</th>                       <td>  -21.1642</td> <td> 4.82e+04</td> <td>   -0.000</td> <td> 1.000</td> <td>-9.45e+04</td> <td> 9.44e+04</td>\n",
       "</tr>\n",
       "<tr>\n",
       "  <th>Last Notable Activity_Olark Chat Conversation</th>        <td>  -20.8469</td> <td> 4.82e+04</td> <td>   -0.000</td> <td> 1.000</td> <td>-9.45e+04</td> <td> 9.44e+04</td>\n",
       "</tr>\n",
       "<tr>\n",
       "  <th>Last Notable Activity_Page Visited on Website</th>        <td>  -20.8878</td> <td> 4.82e+04</td> <td>   -0.000</td> <td> 1.000</td> <td>-9.45e+04</td> <td> 9.44e+04</td>\n",
       "</tr>\n",
       "<tr>\n",
       "  <th>Last Notable Activity_Resubscribed to emails</th>         <td>    2.7870</td> <td> 6.82e+04</td> <td> 4.09e-05</td> <td> 1.000</td> <td>-1.34e+05</td> <td> 1.34e+05</td>\n",
       "</tr>\n",
       "<tr>\n",
       "  <th>Last Notable Activity_SMS Sent</th>                       <td>  -20.0720</td> <td> 4.82e+04</td> <td>   -0.000</td> <td> 1.000</td> <td>-9.45e+04</td> <td> 9.44e+04</td>\n",
       "</tr>\n",
       "<tr>\n",
       "  <th>Last Notable Activity_Unreachable</th>                    <td>  -18.6970</td> <td> 4.82e+04</td> <td>   -0.000</td> <td> 1.000</td> <td>-9.45e+04</td> <td> 9.44e+04</td>\n",
       "</tr>\n",
       "<tr>\n",
       "  <th>Last Notable Activity_Unsubscribed</th>                   <td>  -20.6109</td> <td> 4.82e+04</td> <td>   -0.000</td> <td> 1.000</td> <td>-9.45e+04</td> <td> 9.44e+04</td>\n",
       "</tr>\n",
       "<tr>\n",
       "  <th>Last Notable Activity_View in browser link Clicked</th>   <td>  -43.5119</td> <td> 6.82e+04</td> <td>   -0.001</td> <td> 0.999</td> <td>-1.34e+05</td> <td> 1.34e+05</td>\n",
       "</tr>\n",
       "</table>"
      ],
      "text/plain": [
       "<class 'statsmodels.iolib.summary.Summary'>\n",
       "\"\"\"\n",
       "                 Generalized Linear Model Regression Results                  \n",
       "==============================================================================\n",
       "Dep. Variable:              Converted   No. Observations:                 6372\n",
       "Model:                            GLM   Df Residuals:                     6306\n",
       "Model Family:                Binomial   Df Model:                           65\n",
       "Link Function:                  Logit   Scale:                          1.0000\n",
       "Method:                          IRLS   Log-Likelihood:                -2498.8\n",
       "Date:                Sun, 19 Mar 2023   Deviance:                       4997.7\n",
       "Time:                        15:52:15   Pearson chi2:                 6.24e+03\n",
       "No. Iterations:                    21   Pseudo R-squ. (CS):             0.4193\n",
       "Covariance Type:            nonrobust                                         \n",
       "========================================================================================================================\n",
       "                                                           coef    std err          z      P>|z|      [0.025      0.975]\n",
       "------------------------------------------------------------------------------------------------------------------------\n",
       "const                                                   19.3454   4.82e+04      0.000      1.000   -9.44e+04    9.45e+04\n",
       "Do Not Email                                            -1.4186      0.218     -6.506      0.000      -1.846      -0.991\n",
       "TotalVisits                                             11.3213      2.733      4.143      0.000       5.966      16.677\n",
       "Total Time Spent on Website                              4.4889      0.172     26.173      0.000       4.153       4.825\n",
       "Page Views Per Visit                                    -4.4463      1.406     -3.163      0.002      -7.201      -1.691\n",
       "A free copy of Mastering The Interview                  -0.1073      0.110     -0.975      0.329      -0.323       0.108\n",
       "Lead Origin_Landing Page Submission                     -0.7474      0.138     -5.410      0.000      -1.018      -0.477\n",
       "Lead Origin_Lead Add Form                                2.9071      1.051      2.766      0.006       0.847       4.967\n",
       "Lead Origin_Lead Import                                 -0.0772      1.205     -0.064      0.949      -2.439       2.285\n",
       "Lead Source_Google                                       0.2449      0.117      2.102      0.036       0.017       0.473\n",
       "Lead Source_Live Chat                                   20.3816   3.41e+04      0.001      1.000   -6.68e+04    6.68e+04\n",
       "Lead Source_Olark Chat                                   1.2082      0.165      7.302      0.000       0.884       1.533\n",
       "Lead Source_Organic Search                               0.1371      0.131      1.047      0.295      -0.119       0.394\n",
       "Lead Source_Others                                       0.7386      0.742      0.996      0.319      -0.716       2.193\n",
       "Lead Source_Reference                                    0.4030      1.076      0.375      0.708      -1.706       2.512\n",
       "Lead Source_Referral Sites                              -0.0866      0.374     -0.232      0.817      -0.819       0.646\n",
       "Lead Source_Social Media                                 0.9084      1.149      0.791      0.429      -1.343       3.160\n",
       "Lead Source_Welingak Website                             2.7079      1.274      2.126      0.033       0.212       5.204\n",
       "Last Activity_Email Bounced                              0.1912      0.525      0.364      0.716      -0.838       1.221\n",
       "Last Activity_Email Link Clicked                         0.5680      0.436      1.303      0.193      -0.286       1.422\n",
       "Last Activity_Email Opened                               1.2138      0.247      4.911      0.000       0.729       1.698\n",
       "Last Activity_Form Submitted on Website                  0.3701      0.389      0.952      0.341      -0.392       1.132\n",
       "Last Activity_Olark Chat Conversation                   -0.2095      0.283     -0.740      0.460      -0.765       0.346\n",
       "Last Activity_Others                                     1.9617      0.588      3.335      0.001       0.809       3.115\n",
       "Last Activity_Page Visited on Website                    0.6212      0.297      2.089      0.037       0.038       1.204\n",
       "Last Activity_SMS Sent                                   1.6426      0.253      6.489      0.000       1.146       2.139\n",
       "Last Activity_Unreachable                                0.6285      0.502      1.251      0.211      -0.356       1.613\n",
       "Last Activity_Unsubscribed                               1.8445      1.139      1.620      0.105      -0.387       4.076\n",
       "Specialization_Business Administration                  -0.2933      0.246     -1.192      0.233      -0.775       0.189\n",
       "Specialization_E-Business                                0.6267      0.457      1.372      0.170      -0.269       1.522\n",
       "Specialization_E-COMMERCE                               -0.3197      0.382     -0.838      0.402      -1.068       0.428\n",
       "Specialization_Finance Management                       -0.2623      0.208     -1.261      0.207      -0.670       0.145\n",
       "Specialization_Healthcare Management                    -0.3286      0.315     -1.043      0.297      -0.946       0.289\n",
       "Specialization_Hospitality Management                   -0.9039      0.369     -2.448      0.014      -1.628      -0.180\n",
       "Specialization_Human Resource Management                -0.2990      0.211     -1.415      0.157      -0.713       0.115\n",
       "Specialization_IT Projects Management                   -0.1953      0.257     -0.759      0.448      -0.700       0.309\n",
       "Specialization_International Business                   -0.3791      0.317     -1.196      0.232      -1.000       0.242\n",
       "Specialization_Marketing Management                     -0.1389      0.212     -0.656      0.512      -0.554       0.276\n",
       "Specialization_Media and Advertising                    -0.4196      0.292     -1.439      0.150      -0.991       0.152\n",
       "Specialization_Not Specified                            -1.0798      0.216     -5.007      0.000      -1.502      -0.657\n",
       "Specialization_Operations Management                    -0.3522      0.234     -1.508      0.132      -0.810       0.106\n",
       "Specialization_Retail Management                        -0.2434      0.370     -0.658      0.511      -0.969       0.482\n",
       "Specialization_Rural and Agribusiness                   -0.2192      0.404     -0.542      0.588      -1.012       0.573\n",
       "Specialization_Services Excellence                       0.7596      0.641      1.185      0.236      -0.496       2.016\n",
       "Specialization_Supply Chain Management                  -0.2291      0.250     -0.917      0.359      -0.719       0.261\n",
       "Specialization_Travel and Tourism                       -0.1620      0.304     -0.533      0.594      -0.758       0.434\n",
       "What is your current occupation_Housewife               22.5572   1.58e+04      0.001      0.999   -3.08e+04    3.09e+04\n",
       "What is your current occupation_Other                   -0.1640      1.243     -0.132      0.895      -2.600       2.272\n",
       "What is your current occupation_Student                 -0.3936      1.074     -0.367      0.714      -2.498       1.711\n",
       "What is your current occupation_Unemployed              -0.5589      1.047     -0.534      0.594      -2.611       1.494\n",
       "What is your current occupation_Unknown                 -1.6565      1.050     -1.577      0.115      -3.715       0.402\n",
       "What is your current occupation_Working Professional     1.9407      1.062      1.827      0.068      -0.141       4.023\n",
       "Last Notable Activity_Email Bounced                    -20.0102   4.82e+04     -0.000      1.000   -9.45e+04    9.44e+04\n",
       "Last Notable Activity_Email Link Clicked               -20.8742   4.82e+04     -0.000      1.000   -9.45e+04    9.44e+04\n",
       "Last Notable Activity_Email Marked Spam                  0.3580   6.82e+04   5.25e-06      1.000   -1.34e+05    1.34e+05\n",
       "Last Notable Activity_Email Opened                     -21.0038   4.82e+04     -0.000      1.000   -9.45e+04    9.44e+04\n",
       "Last Notable Activity_Email Received                    -1.4246   6.82e+04  -2.09e-05      1.000   -1.34e+05    1.34e+05\n",
       "Last Notable Activity_Form Submitted on Website      -5.448e-12   3.29e-07  -1.66e-05      1.000   -6.45e-07    6.45e-07\n",
       "Last Notable Activity_Had a Phone Conversation         -19.1060   4.82e+04     -0.000      1.000   -9.45e+04    9.44e+04\n",
       "Last Notable Activity_Modified                         -21.1642   4.82e+04     -0.000      1.000   -9.45e+04    9.44e+04\n",
       "Last Notable Activity_Olark Chat Conversation          -20.8469   4.82e+04     -0.000      1.000   -9.45e+04    9.44e+04\n",
       "Last Notable Activity_Page Visited on Website          -20.8878   4.82e+04     -0.000      1.000   -9.45e+04    9.44e+04\n",
       "Last Notable Activity_Resubscribed to emails             2.7870   6.82e+04   4.09e-05      1.000   -1.34e+05    1.34e+05\n",
       "Last Notable Activity_SMS Sent                         -20.0720   4.82e+04     -0.000      1.000   -9.45e+04    9.44e+04\n",
       "Last Notable Activity_Unreachable                      -18.6970   4.82e+04     -0.000      1.000   -9.45e+04    9.44e+04\n",
       "Last Notable Activity_Unsubscribed                     -20.6109   4.82e+04     -0.000      1.000   -9.45e+04    9.44e+04\n",
       "Last Notable Activity_View in browser link Clicked     -43.5119   6.82e+04     -0.001      0.999   -1.34e+05    1.34e+05\n",
       "========================================================================================================================\n",
       "\"\"\""
      ]
     },
     "execution_count": 679,
     "metadata": {},
     "output_type": "execute_result"
    }
   ],
   "source": [
    "# Logistic regression model\n",
    "logm1 = sm.GLM(y_train,(sm.add_constant(X_train)), family = sm.families.Binomial())\n",
    "logm1.fit().summary()"
   ]
  },
  {
   "cell_type": "markdown",
   "metadata": {},
   "source": [
    "### Step 8: Feature Selection Using RFE"
   ]
  },
  {
   "cell_type": "code",
   "execution_count": 680,
   "metadata": {},
   "outputs": [],
   "source": [
    "from sklearn.linear_model import LogisticRegression\n",
    "logreg = LogisticRegression()"
   ]
  },
  {
   "cell_type": "code",
   "execution_count": 681,
   "metadata": {},
   "outputs": [],
   "source": [
    "from sklearn.feature_selection import RFE\n",
    "rfe = RFE(logreg, n_features_to_select=15)             # running RFE with 15 variables as output\n",
    "rfe = rfe.fit(X_train, y_train)"
   ]
  },
  {
   "cell_type": "code",
   "execution_count": 682,
   "metadata": {
    "scrolled": false
   },
   "outputs": [
    {
     "data": {
      "text/plain": [
       "[('Do Not Email', True, 1),\n",
       " ('TotalVisits', True, 1),\n",
       " ('Total Time Spent on Website', True, 1),\n",
       " ('Page Views Per Visit', False, 4),\n",
       " ('A free copy of Mastering The Interview', False, 35),\n",
       " ('Lead Origin_Landing Page Submission', True, 1),\n",
       " ('Lead Origin_Lead Add Form', True, 1),\n",
       " ('Lead Origin_Lead Import', False, 25),\n",
       " ('Lead Source_Google', False, 23),\n",
       " ('Lead Source_Live Chat', False, 28),\n",
       " ('Lead Source_Olark Chat', True, 1),\n",
       " ('Lead Source_Organic Search', False, 42),\n",
       " ('Lead Source_Others', False, 19),\n",
       " ('Lead Source_Reference', False, 20),\n",
       " ('Lead Source_Referral Sites', False, 51),\n",
       " ('Lead Source_Social Media', False, 13),\n",
       " ('Lead Source_Welingak Website', True, 1),\n",
       " ('Last Activity_Email Bounced', False, 44),\n",
       " ('Last Activity_Email Link Clicked', False, 24),\n",
       " ('Last Activity_Email Opened', False, 5),\n",
       " ('Last Activity_Form Submitted on Website', False, 29),\n",
       " ('Last Activity_Olark Chat Conversation', False, 14),\n",
       " ('Last Activity_Others', True, 1),\n",
       " ('Last Activity_Page Visited on Website', False, 22),\n",
       " ('Last Activity_SMS Sent', True, 1),\n",
       " ('Last Activity_Unreachable', False, 17),\n",
       " ('Last Activity_Unsubscribed', False, 3),\n",
       " ('Specialization_Business Administration', False, 39),\n",
       " ('Specialization_E-Business', False, 7),\n",
       " ('Specialization_E-COMMERCE', False, 37),\n",
       " ('Specialization_Finance Management', False, 41),\n",
       " ('Specialization_Healthcare Management', False, 38),\n",
       " ('Specialization_Hospitality Management', False, 9),\n",
       " ('Specialization_Human Resource Management', False, 40),\n",
       " ('Specialization_IT Projects Management', False, 46),\n",
       " ('Specialization_International Business', False, 30),\n",
       " ('Specialization_Marketing Management', False, 48),\n",
       " ('Specialization_Media and Advertising', False, 31),\n",
       " ('Specialization_Not Specified', False, 2),\n",
       " ('Specialization_Operations Management', False, 36),\n",
       " ('Specialization_Retail Management', False, 43),\n",
       " ('Specialization_Rural and Agribusiness', False, 50),\n",
       " ('Specialization_Services Excellence', False, 10),\n",
       " ('Specialization_Supply Chain Management', False, 45),\n",
       " ('Specialization_Travel and Tourism', False, 47),\n",
       " ('What is your current occupation_Housewife', True, 1),\n",
       " ('What is your current occupation_Other', False, 34),\n",
       " ('What is your current occupation_Student', False, 16),\n",
       " ('What is your current occupation_Unemployed', False, 15),\n",
       " ('What is your current occupation_Unknown', True, 1),\n",
       " ('What is your current occupation_Working Professional', True, 1),\n",
       " ('Last Notable Activity_Email Bounced', False, 32),\n",
       " ('Last Notable Activity_Email Link Clicked', False, 18),\n",
       " ('Last Notable Activity_Email Marked Spam', False, 33),\n",
       " ('Last Notable Activity_Email Opened', False, 6),\n",
       " ('Last Notable Activity_Email Received', False, 49),\n",
       " ('Last Notable Activity_Form Submitted on Website', False, 52),\n",
       " ('Last Notable Activity_Had a Phone Conversation', False, 8),\n",
       " ('Last Notable Activity_Modified', True, 1),\n",
       " ('Last Notable Activity_Olark Chat Conversation', True, 1),\n",
       " ('Last Notable Activity_Page Visited on Website', False, 21),\n",
       " ('Last Notable Activity_Resubscribed to emails', False, 11),\n",
       " ('Last Notable Activity_SMS Sent', False, 27),\n",
       " ('Last Notable Activity_Unreachable', True, 1),\n",
       " ('Last Notable Activity_Unsubscribed', False, 26),\n",
       " ('Last Notable Activity_View in browser link Clicked', False, 12)]"
      ]
     },
     "execution_count": 682,
     "metadata": {},
     "output_type": "execute_result"
    }
   ],
   "source": [
    "list(zip(X_train.columns, rfe.support_, rfe.ranking_))"
   ]
  },
  {
   "cell_type": "code",
   "execution_count": 683,
   "metadata": {},
   "outputs": [],
   "source": [
    "# wherever RFE support is false, those variables can be dropped\n",
    "col = X_train.columns[rfe.support_]"
   ]
  },
  {
   "cell_type": "code",
   "execution_count": 684,
   "metadata": {
    "scrolled": false
   },
   "outputs": [],
   "source": [
    "X_train = X_train[col]"
   ]
  },
  {
   "cell_type": "code",
   "execution_count": 685,
   "metadata": {},
   "outputs": [
    {
     "name": "stdout",
     "output_type": "stream",
     "text": [
      "<class 'pandas.core.frame.DataFrame'>\n",
      "Int64Index: 6372 entries, 7962 to 5734\n",
      "Data columns (total 15 columns):\n",
      " #   Column                                                Non-Null Count  Dtype  \n",
      "---  ------                                                --------------  -----  \n",
      " 0   Do Not Email                                          6372 non-null   int64  \n",
      " 1   TotalVisits                                           6372 non-null   float64\n",
      " 2   Total Time Spent on Website                           6372 non-null   float64\n",
      " 3   Lead Origin_Landing Page Submission                   6372 non-null   uint8  \n",
      " 4   Lead Origin_Lead Add Form                             6372 non-null   uint8  \n",
      " 5   Lead Source_Olark Chat                                6372 non-null   uint8  \n",
      " 6   Lead Source_Welingak Website                          6372 non-null   uint8  \n",
      " 7   Last Activity_Others                                  6372 non-null   uint8  \n",
      " 8   Last Activity_SMS Sent                                6372 non-null   uint8  \n",
      " 9   What is your current occupation_Housewife             6372 non-null   uint8  \n",
      " 10  What is your current occupation_Unknown               6372 non-null   uint8  \n",
      " 11  What is your current occupation_Working Professional  6372 non-null   uint8  \n",
      " 12  Last Notable Activity_Modified                        6372 non-null   uint8  \n",
      " 13  Last Notable Activity_Olark Chat Conversation         6372 non-null   uint8  \n",
      " 14  Last Notable Activity_Unreachable                     6372 non-null   uint8  \n",
      "dtypes: float64(2), int64(1), uint8(12)\n",
      "memory usage: 273.8 KB\n"
     ]
    }
   ],
   "source": [
    "X_train.info()"
   ]
  },
  {
   "cell_type": "markdown",
   "metadata": {},
   "source": [
    "#### We ave reduced the feature set to 15 most significant variables"
   ]
  },
  {
   "cell_type": "markdown",
   "metadata": {},
   "source": [
    "##### Assessing the model with StatsModels"
   ]
  },
  {
   "cell_type": "code",
   "execution_count": 686,
   "metadata": {},
   "outputs": [
    {
     "data": {
      "text/html": [
       "<table class=\"simpletable\">\n",
       "<caption>Generalized Linear Model Regression Results</caption>\n",
       "<tr>\n",
       "  <th>Dep. Variable:</th>       <td>Converted</td>    <th>  No. Observations:  </th>  <td>  6372</td> \n",
       "</tr>\n",
       "<tr>\n",
       "  <th>Model:</th>                  <td>GLM</td>       <th>  Df Residuals:      </th>  <td>  6356</td> \n",
       "</tr>\n",
       "<tr>\n",
       "  <th>Model Family:</th>        <td>Binomial</td>     <th>  Df Model:          </th>  <td>    15</td> \n",
       "</tr>\n",
       "<tr>\n",
       "  <th>Link Function:</th>         <td>Logit</td>      <th>  Scale:             </th> <td>  1.0000</td>\n",
       "</tr>\n",
       "<tr>\n",
       "  <th>Method:</th>                <td>IRLS</td>       <th>  Log-Likelihood:    </th> <td> -2578.0</td>\n",
       "</tr>\n",
       "<tr>\n",
       "  <th>Date:</th>            <td>Sun, 19 Mar 2023</td> <th>  Deviance:          </th> <td>  5156.0</td>\n",
       "</tr>\n",
       "<tr>\n",
       "  <th>Time:</th>                <td>15:52:19</td>     <th>  Pearson chi2:      </th> <td>6.25e+03</td>\n",
       "</tr>\n",
       "<tr>\n",
       "  <th>No. Iterations:</th>         <td>21</td>        <th>  Pseudo R-squ. (CS):</th>  <td>0.4046</td> \n",
       "</tr>\n",
       "<tr>\n",
       "  <th>Covariance Type:</th>     <td>nonrobust</td>    <th>                     </th>     <td> </td>   \n",
       "</tr>\n",
       "</table>\n",
       "<table class=\"simpletable\">\n",
       "<tr>\n",
       "                            <td></td>                              <th>coef</th>     <th>std err</th>      <th>z</th>      <th>P>|z|</th>  <th>[0.025</th>    <th>0.975]</th>  \n",
       "</tr>\n",
       "<tr>\n",
       "  <th>const</th>                                                <td>   -1.8485</td> <td>    0.107</td> <td>  -17.338</td> <td> 0.000</td> <td>   -2.058</td> <td>   -1.640</td>\n",
       "</tr>\n",
       "<tr>\n",
       "  <th>Do Not Email</th>                                         <td>   -1.3763</td> <td>    0.171</td> <td>   -8.051</td> <td> 0.000</td> <td>   -1.711</td> <td>   -1.041</td>\n",
       "</tr>\n",
       "<tr>\n",
       "  <th>TotalVisits</th>                                          <td>    6.8739</td> <td>    2.197</td> <td>    3.129</td> <td> 0.002</td> <td>    2.568</td> <td>   11.180</td>\n",
       "</tr>\n",
       "<tr>\n",
       "  <th>Total Time Spent on Website</th>                          <td>    4.5626</td> <td>    0.168</td> <td>   27.235</td> <td> 0.000</td> <td>    4.234</td> <td>    4.891</td>\n",
       "</tr>\n",
       "<tr>\n",
       "  <th>Lead Origin_Landing Page Submission</th>                  <td>   -0.2953</td> <td>    0.089</td> <td>   -3.301</td> <td> 0.001</td> <td>   -0.471</td> <td>   -0.120</td>\n",
       "</tr>\n",
       "<tr>\n",
       "  <th>Lead Origin_Lead Add Form</th>                            <td>    3.6976</td> <td>    0.236</td> <td>   15.665</td> <td> 0.000</td> <td>    3.235</td> <td>    4.160</td>\n",
       "</tr>\n",
       "<tr>\n",
       "  <th>Lead Source_Olark Chat</th>                               <td>    1.0692</td> <td>    0.124</td> <td>    8.614</td> <td> 0.000</td> <td>    0.826</td> <td>    1.312</td>\n",
       "</tr>\n",
       "<tr>\n",
       "  <th>Lead Source_Welingak Website</th>                         <td>    1.7570</td> <td>    0.752</td> <td>    2.335</td> <td> 0.020</td> <td>    0.282</td> <td>    3.232</td>\n",
       "</tr>\n",
       "<tr>\n",
       "  <th>Last Activity_Others</th>                                 <td>    1.7556</td> <td>    0.449</td> <td>    3.914</td> <td> 0.000</td> <td>    0.876</td> <td>    2.635</td>\n",
       "</tr>\n",
       "<tr>\n",
       "  <th>Last Activity_SMS Sent</th>                               <td>    1.2986</td> <td>    0.076</td> <td>   17.079</td> <td> 0.000</td> <td>    1.150</td> <td>    1.448</td>\n",
       "</tr>\n",
       "<tr>\n",
       "  <th>What is your current occupation_Housewife</th>            <td>   23.2177</td> <td> 1.57e+04</td> <td>    0.001</td> <td> 0.999</td> <td>-3.07e+04</td> <td> 3.07e+04</td>\n",
       "</tr>\n",
       "<tr>\n",
       "  <th>What is your current occupation_Unknown</th>              <td>   -1.1821</td> <td>    0.088</td> <td>  -13.362</td> <td> 0.000</td> <td>   -1.355</td> <td>   -1.009</td>\n",
       "</tr>\n",
       "<tr>\n",
       "  <th>What is your current occupation_Working Professional</th> <td>    2.5269</td> <td>    0.187</td> <td>   13.532</td> <td> 0.000</td> <td>    2.161</td> <td>    2.893</td>\n",
       "</tr>\n",
       "<tr>\n",
       "  <th>Last Notable Activity_Modified</th>                       <td>   -0.8856</td> <td>    0.080</td> <td>  -11.079</td> <td> 0.000</td> <td>   -1.042</td> <td>   -0.729</td>\n",
       "</tr>\n",
       "<tr>\n",
       "  <th>Last Notable Activity_Olark Chat Conversation</th>        <td>   -1.2060</td> <td>    0.317</td> <td>   -3.806</td> <td> 0.000</td> <td>   -1.827</td> <td>   -0.585</td>\n",
       "</tr>\n",
       "<tr>\n",
       "  <th>Last Notable Activity_Unreachable</th>                    <td>    1.7922</td> <td>    0.517</td> <td>    3.468</td> <td> 0.001</td> <td>    0.779</td> <td>    2.805</td>\n",
       "</tr>\n",
       "</table>"
      ],
      "text/plain": [
       "<class 'statsmodels.iolib.summary.Summary'>\n",
       "\"\"\"\n",
       "                 Generalized Linear Model Regression Results                  \n",
       "==============================================================================\n",
       "Dep. Variable:              Converted   No. Observations:                 6372\n",
       "Model:                            GLM   Df Residuals:                     6356\n",
       "Model Family:                Binomial   Df Model:                           15\n",
       "Link Function:                  Logit   Scale:                          1.0000\n",
       "Method:                          IRLS   Log-Likelihood:                -2578.0\n",
       "Date:                Sun, 19 Mar 2023   Deviance:                       5156.0\n",
       "Time:                        15:52:19   Pearson chi2:                 6.25e+03\n",
       "No. Iterations:                    21   Pseudo R-squ. (CS):             0.4046\n",
       "Covariance Type:            nonrobust                                         \n",
       "========================================================================================================================\n",
       "                                                           coef    std err          z      P>|z|      [0.025      0.975]\n",
       "------------------------------------------------------------------------------------------------------------------------\n",
       "const                                                   -1.8485      0.107    -17.338      0.000      -2.058      -1.640\n",
       "Do Not Email                                            -1.3763      0.171     -8.051      0.000      -1.711      -1.041\n",
       "TotalVisits                                              6.8739      2.197      3.129      0.002       2.568      11.180\n",
       "Total Time Spent on Website                              4.5626      0.168     27.235      0.000       4.234       4.891\n",
       "Lead Origin_Landing Page Submission                     -0.2953      0.089     -3.301      0.001      -0.471      -0.120\n",
       "Lead Origin_Lead Add Form                                3.6976      0.236     15.665      0.000       3.235       4.160\n",
       "Lead Source_Olark Chat                                   1.0692      0.124      8.614      0.000       0.826       1.312\n",
       "Lead Source_Welingak Website                             1.7570      0.752      2.335      0.020       0.282       3.232\n",
       "Last Activity_Others                                     1.7556      0.449      3.914      0.000       0.876       2.635\n",
       "Last Activity_SMS Sent                                   1.2986      0.076     17.079      0.000       1.150       1.448\n",
       "What is your current occupation_Housewife               23.2177   1.57e+04      0.001      0.999   -3.07e+04    3.07e+04\n",
       "What is your current occupation_Unknown                 -1.1821      0.088    -13.362      0.000      -1.355      -1.009\n",
       "What is your current occupation_Working Professional     2.5269      0.187     13.532      0.000       2.161       2.893\n",
       "Last Notable Activity_Modified                          -0.8856      0.080    -11.079      0.000      -1.042      -0.729\n",
       "Last Notable Activity_Olark Chat Conversation           -1.2060      0.317     -3.806      0.000      -1.827      -0.585\n",
       "Last Notable Activity_Unreachable                        1.7922      0.517      3.468      0.001       0.779       2.805\n",
       "========================================================================================================================\n",
       "\"\"\""
      ]
     },
     "execution_count": 686,
     "metadata": {},
     "output_type": "execute_result"
    }
   ],
   "source": [
    "X_train_sm = sm.add_constant(X_train[col])\n",
    "logm2 = sm.GLM(y_train,X_train_sm, family = sm.families.Binomial())\n",
    "res = logm2.fit()\n",
    "res.summary()"
   ]
  },
  {
   "cell_type": "code",
   "execution_count": 687,
   "metadata": {},
   "outputs": [],
   "source": [
    "# Check for the VIF values of the feature variables. \n",
    "from statsmodels.stats.outliers_influence import variance_inflation_factor"
   ]
  },
  {
   "cell_type": "code",
   "execution_count": 688,
   "metadata": {},
   "outputs": [
    {
     "data": {
      "text/html": [
       "<div>\n",
       "<style scoped>\n",
       "    .dataframe tbody tr th:only-of-type {\n",
       "        vertical-align: middle;\n",
       "    }\n",
       "\n",
       "    .dataframe tbody tr th {\n",
       "        vertical-align: top;\n",
       "    }\n",
       "\n",
       "    .dataframe thead th {\n",
       "        text-align: right;\n",
       "    }\n",
       "</style>\n",
       "<table border=\"1\" class=\"dataframe\">\n",
       "  <thead>\n",
       "    <tr style=\"text-align: right;\">\n",
       "      <th></th>\n",
       "      <th>Features</th>\n",
       "      <th>VIF</th>\n",
       "    </tr>\n",
       "  </thead>\n",
       "  <tbody>\n",
       "    <tr>\n",
       "      <th>3</th>\n",
       "      <td>Lead Origin_Landing Page Submission</td>\n",
       "      <td>2.38</td>\n",
       "    </tr>\n",
       "    <tr>\n",
       "      <th>2</th>\n",
       "      <td>Total Time Spent on Website</td>\n",
       "      <td>1.93</td>\n",
       "    </tr>\n",
       "    <tr>\n",
       "      <th>1</th>\n",
       "      <td>TotalVisits</td>\n",
       "      <td>1.58</td>\n",
       "    </tr>\n",
       "    <tr>\n",
       "      <th>12</th>\n",
       "      <td>Last Notable Activity_Modified</td>\n",
       "      <td>1.54</td>\n",
       "    </tr>\n",
       "    <tr>\n",
       "      <th>8</th>\n",
       "      <td>Last Activity_SMS Sent</td>\n",
       "      <td>1.51</td>\n",
       "    </tr>\n",
       "    <tr>\n",
       "      <th>10</th>\n",
       "      <td>What is your current occupation_Unknown</td>\n",
       "      <td>1.50</td>\n",
       "    </tr>\n",
       "    <tr>\n",
       "      <th>4</th>\n",
       "      <td>Lead Origin_Lead Add Form</td>\n",
       "      <td>1.49</td>\n",
       "    </tr>\n",
       "    <tr>\n",
       "      <th>5</th>\n",
       "      <td>Lead Source_Olark Chat</td>\n",
       "      <td>1.41</td>\n",
       "    </tr>\n",
       "    <tr>\n",
       "      <th>6</th>\n",
       "      <td>Lead Source_Welingak Website</td>\n",
       "      <td>1.32</td>\n",
       "    </tr>\n",
       "    <tr>\n",
       "      <th>11</th>\n",
       "      <td>What is your current occupation_Working Profes...</td>\n",
       "      <td>1.18</td>\n",
       "    </tr>\n",
       "    <tr>\n",
       "      <th>0</th>\n",
       "      <td>Do Not Email</td>\n",
       "      <td>1.12</td>\n",
       "    </tr>\n",
       "    <tr>\n",
       "      <th>13</th>\n",
       "      <td>Last Notable Activity_Olark Chat Conversation</td>\n",
       "      <td>1.08</td>\n",
       "    </tr>\n",
       "    <tr>\n",
       "      <th>7</th>\n",
       "      <td>Last Activity_Others</td>\n",
       "      <td>1.01</td>\n",
       "    </tr>\n",
       "    <tr>\n",
       "      <th>14</th>\n",
       "      <td>Last Notable Activity_Unreachable</td>\n",
       "      <td>1.01</td>\n",
       "    </tr>\n",
       "    <tr>\n",
       "      <th>9</th>\n",
       "      <td>What is your current occupation_Housewife</td>\n",
       "      <td>1.00</td>\n",
       "    </tr>\n",
       "  </tbody>\n",
       "</table>\n",
       "</div>"
      ],
      "text/plain": [
       "                                             Features   VIF\n",
       "3                 Lead Origin_Landing Page Submission  2.38\n",
       "2                         Total Time Spent on Website  1.93\n",
       "1                                         TotalVisits  1.58\n",
       "12                     Last Notable Activity_Modified  1.54\n",
       "8                              Last Activity_SMS Sent  1.51\n",
       "10            What is your current occupation_Unknown  1.50\n",
       "4                           Lead Origin_Lead Add Form  1.49\n",
       "5                              Lead Source_Olark Chat  1.41\n",
       "6                        Lead Source_Welingak Website  1.32\n",
       "11  What is your current occupation_Working Profes...  1.18\n",
       "0                                        Do Not Email  1.12\n",
       "13      Last Notable Activity_Olark Chat Conversation  1.08\n",
       "7                                Last Activity_Others  1.01\n",
       "14                  Last Notable Activity_Unreachable  1.01\n",
       "9           What is your current occupation_Housewife  1.00"
      ]
     },
     "execution_count": 688,
     "metadata": {},
     "output_type": "execute_result"
    }
   ],
   "source": [
    "# Create a dataframe that will contain the names of all the feature variables and their respective VIFs\n",
    "vif = pd.DataFrame()\n",
    "vif['Features'] = X_train.columns\n",
    "vif['VIF'] = [variance_inflation_factor(X_train.values, i) for i in range(X_train.shape[1])]\n",
    "vif['VIF'] = round(vif['VIF'], 2)\n",
    "vif = vif.sort_values(by = \"VIF\", ascending = False)\n",
    "vif"
   ]
  },
  {
   "cell_type": "code",
   "execution_count": 689,
   "metadata": {},
   "outputs": [],
   "source": [
    "##We can drop features that have high P-value\n",
    "\n",
    "X_train.drop('What is your current occupation_Housewife', axis = 1, inplace = True)"
   ]
  },
  {
   "cell_type": "code",
   "execution_count": null,
   "metadata": {},
   "outputs": [],
   "source": []
  },
  {
   "cell_type": "code",
   "execution_count": 690,
   "metadata": {},
   "outputs": [],
   "source": [
    "## Refit the model with the new set of features"
   ]
  },
  {
   "cell_type": "code",
   "execution_count": 691,
   "metadata": {
    "scrolled": false
   },
   "outputs": [
    {
     "data": {
      "text/html": [
       "<table class=\"simpletable\">\n",
       "<caption>Generalized Linear Model Regression Results</caption>\n",
       "<tr>\n",
       "  <th>Dep. Variable:</th>       <td>Converted</td>    <th>  No. Observations:  </th>  <td>  6372</td> \n",
       "</tr>\n",
       "<tr>\n",
       "  <th>Model:</th>                  <td>GLM</td>       <th>  Df Residuals:      </th>  <td>  6357</td> \n",
       "</tr>\n",
       "<tr>\n",
       "  <th>Model Family:</th>        <td>Binomial</td>     <th>  Df Model:          </th>  <td>    14</td> \n",
       "</tr>\n",
       "<tr>\n",
       "  <th>Link Function:</th>         <td>Logit</td>      <th>  Scale:             </th> <td>  1.0000</td>\n",
       "</tr>\n",
       "<tr>\n",
       "  <th>Method:</th>                <td>IRLS</td>       <th>  Log-Likelihood:    </th> <td> -2585.0</td>\n",
       "</tr>\n",
       "<tr>\n",
       "  <th>Date:</th>            <td>Sun, 19 Mar 2023</td> <th>  Deviance:          </th> <td>  5170.0</td>\n",
       "</tr>\n",
       "<tr>\n",
       "  <th>Time:</th>                <td>15:52:19</td>     <th>  Pearson chi2:      </th> <td>6.26e+03</td>\n",
       "</tr>\n",
       "<tr>\n",
       "  <th>No. Iterations:</th>          <td>7</td>        <th>  Pseudo R-squ. (CS):</th>  <td>0.4033</td> \n",
       "</tr>\n",
       "<tr>\n",
       "  <th>Covariance Type:</th>     <td>nonrobust</td>    <th>                     </th>     <td> </td>   \n",
       "</tr>\n",
       "</table>\n",
       "<table class=\"simpletable\">\n",
       "<tr>\n",
       "                            <td></td>                              <th>coef</th>     <th>std err</th>      <th>z</th>      <th>P>|z|</th>  <th>[0.025</th>    <th>0.975]</th>  \n",
       "</tr>\n",
       "<tr>\n",
       "  <th>const</th>                                                <td>   -1.8413</td> <td>    0.106</td> <td>  -17.300</td> <td> 0.000</td> <td>   -2.050</td> <td>   -1.633</td>\n",
       "</tr>\n",
       "<tr>\n",
       "  <th>Do Not Email</th>                                         <td>   -1.3801</td> <td>    0.171</td> <td>   -8.079</td> <td> 0.000</td> <td>   -1.715</td> <td>   -1.045</td>\n",
       "</tr>\n",
       "<tr>\n",
       "  <th>TotalVisits</th>                                          <td>    6.7471</td> <td>    2.190</td> <td>    3.081</td> <td> 0.002</td> <td>    2.454</td> <td>   11.040</td>\n",
       "</tr>\n",
       "<tr>\n",
       "  <th>Total Time Spent on Website</th>                          <td>    4.5599</td> <td>    0.167</td> <td>   27.259</td> <td> 0.000</td> <td>    4.232</td> <td>    4.888</td>\n",
       "</tr>\n",
       "<tr>\n",
       "  <th>Lead Origin_Landing Page Submission</th>                  <td>   -0.2882</td> <td>    0.089</td> <td>   -3.227</td> <td> 0.001</td> <td>   -0.463</td> <td>   -0.113</td>\n",
       "</tr>\n",
       "<tr>\n",
       "  <th>Lead Origin_Lead Add Form</th>                            <td>    3.6984</td> <td>    0.236</td> <td>   15.684</td> <td> 0.000</td> <td>    3.236</td> <td>    4.161</td>\n",
       "</tr>\n",
       "<tr>\n",
       "  <th>Lead Source_Olark Chat</th>                               <td>    1.0655</td> <td>    0.124</td> <td>    8.593</td> <td> 0.000</td> <td>    0.822</td> <td>    1.308</td>\n",
       "</tr>\n",
       "<tr>\n",
       "  <th>Lead Source_Welingak Website</th>                         <td>    1.7525</td> <td>    0.752</td> <td>    2.329</td> <td> 0.020</td> <td>    0.278</td> <td>    3.227</td>\n",
       "</tr>\n",
       "<tr>\n",
       "  <th>Last Activity_Others</th>                                 <td>    1.7474</td> <td>    0.449</td> <td>    3.896</td> <td> 0.000</td> <td>    0.868</td> <td>    2.627</td>\n",
       "</tr>\n",
       "<tr>\n",
       "  <th>Last Activity_SMS Sent</th>                               <td>    1.2909</td> <td>    0.076</td> <td>   16.996</td> <td> 0.000</td> <td>    1.142</td> <td>    1.440</td>\n",
       "</tr>\n",
       "<tr>\n",
       "  <th>What is your current occupation_Unknown</th>              <td>   -1.1873</td> <td>    0.088</td> <td>  -13.432</td> <td> 0.000</td> <td>   -1.361</td> <td>   -1.014</td>\n",
       "</tr>\n",
       "<tr>\n",
       "  <th>What is your current occupation_Working Professional</th> <td>    2.5187</td> <td>    0.187</td> <td>   13.496</td> <td> 0.000</td> <td>    2.153</td> <td>    2.884</td>\n",
       "</tr>\n",
       "<tr>\n",
       "  <th>Last Notable Activity_Modified</th>                       <td>   -0.8826</td> <td>    0.080</td> <td>  -11.064</td> <td> 0.000</td> <td>   -1.039</td> <td>   -0.726</td>\n",
       "</tr>\n",
       "<tr>\n",
       "  <th>Last Notable Activity_Olark Chat Conversation</th>        <td>   -1.2080</td> <td>    0.317</td> <td>   -3.813</td> <td> 0.000</td> <td>   -1.829</td> <td>   -0.587</td>\n",
       "</tr>\n",
       "<tr>\n",
       "  <th>Last Notable Activity_Unreachable</th>                    <td>    1.7859</td> <td>    0.517</td> <td>    3.455</td> <td> 0.001</td> <td>    0.773</td> <td>    2.799</td>\n",
       "</tr>\n",
       "</table>"
      ],
      "text/plain": [
       "<class 'statsmodels.iolib.summary.Summary'>\n",
       "\"\"\"\n",
       "                 Generalized Linear Model Regression Results                  \n",
       "==============================================================================\n",
       "Dep. Variable:              Converted   No. Observations:                 6372\n",
       "Model:                            GLM   Df Residuals:                     6357\n",
       "Model Family:                Binomial   Df Model:                           14\n",
       "Link Function:                  Logit   Scale:                          1.0000\n",
       "Method:                          IRLS   Log-Likelihood:                -2585.0\n",
       "Date:                Sun, 19 Mar 2023   Deviance:                       5170.0\n",
       "Time:                        15:52:19   Pearson chi2:                 6.26e+03\n",
       "No. Iterations:                     7   Pseudo R-squ. (CS):             0.4033\n",
       "Covariance Type:            nonrobust                                         \n",
       "========================================================================================================================\n",
       "                                                           coef    std err          z      P>|z|      [0.025      0.975]\n",
       "------------------------------------------------------------------------------------------------------------------------\n",
       "const                                                   -1.8413      0.106    -17.300      0.000      -2.050      -1.633\n",
       "Do Not Email                                            -1.3801      0.171     -8.079      0.000      -1.715      -1.045\n",
       "TotalVisits                                              6.7471      2.190      3.081      0.002       2.454      11.040\n",
       "Total Time Spent on Website                              4.5599      0.167     27.259      0.000       4.232       4.888\n",
       "Lead Origin_Landing Page Submission                     -0.2882      0.089     -3.227      0.001      -0.463      -0.113\n",
       "Lead Origin_Lead Add Form                                3.6984      0.236     15.684      0.000       3.236       4.161\n",
       "Lead Source_Olark Chat                                   1.0655      0.124      8.593      0.000       0.822       1.308\n",
       "Lead Source_Welingak Website                             1.7525      0.752      2.329      0.020       0.278       3.227\n",
       "Last Activity_Others                                     1.7474      0.449      3.896      0.000       0.868       2.627\n",
       "Last Activity_SMS Sent                                   1.2909      0.076     16.996      0.000       1.142       1.440\n",
       "What is your current occupation_Unknown                 -1.1873      0.088    -13.432      0.000      -1.361      -1.014\n",
       "What is your current occupation_Working Professional     2.5187      0.187     13.496      0.000       2.153       2.884\n",
       "Last Notable Activity_Modified                          -0.8826      0.080    -11.064      0.000      -1.039      -0.726\n",
       "Last Notable Activity_Olark Chat Conversation           -1.2080      0.317     -3.813      0.000      -1.829      -0.587\n",
       "Last Notable Activity_Unreachable                        1.7859      0.517      3.455      0.001       0.773       2.799\n",
       "========================================================================================================================\n",
       "\"\"\""
      ]
     },
     "execution_count": 691,
     "metadata": {},
     "output_type": "execute_result"
    }
   ],
   "source": [
    "X_train_sm = sm.add_constant(X_train)\n",
    "logm3 = sm.GLM(y_train, X_train_sm, family = sm.families.Binomial())\n",
    "res = logm3.fit()\n",
    "res.summary()"
   ]
  },
  {
   "cell_type": "code",
   "execution_count": 692,
   "metadata": {},
   "outputs": [
    {
     "data": {
      "text/html": [
       "<div>\n",
       "<style scoped>\n",
       "    .dataframe tbody tr th:only-of-type {\n",
       "        vertical-align: middle;\n",
       "    }\n",
       "\n",
       "    .dataframe tbody tr th {\n",
       "        vertical-align: top;\n",
       "    }\n",
       "\n",
       "    .dataframe thead th {\n",
       "        text-align: right;\n",
       "    }\n",
       "</style>\n",
       "<table border=\"1\" class=\"dataframe\">\n",
       "  <thead>\n",
       "    <tr style=\"text-align: right;\">\n",
       "      <th></th>\n",
       "      <th>Features</th>\n",
       "      <th>VIF</th>\n",
       "    </tr>\n",
       "  </thead>\n",
       "  <tbody>\n",
       "    <tr>\n",
       "      <th>3</th>\n",
       "      <td>Lead Origin_Landing Page Submission</td>\n",
       "      <td>2.38</td>\n",
       "    </tr>\n",
       "    <tr>\n",
       "      <th>2</th>\n",
       "      <td>Total Time Spent on Website</td>\n",
       "      <td>1.93</td>\n",
       "    </tr>\n",
       "    <tr>\n",
       "      <th>1</th>\n",
       "      <td>TotalVisits</td>\n",
       "      <td>1.58</td>\n",
       "    </tr>\n",
       "    <tr>\n",
       "      <th>11</th>\n",
       "      <td>Last Notable Activity_Modified</td>\n",
       "      <td>1.54</td>\n",
       "    </tr>\n",
       "    <tr>\n",
       "      <th>8</th>\n",
       "      <td>Last Activity_SMS Sent</td>\n",
       "      <td>1.51</td>\n",
       "    </tr>\n",
       "    <tr>\n",
       "      <th>9</th>\n",
       "      <td>What is your current occupation_Unknown</td>\n",
       "      <td>1.50</td>\n",
       "    </tr>\n",
       "    <tr>\n",
       "      <th>4</th>\n",
       "      <td>Lead Origin_Lead Add Form</td>\n",
       "      <td>1.48</td>\n",
       "    </tr>\n",
       "    <tr>\n",
       "      <th>5</th>\n",
       "      <td>Lead Source_Olark Chat</td>\n",
       "      <td>1.41</td>\n",
       "    </tr>\n",
       "    <tr>\n",
       "      <th>6</th>\n",
       "      <td>Lead Source_Welingak Website</td>\n",
       "      <td>1.32</td>\n",
       "    </tr>\n",
       "    <tr>\n",
       "      <th>10</th>\n",
       "      <td>What is your current occupation_Working Profes...</td>\n",
       "      <td>1.18</td>\n",
       "    </tr>\n",
       "    <tr>\n",
       "      <th>0</th>\n",
       "      <td>Do Not Email</td>\n",
       "      <td>1.12</td>\n",
       "    </tr>\n",
       "    <tr>\n",
       "      <th>12</th>\n",
       "      <td>Last Notable Activity_Olark Chat Conversation</td>\n",
       "      <td>1.08</td>\n",
       "    </tr>\n",
       "    <tr>\n",
       "      <th>7</th>\n",
       "      <td>Last Activity_Others</td>\n",
       "      <td>1.01</td>\n",
       "    </tr>\n",
       "    <tr>\n",
       "      <th>13</th>\n",
       "      <td>Last Notable Activity_Unreachable</td>\n",
       "      <td>1.01</td>\n",
       "    </tr>\n",
       "  </tbody>\n",
       "</table>\n",
       "</div>"
      ],
      "text/plain": [
       "                                             Features   VIF\n",
       "3                 Lead Origin_Landing Page Submission  2.38\n",
       "2                         Total Time Spent on Website  1.93\n",
       "1                                         TotalVisits  1.58\n",
       "11                     Last Notable Activity_Modified  1.54\n",
       "8                              Last Activity_SMS Sent  1.51\n",
       "9             What is your current occupation_Unknown  1.50\n",
       "4                           Lead Origin_Lead Add Form  1.48\n",
       "5                              Lead Source_Olark Chat  1.41\n",
       "6                        Lead Source_Welingak Website  1.32\n",
       "10  What is your current occupation_Working Profes...  1.18\n",
       "0                                        Do Not Email  1.12\n",
       "12      Last Notable Activity_Olark Chat Conversation  1.08\n",
       "7                                Last Activity_Others  1.01\n",
       "13                  Last Notable Activity_Unreachable  1.01"
      ]
     },
     "execution_count": 692,
     "metadata": {},
     "output_type": "execute_result"
    }
   ],
   "source": [
    "# Create a dataframe that will contain the names of all the feature variables and their respective VIFs\n",
    "vif = pd.DataFrame()\n",
    "vif['Features'] = X_train.columns\n",
    "vif['VIF'] = [variance_inflation_factor(X_train.values, i) for i in range(X_train.shape[1])]\n",
    "vif['VIF'] = round(vif['VIF'], 2)\n",
    "vif = vif.sort_values(by = \"VIF\", ascending = False)\n",
    "vif"
   ]
  },
  {
   "cell_type": "markdown",
   "metadata": {},
   "source": [
    "### Model evaluation"
   ]
  },
  {
   "cell_type": "code",
   "execution_count": 693,
   "metadata": {},
   "outputs": [
    {
     "data": {
      "text/plain": [
       "7962    0.863514\n",
       "5520    0.139438\n",
       "1962    0.223599\n",
       "1566    0.963637\n",
       "9170    0.315212\n",
       "5097    0.123125\n",
       "8954    0.513034\n",
       "309     0.188029\n",
       "5519    0.337997\n",
       "1050    0.532022\n",
       "dtype: float64"
      ]
     },
     "execution_count": 693,
     "metadata": {},
     "output_type": "execute_result"
    }
   ],
   "source": [
    "# Getting the predicted values on the train set\n",
    "y_train_pred = res.predict(X_train_sm)\n",
    "y_train_pred[:10]"
   ]
  },
  {
   "cell_type": "code",
   "execution_count": 694,
   "metadata": {},
   "outputs": [
    {
     "data": {
      "text/plain": [
       "array([0.8635137 , 0.13943841, 0.22359898, 0.96363745, 0.31521162,\n",
       "       0.12312541, 0.5130341 , 0.18802948, 0.33799677, 0.53202178])"
      ]
     },
     "execution_count": 694,
     "metadata": {},
     "output_type": "execute_result"
    }
   ],
   "source": [
    "y_train_pred = y_train_pred.values.reshape(-1)\n",
    "y_train_pred[:10]"
   ]
  },
  {
   "cell_type": "markdown",
   "metadata": {},
   "source": [
    "##### Creating a dataframe with the actual churn flag and the predicted probabilities"
   ]
  },
  {
   "cell_type": "code",
   "execution_count": 695,
   "metadata": {},
   "outputs": [
    {
     "data": {
      "text/html": [
       "<div>\n",
       "<style scoped>\n",
       "    .dataframe tbody tr th:only-of-type {\n",
       "        vertical-align: middle;\n",
       "    }\n",
       "\n",
       "    .dataframe tbody tr th {\n",
       "        vertical-align: top;\n",
       "    }\n",
       "\n",
       "    .dataframe thead th {\n",
       "        text-align: right;\n",
       "    }\n",
       "</style>\n",
       "<table border=\"1\" class=\"dataframe\">\n",
       "  <thead>\n",
       "    <tr style=\"text-align: right;\">\n",
       "      <th></th>\n",
       "      <th>Converted</th>\n",
       "      <th>Conversion_Prob</th>\n",
       "    </tr>\n",
       "  </thead>\n",
       "  <tbody>\n",
       "    <tr>\n",
       "      <th>0</th>\n",
       "      <td>0</td>\n",
       "      <td>0.863514</td>\n",
       "    </tr>\n",
       "    <tr>\n",
       "      <th>1</th>\n",
       "      <td>0</td>\n",
       "      <td>0.139438</td>\n",
       "    </tr>\n",
       "    <tr>\n",
       "      <th>2</th>\n",
       "      <td>0</td>\n",
       "      <td>0.223599</td>\n",
       "    </tr>\n",
       "    <tr>\n",
       "      <th>3</th>\n",
       "      <td>1</td>\n",
       "      <td>0.963637</td>\n",
       "    </tr>\n",
       "    <tr>\n",
       "      <th>4</th>\n",
       "      <td>0</td>\n",
       "      <td>0.315212</td>\n",
       "    </tr>\n",
       "  </tbody>\n",
       "</table>\n",
       "</div>"
      ],
      "text/plain": [
       "   Converted  Conversion_Prob\n",
       "0          0         0.863514\n",
       "1          0         0.139438\n",
       "2          0         0.223599\n",
       "3          1         0.963637\n",
       "4          0         0.315212"
      ]
     },
     "execution_count": 695,
     "metadata": {},
     "output_type": "execute_result"
    }
   ],
   "source": [
    "y_train_pred_final = pd.DataFrame({'Converted':y_train.values, 'Conversion_Prob':y_train_pred})\n",
    "\n",
    "y_train_pred_final.head()"
   ]
  },
  {
   "cell_type": "markdown",
   "metadata": {},
   "source": [
    "##### Creating new column 'predicted' with 1 if Conv_prob > 0.5 else 0"
   ]
  },
  {
   "cell_type": "code",
   "execution_count": 696,
   "metadata": {},
   "outputs": [
    {
     "data": {
      "text/html": [
       "<div>\n",
       "<style scoped>\n",
       "    .dataframe tbody tr th:only-of-type {\n",
       "        vertical-align: middle;\n",
       "    }\n",
       "\n",
       "    .dataframe tbody tr th {\n",
       "        vertical-align: top;\n",
       "    }\n",
       "\n",
       "    .dataframe thead th {\n",
       "        text-align: right;\n",
       "    }\n",
       "</style>\n",
       "<table border=\"1\" class=\"dataframe\">\n",
       "  <thead>\n",
       "    <tr style=\"text-align: right;\">\n",
       "      <th></th>\n",
       "      <th>Converted</th>\n",
       "      <th>Conversion_Prob</th>\n",
       "      <th>predicted</th>\n",
       "    </tr>\n",
       "  </thead>\n",
       "  <tbody>\n",
       "    <tr>\n",
       "      <th>0</th>\n",
       "      <td>0</td>\n",
       "      <td>0.863514</td>\n",
       "      <td>1</td>\n",
       "    </tr>\n",
       "    <tr>\n",
       "      <th>1</th>\n",
       "      <td>0</td>\n",
       "      <td>0.139438</td>\n",
       "      <td>0</td>\n",
       "    </tr>\n",
       "    <tr>\n",
       "      <th>2</th>\n",
       "      <td>0</td>\n",
       "      <td>0.223599</td>\n",
       "      <td>0</td>\n",
       "    </tr>\n",
       "    <tr>\n",
       "      <th>3</th>\n",
       "      <td>1</td>\n",
       "      <td>0.963637</td>\n",
       "      <td>1</td>\n",
       "    </tr>\n",
       "    <tr>\n",
       "      <th>4</th>\n",
       "      <td>0</td>\n",
       "      <td>0.315212</td>\n",
       "      <td>0</td>\n",
       "    </tr>\n",
       "  </tbody>\n",
       "</table>\n",
       "</div>"
      ],
      "text/plain": [
       "   Converted  Conversion_Prob  predicted\n",
       "0          0         0.863514          1\n",
       "1          0         0.139438          0\n",
       "2          0         0.223599          0\n",
       "3          1         0.963637          1\n",
       "4          0         0.315212          0"
      ]
     },
     "execution_count": 696,
     "metadata": {},
     "output_type": "execute_result"
    }
   ],
   "source": [
    "y_train_pred_final['predicted'] = y_train_pred_final.Conversion_Prob.map(lambda x: 1 if x > 0.5 else 0)\n",
    "\n",
    "# Let's see the head\n",
    "y_train_pred_final.head()"
   ]
  },
  {
   "cell_type": "code",
   "execution_count": 697,
   "metadata": {},
   "outputs": [],
   "source": [
    "from sklearn import metrics"
   ]
  },
  {
   "cell_type": "code",
   "execution_count": 698,
   "metadata": {},
   "outputs": [
    {
     "name": "stdout",
     "output_type": "stream",
     "text": [
      "[[3516  437]\n",
      " [ 738 1681]]\n"
     ]
    }
   ],
   "source": [
    "# Confusion matrix \n",
    "confusion = metrics.confusion_matrix(y_train_pred_final.Converted, y_train_pred_final.predicted )\n",
    "print(confusion)"
   ]
  },
  {
   "cell_type": "code",
   "execution_count": 699,
   "metadata": {},
   "outputs": [
    {
     "name": "stdout",
     "output_type": "stream",
     "text": [
      "0.8155994978028877\n"
     ]
    }
   ],
   "source": [
    "# Let's check the overall accuracy.\n",
    "print(metrics.accuracy_score(y_train_pred_final.Converted, y_train_pred_final.predicted))"
   ]
  },
  {
   "cell_type": "markdown",
   "metadata": {},
   "source": [
    "##### Metrics beyond simply accuracy"
   ]
  },
  {
   "cell_type": "code",
   "execution_count": 700,
   "metadata": {},
   "outputs": [],
   "source": [
    "TP = confusion[1,1] # true positive \n",
    "TN = confusion[0,0] # true negatives\n",
    "FP = confusion[0,1] # false positives\n",
    "FN = confusion[1,0] # false negatives"
   ]
  },
  {
   "cell_type": "code",
   "execution_count": 701,
   "metadata": {},
   "outputs": [
    {
     "data": {
      "text/plain": [
       "738"
      ]
     },
     "execution_count": 701,
     "metadata": {},
     "output_type": "execute_result"
    }
   ],
   "source": [
    "FN"
   ]
  },
  {
   "cell_type": "code",
   "execution_count": 702,
   "metadata": {},
   "outputs": [
    {
     "data": {
      "text/plain": [
       "0.6949152542372882"
      ]
     },
     "execution_count": 702,
     "metadata": {},
     "output_type": "execute_result"
    }
   ],
   "source": [
    "# Let's see the sensitivity of our logistic regression model\n",
    "TP / float(TP+FN)"
   ]
  },
  {
   "cell_type": "code",
   "execution_count": 703,
   "metadata": {},
   "outputs": [
    {
     "data": {
      "text/plain": [
       "0.8894510498355679"
      ]
     },
     "execution_count": 703,
     "metadata": {},
     "output_type": "execute_result"
    }
   ],
   "source": [
    "# Let us calculate specificity\n",
    "TN / float(TN+FP)"
   ]
  },
  {
   "cell_type": "markdown",
   "metadata": {
    "collapsed": true
   },
   "source": [
    "### Step 9: Plotting the ROC Curve"
   ]
  },
  {
   "cell_type": "markdown",
   "metadata": {},
   "source": [
    "An ROC curve demonstrates several things:\n",
    "\n",
    "- It shows the tradeoff between sensitivity and specificity (any increase in sensitivity will be accompanied by a decrease in specificity).\n",
    "- The closer the curve follows the left-hand border and then the top border of the ROC space, the more accurate the test.\n",
    "- The closer the curve comes to the 45-degree diagonal of the ROC space, the less accurate the test."
   ]
  },
  {
   "cell_type": "code",
   "execution_count": 704,
   "metadata": {},
   "outputs": [],
   "source": [
    "def draw_roc( actual, probs ):\n",
    "    fpr, tpr, thresholds = metrics.roc_curve( actual, probs,\n",
    "                                              drop_intermediate = False )\n",
    "    auc_score = metrics.roc_auc_score( actual, probs )\n",
    "    plt.figure(figsize=(5, 5))\n",
    "    plt.plot( fpr, tpr, label='ROC curve (area = %0.2f)' % auc_score )\n",
    "    plt.plot([0, 1], [0, 1], 'k--')\n",
    "    plt.xlim([0.0, 1.0])\n",
    "    plt.ylim([0.0, 1.05])\n",
    "    plt.xlabel('False Positive Rate or [1 - True Negative Rate]')\n",
    "    plt.ylabel('True Positive Rate')\n",
    "    plt.title('Receiver operating characteristic example')\n",
    "    plt.legend(loc=\"lower right\")\n",
    "    plt.show()\n",
    "\n",
    "    return None"
   ]
  },
  {
   "cell_type": "code",
   "execution_count": 705,
   "metadata": {},
   "outputs": [],
   "source": [
    "fpr, tpr, thresholds = metrics.roc_curve( y_train_pred_final.Converted, y_train_pred_final.Conversion_Prob, drop_intermediate = False )"
   ]
  },
  {
   "cell_type": "code",
   "execution_count": 706,
   "metadata": {},
   "outputs": [
    {
     "data": {
      "image/png": "[encoded data removed]",
      "text/plain": [
       "<Figure size 360x360 with 1 Axes>"
      ]
     },
     "metadata": {
      "needs_background": "light"
     },
     "output_type": "display_data"
    }
   ],
   "source": [
    "draw_roc(y_train_pred_final.Converted, y_train_pred_final.Conversion_Prob)"
   ]
  },
  {
   "cell_type": "code",
   "execution_count": 707,
   "metadata": {},
   "outputs": [],
   "source": [
    "## Aread under the curve is 0.89 which indeicates the model is good"
   ]
  },
  {
   "cell_type": "markdown",
   "metadata": {},
   "source": [
    "### Step 10: Finding Optimal Cutoff Point"
   ]
  },
  {
   "cell_type": "markdown",
   "metadata": {},
   "source": [
    "Optimal cutoff probability is that prob where we get balanced sensitivity and specificity. Let's also check the sensitivity and specificity tradeoff to find the optimal cutoff point."
   ]
  },
  {
   "cell_type": "code",
   "execution_count": 708,
   "metadata": {
    "scrolled": true
   },
   "outputs": [
    {
     "data": {
      "text/html": [
       "<div>\n",
       "<style scoped>\n",
       "    .dataframe tbody tr th:only-of-type {\n",
       "        vertical-align: middle;\n",
       "    }\n",
       "\n",
       "    .dataframe tbody tr th {\n",
       "        vertical-align: top;\n",
       "    }\n",
       "\n",
       "    .dataframe thead th {\n",
       "        text-align: right;\n",
       "    }\n",
       "</style>\n",
       "<table border=\"1\" class=\"dataframe\">\n",
       "  <thead>\n",
       "    <tr style=\"text-align: right;\">\n",
       "      <th></th>\n",
       "      <th>Converted</th>\n",
       "      <th>Conversion_Prob</th>\n",
       "      <th>predicted</th>\n",
       "      <th>0.0</th>\n",
       "      <th>0.1</th>\n",
       "      <th>0.2</th>\n",
       "      <th>0.3</th>\n",
       "      <th>0.4</th>\n",
       "      <th>0.5</th>\n",
       "      <th>0.6</th>\n",
       "      <th>0.7</th>\n",
       "      <th>0.8</th>\n",
       "      <th>0.9</th>\n",
       "    </tr>\n",
       "  </thead>\n",
       "  <tbody>\n",
       "    <tr>\n",
       "      <th>0</th>\n",
       "      <td>0</td>\n",
       "      <td>0.863514</td>\n",
       "      <td>1</td>\n",
       "      <td>1</td>\n",
       "      <td>1</td>\n",
       "      <td>1</td>\n",
       "      <td>1</td>\n",
       "      <td>1</td>\n",
       "      <td>1</td>\n",
       "      <td>1</td>\n",
       "      <td>1</td>\n",
       "      <td>1</td>\n",
       "      <td>0</td>\n",
       "    </tr>\n",
       "    <tr>\n",
       "      <th>1</th>\n",
       "      <td>0</td>\n",
       "      <td>0.139438</td>\n",
       "      <td>0</td>\n",
       "      <td>1</td>\n",
       "      <td>1</td>\n",
       "      <td>0</td>\n",
       "      <td>0</td>\n",
       "      <td>0</td>\n",
       "      <td>0</td>\n",
       "      <td>0</td>\n",
       "      <td>0</td>\n",
       "      <td>0</td>\n",
       "      <td>0</td>\n",
       "    </tr>\n",
       "    <tr>\n",
       "      <th>2</th>\n",
       "      <td>0</td>\n",
       "      <td>0.223599</td>\n",
       "      <td>0</td>\n",
       "      <td>1</td>\n",
       "      <td>1</td>\n",
       "      <td>1</td>\n",
       "      <td>0</td>\n",
       "      <td>0</td>\n",
       "      <td>0</td>\n",
       "      <td>0</td>\n",
       "      <td>0</td>\n",
       "      <td>0</td>\n",
       "      <td>0</td>\n",
       "    </tr>\n",
       "    <tr>\n",
       "      <th>3</th>\n",
       "      <td>1</td>\n",
       "      <td>0.963637</td>\n",
       "      <td>1</td>\n",
       "      <td>1</td>\n",
       "      <td>1</td>\n",
       "      <td>1</td>\n",
       "      <td>1</td>\n",
       "      <td>1</td>\n",
       "      <td>1</td>\n",
       "      <td>1</td>\n",
       "      <td>1</td>\n",
       "      <td>1</td>\n",
       "      <td>1</td>\n",
       "    </tr>\n",
       "    <tr>\n",
       "      <th>4</th>\n",
       "      <td>0</td>\n",
       "      <td>0.315212</td>\n",
       "      <td>0</td>\n",
       "      <td>1</td>\n",
       "      <td>1</td>\n",
       "      <td>1</td>\n",
       "      <td>1</td>\n",
       "      <td>0</td>\n",
       "      <td>0</td>\n",
       "      <td>0</td>\n",
       "      <td>0</td>\n",
       "      <td>0</td>\n",
       "      <td>0</td>\n",
       "    </tr>\n",
       "  </tbody>\n",
       "</table>\n",
       "</div>"
      ],
      "text/plain": [
       "   Converted  Conversion_Prob  predicted  0.0  0.1  0.2  0.3  0.4  0.5  0.6  \\\n",
       "0          0         0.863514          1    1    1    1    1    1    1    1   \n",
       "1          0         0.139438          0    1    1    0    0    0    0    0   \n",
       "2          0         0.223599          0    1    1    1    0    0    0    0   \n",
       "3          1         0.963637          1    1    1    1    1    1    1    1   \n",
       "4          0         0.315212          0    1    1    1    1    0    0    0   \n",
       "\n",
       "   0.7  0.8  0.9  \n",
       "0    1    1    0  \n",
       "1    0    0    0  \n",
       "2    0    0    0  \n",
       "3    1    1    1  \n",
       "4    0    0    0  "
      ]
     },
     "execution_count": 708,
     "metadata": {},
     "output_type": "execute_result"
    }
   ],
   "source": [
    "# Let's create columns with different probability cutoffs \n",
    "numbers = [float(x)/10 for x in range(10)]\n",
    "for i in numbers:\n",
    "    y_train_pred_final[i]= y_train_pred_final.Conversion_Prob.map(lambda x: 1 if x > i else 0)\n",
    "y_train_pred_final.head()"
   ]
  },
  {
   "cell_type": "code",
   "execution_count": 709,
   "metadata": {},
   "outputs": [
    {
     "name": "stdout",
     "output_type": "stream",
     "text": [
      "     prob  accuracy     sensi     speci\n",
      "0.0   0.0  0.379630  1.000000  0.000000\n",
      "0.1   0.1  0.620213  0.973129  0.404250\n",
      "0.2   0.2  0.763340  0.903266  0.677713\n",
      "0.3   0.3  0.797081  0.863580  0.756388\n",
      "0.4   0.4  0.813402  0.773047  0.838098\n",
      "0.5   0.5  0.815599  0.694915  0.889451\n",
      "0.6   0.6  0.810264  0.629186  0.921073\n",
      "0.7   0.7  0.786566  0.523357  0.947635\n",
      "0.8   0.8  0.761142  0.423729  0.967620\n",
      "0.9   0.9  0.716886  0.274907  0.987351\n"
     ]
    }
   ],
   "source": [
    "# Now let's calculate accuracy sensitivity and specificity for various probability cutoffs.\n",
    "cutoff_df = pd.DataFrame( columns = ['prob','accuracy','sensi','speci'])\n",
    "from sklearn.metrics import confusion_matrix\n",
    "\n",
    "# TP = confusion[1,1] # true positive \n",
    "# TN = confusion[0,0] # true negatives\n",
    "# FP = confusion[0,1] # false positives\n",
    "# FN = confusion[1,0] # false negatives\n",
    "\n",
    "num = [0.0,0.1,0.2,0.3,0.4,0.5,0.6,0.7,0.8,0.9]\n",
    "for i in num:\n",
    "    cm1 = metrics.confusion_matrix(y_train_pred_final.Converted, y_train_pred_final[i] )\n",
    "    total1=sum(sum(cm1))\n",
    "    accuracy = (cm1[0,0]+cm1[1,1])/total1\n",
    "    \n",
    "    speci = cm1[0,0]/(cm1[0,0]+cm1[0,1])\n",
    "    sensi = cm1[1,1]/(cm1[1,0]+cm1[1,1])\n",
    "    cutoff_df.loc[i] =[ i ,accuracy,sensi,speci]\n",
    "print(cutoff_df)"
   ]
  },
  {
   "cell_type": "code",
   "execution_count": 710,
   "metadata": {},
   "outputs": [
    {
     "data": {
      "image/png": "[encoded data removed]",
      "text/plain": [
       "<Figure size 432x288 with 1 Axes>"
      ]
     },
     "metadata": {
      "needs_background": "light"
     },
     "output_type": "display_data"
    }
   ],
   "source": [
    "# Let's plot accuracy sensitivity and specificity for various probabilities.\n",
    "cutoff_df.plot.line(x='prob', y=['accuracy','sensi','speci'])\n",
    "plt.show()"
   ]
  },
  {
   "cell_type": "markdown",
   "metadata": {},
   "source": [
    "#### From the curve above, 0.38 is the optimum point to take it as a cutoff probability."
   ]
  },
  {
   "cell_type": "code",
   "execution_count": 711,
   "metadata": {},
   "outputs": [
    {
     "data": {
      "text/html": [
       "<div>\n",
       "<style scoped>\n",
       "    .dataframe tbody tr th:only-of-type {\n",
       "        vertical-align: middle;\n",
       "    }\n",
       "\n",
       "    .dataframe tbody tr th {\n",
       "        vertical-align: top;\n",
       "    }\n",
       "\n",
       "    .dataframe thead th {\n",
       "        text-align: right;\n",
       "    }\n",
       "</style>\n",
       "<table border=\"1\" class=\"dataframe\">\n",
       "  <thead>\n",
       "    <tr style=\"text-align: right;\">\n",
       "      <th></th>\n",
       "      <th>Converted</th>\n",
       "      <th>Conversion_Prob</th>\n",
       "      <th>predicted</th>\n",
       "      <th>0.0</th>\n",
       "      <th>0.1</th>\n",
       "      <th>0.2</th>\n",
       "      <th>0.3</th>\n",
       "      <th>0.4</th>\n",
       "      <th>0.5</th>\n",
       "      <th>0.6</th>\n",
       "      <th>0.7</th>\n",
       "      <th>0.8</th>\n",
       "      <th>0.9</th>\n",
       "      <th>final_predicted</th>\n",
       "    </tr>\n",
       "  </thead>\n",
       "  <tbody>\n",
       "    <tr>\n",
       "      <th>0</th>\n",
       "      <td>0</td>\n",
       "      <td>0.863514</td>\n",
       "      <td>1</td>\n",
       "      <td>1</td>\n",
       "      <td>1</td>\n",
       "      <td>1</td>\n",
       "      <td>1</td>\n",
       "      <td>1</td>\n",
       "      <td>1</td>\n",
       "      <td>1</td>\n",
       "      <td>1</td>\n",
       "      <td>1</td>\n",
       "      <td>0</td>\n",
       "      <td>1</td>\n",
       "    </tr>\n",
       "    <tr>\n",
       "      <th>1</th>\n",
       "      <td>0</td>\n",
       "      <td>0.139438</td>\n",
       "      <td>0</td>\n",
       "      <td>1</td>\n",
       "      <td>1</td>\n",
       "      <td>0</td>\n",
       "      <td>0</td>\n",
       "      <td>0</td>\n",
       "      <td>0</td>\n",
       "      <td>0</td>\n",
       "      <td>0</td>\n",
       "      <td>0</td>\n",
       "      <td>0</td>\n",
       "      <td>0</td>\n",
       "    </tr>\n",
       "    <tr>\n",
       "      <th>2</th>\n",
       "      <td>0</td>\n",
       "      <td>0.223599</td>\n",
       "      <td>0</td>\n",
       "      <td>1</td>\n",
       "      <td>1</td>\n",
       "      <td>1</td>\n",
       "      <td>0</td>\n",
       "      <td>0</td>\n",
       "      <td>0</td>\n",
       "      <td>0</td>\n",
       "      <td>0</td>\n",
       "      <td>0</td>\n",
       "      <td>0</td>\n",
       "      <td>0</td>\n",
       "    </tr>\n",
       "    <tr>\n",
       "      <th>3</th>\n",
       "      <td>1</td>\n",
       "      <td>0.963637</td>\n",
       "      <td>1</td>\n",
       "      <td>1</td>\n",
       "      <td>1</td>\n",
       "      <td>1</td>\n",
       "      <td>1</td>\n",
       "      <td>1</td>\n",
       "      <td>1</td>\n",
       "      <td>1</td>\n",
       "      <td>1</td>\n",
       "      <td>1</td>\n",
       "      <td>1</td>\n",
       "      <td>1</td>\n",
       "    </tr>\n",
       "    <tr>\n",
       "      <th>4</th>\n",
       "      <td>0</td>\n",
       "      <td>0.315212</td>\n",
       "      <td>0</td>\n",
       "      <td>1</td>\n",
       "      <td>1</td>\n",
       "      <td>1</td>\n",
       "      <td>1</td>\n",
       "      <td>0</td>\n",
       "      <td>0</td>\n",
       "      <td>0</td>\n",
       "      <td>0</td>\n",
       "      <td>0</td>\n",
       "      <td>0</td>\n",
       "      <td>0</td>\n",
       "    </tr>\n",
       "  </tbody>\n",
       "</table>\n",
       "</div>"
      ],
      "text/plain": [
       "   Converted  Conversion_Prob  predicted  0.0  0.1  0.2  0.3  0.4  0.5  0.6  \\\n",
       "0          0         0.863514          1    1    1    1    1    1    1    1   \n",
       "1          0         0.139438          0    1    1    0    0    0    0    0   \n",
       "2          0         0.223599          0    1    1    1    0    0    0    0   \n",
       "3          1         0.963637          1    1    1    1    1    1    1    1   \n",
       "4          0         0.315212          0    1    1    1    1    0    0    0   \n",
       "\n",
       "   0.7  0.8  0.9  final_predicted  \n",
       "0    1    1    0                1  \n",
       "1    0    0    0                0  \n",
       "2    0    0    0                0  \n",
       "3    1    1    1                1  \n",
       "4    0    0    0                0  "
      ]
     },
     "execution_count": 711,
     "metadata": {},
     "output_type": "execute_result"
    }
   ],
   "source": [
    "y_train_pred_final['final_predicted'] = y_train_pred_final.Conversion_Prob.map( lambda x: 1 if x > 0.38 else 0)\n",
    "\n",
    "y_train_pred_final.head()"
   ]
  },
  {
   "cell_type": "code",
   "execution_count": 712,
   "metadata": {},
   "outputs": [
    {
     "name": "stdout",
     "output_type": "stream",
     "text": [
      "0.8110483364720653\n"
     ]
    }
   ],
   "source": [
    "# Let's check the overall accuracy.\n",
    "print(metrics.accuracy_score(y_train_pred_final.Converted, y_train_pred_final.final_predicted))"
   ]
  },
  {
   "cell_type": "code",
   "execution_count": 713,
   "metadata": {},
   "outputs": [
    {
     "data": {
      "text/plain": [
       "array([[3268,  685],\n",
       "       [ 519, 1900]], dtype=int64)"
      ]
     },
     "execution_count": 713,
     "metadata": {},
     "output_type": "execute_result"
    }
   ],
   "source": [
    "confusion2 = metrics.confusion_matrix(y_train_pred_final.Converted, y_train_pred_final.final_predicted )\n",
    "confusion2"
   ]
  },
  {
   "cell_type": "code",
   "execution_count": 714,
   "metadata": {},
   "outputs": [],
   "source": [
    "TP = confusion2[1,1] # true positive \n",
    "TN = confusion2[0,0] # true negatives\n",
    "FP = confusion2[0,1] # false positives\n",
    "FN = confusion2[1,0] # false negatives"
   ]
  },
  {
   "cell_type": "code",
   "execution_count": 715,
   "metadata": {},
   "outputs": [
    {
     "data": {
      "text/plain": [
       "0.7854485324514262"
      ]
     },
     "execution_count": 715,
     "metadata": {},
     "output_type": "execute_result"
    }
   ],
   "source": [
    "# Let's see the sensitivity of our logistic regression model\n",
    "TP / float(TP+FN)"
   ]
  },
  {
   "cell_type": "code",
   "execution_count": 716,
   "metadata": {},
   "outputs": [],
   "source": [
    "## While accuracy remains same, sensitivity has improved with the cutoff at 0.38"
   ]
  },
  {
   "cell_type": "markdown",
   "metadata": {},
   "source": [
    " "
   ]
  },
  {
   "cell_type": "markdown",
   "metadata": {},
   "source": [
    "## Precision and Recall"
   ]
  },
  {
   "cell_type": "code",
   "execution_count": 717,
   "metadata": {},
   "outputs": [],
   "source": [
    "#Looking at the confusion matrix again"
   ]
  },
  {
   "cell_type": "code",
   "execution_count": 718,
   "metadata": {},
   "outputs": [
    {
     "data": {
      "text/plain": [
       "array([[3268,  685],\n",
       "       [ 519, 1900]], dtype=int64)"
      ]
     },
     "execution_count": 718,
     "metadata": {},
     "output_type": "execute_result"
    }
   ],
   "source": [
    "confusion = metrics.confusion_matrix(y_train_pred_final.Converted, y_train_pred_final.final_predicted )\n",
    "confusion"
   ]
  },
  {
   "cell_type": "markdown",
   "metadata": {},
   "source": [
    "##### Precision\n",
    "TP / TP + FP"
   ]
  },
  {
   "cell_type": "code",
   "execution_count": 719,
   "metadata": {},
   "outputs": [
    {
     "data": {
      "text/plain": [
       "0.7350096711798839"
      ]
     },
     "execution_count": 719,
     "metadata": {},
     "output_type": "execute_result"
    }
   ],
   "source": [
    "confusion[1,1]/(confusion[0,1]+confusion[1,1])"
   ]
  },
  {
   "cell_type": "markdown",
   "metadata": {},
   "source": [
    "##### Recall\n",
    "TP / TP + FN"
   ]
  },
  {
   "cell_type": "code",
   "execution_count": 720,
   "metadata": {},
   "outputs": [
    {
     "data": {
      "text/plain": [
       "0.7854485324514262"
      ]
     },
     "execution_count": 720,
     "metadata": {},
     "output_type": "execute_result"
    }
   ],
   "source": [
    "confusion[1,1]/(confusion[1,0]+confusion[1,1])"
   ]
  },
  {
   "cell_type": "markdown",
   "metadata": {},
   "source": [
    "Using sklearn utilities for the same"
   ]
  },
  {
   "cell_type": "code",
   "execution_count": 721,
   "metadata": {},
   "outputs": [],
   "source": [
    "from sklearn.metrics import precision_score, recall_score"
   ]
  },
  {
   "cell_type": "code",
   "execution_count": 723,
   "metadata": {},
   "outputs": [
    {
     "data": {
      "text/plain": [
       "0.7350096711798839"
      ]
     },
     "execution_count": 723,
     "metadata": {},
     "output_type": "execute_result"
    }
   ],
   "source": [
    "precision_score(y_train_pred_final.Converted, y_train_pred_final.final_predicted)"
   ]
  },
  {
   "cell_type": "code",
   "execution_count": 724,
   "metadata": {},
   "outputs": [
    {
     "data": {
      "text/plain": [
       "0.7854485324514262"
      ]
     },
     "execution_count": 724,
     "metadata": {},
     "output_type": "execute_result"
    }
   ],
   "source": [
    "recall_score(y_train_pred_final.Converted, y_train_pred_final.final_predicted)"
   ]
  },
  {
   "cell_type": "markdown",
   "metadata": {},
   "source": [
    "### Precision and recall tradeoff"
   ]
  },
  {
   "cell_type": "code",
   "execution_count": 725,
   "metadata": {},
   "outputs": [],
   "source": [
    "from sklearn.metrics import precision_recall_curve"
   ]
  },
  {
   "cell_type": "code",
   "execution_count": 726,
   "metadata": {},
   "outputs": [
    {
     "data": {
      "text/plain": [
       "(0       0\n",
       " 1       0\n",
       " 2       0\n",
       " 3       1\n",
       " 4       0\n",
       "        ..\n",
       " 6367    0\n",
       " 6368    1\n",
       " 6369    1\n",
       " 6370    1\n",
       " 6371    0\n",
       " Name: Converted, Length: 6372, dtype: int64,\n",
       " 0       1\n",
       " 1       0\n",
       " 2       0\n",
       " 3       1\n",
       " 4       0\n",
       "        ..\n",
       " 6367    0\n",
       " 6368    1\n",
       " 6369    1\n",
       " 6370    1\n",
       " 6371    0\n",
       " Name: predicted, Length: 6372, dtype: int64)"
      ]
     },
     "execution_count": 726,
     "metadata": {},
     "output_type": "execute_result"
    }
   ],
   "source": [
    "y_train_pred_final.Converted, y_train_pred_final.predicted"
   ]
  },
  {
   "cell_type": "code",
   "execution_count": 727,
   "metadata": {},
   "outputs": [],
   "source": [
    "p, r, thresholds = precision_recall_curve(y_train_pred_final.Converted, y_train_pred_final.Conversion_Prob)"
   ]
  },
  {
   "cell_type": "code",
   "execution_count": 728,
   "metadata": {
    "scrolled": true
   },
   "outputs": [
    {
     "data": {
      "image/png": "[encoded data removed]",
      "text/plain": [
       "<Figure size 432x288 with 1 Axes>"
      ]
     },
     "metadata": {
      "needs_background": "light"
     },
     "output_type": "display_data"
    }
   ],
   "source": [
    "plt.plot(thresholds, p[:-1], \"g-\")\n",
    "plt.plot(thresholds, r[:-1], \"r-\")\n",
    "plt.show()"
   ]
  },
  {
   "cell_type": "code",
   "execution_count": 729,
   "metadata": {},
   "outputs": [],
   "source": [
    "## Cutoff of 0.38 seems to be fine for the optimum precision-recall value"
   ]
  },
  {
   "cell_type": "markdown",
   "metadata": {},
   "source": [
    "### Step 11: Making predictions on the test set"
   ]
  },
  {
   "cell_type": "code",
   "execution_count": 730,
   "metadata": {},
   "outputs": [],
   "source": [
    "X_test[['TotalVisits', 'Page Views Per Visit', 'Total Time Spent on Website']] = scaler.transform(X_test[['TotalVisits', 'Page Views Per Visit', 'Total Time Spent on Website']])"
   ]
  },
  {
   "cell_type": "code",
   "execution_count": 731,
   "metadata": {},
   "outputs": [
    {
     "name": "stdout",
     "output_type": "stream",
     "text": [
      "<class 'pandas.core.frame.DataFrame'>\n",
      "Int64Index: 2731 entries, 3504 to 5826\n",
      "Data columns (total 15 columns):\n",
      " #   Column                                                Non-Null Count  Dtype  \n",
      "---  ------                                                --------------  -----  \n",
      " 0   Do Not Email                                          2731 non-null   int64  \n",
      " 1   TotalVisits                                           2731 non-null   float64\n",
      " 2   Total Time Spent on Website                           2731 non-null   float64\n",
      " 3   Lead Origin_Landing Page Submission                   2731 non-null   uint8  \n",
      " 4   Lead Origin_Lead Add Form                             2731 non-null   uint8  \n",
      " 5   Lead Source_Olark Chat                                2731 non-null   uint8  \n",
      " 6   Lead Source_Welingak Website                          2731 non-null   uint8  \n",
      " 7   Last Activity_Others                                  2731 non-null   uint8  \n",
      " 8   Last Activity_SMS Sent                                2731 non-null   uint8  \n",
      " 9   What is your current occupation_Housewife             2731 non-null   uint8  \n",
      " 10  What is your current occupation_Unknown               2731 non-null   uint8  \n",
      " 11  What is your current occupation_Working Professional  2731 non-null   uint8  \n",
      " 12  Last Notable Activity_Modified                        2731 non-null   uint8  \n",
      " 13  Last Notable Activity_Olark Chat Conversation         2731 non-null   uint8  \n",
      " 14  Last Notable Activity_Unreachable                     2731 non-null   uint8  \n",
      "dtypes: float64(2), int64(1), uint8(12)\n",
      "memory usage: 117.3 KB\n"
     ]
    }
   ],
   "source": [
    "X_test = X_test[col]\n",
    "X_test.info()"
   ]
  },
  {
   "cell_type": "code",
   "execution_count": 732,
   "metadata": {},
   "outputs": [],
   "source": [
    "X_test.drop(['What is your current occupation_Housewife'], 1, inplace = True)"
   ]
  },
  {
   "cell_type": "code",
   "execution_count": 733,
   "metadata": {},
   "outputs": [],
   "source": [
    "X_test_sm = sm.add_constant(X_test)"
   ]
  },
  {
   "cell_type": "markdown",
   "metadata": {},
   "source": [
    "Making predictions on the test set"
   ]
  },
  {
   "cell_type": "code",
   "execution_count": 734,
   "metadata": {},
   "outputs": [],
   "source": [
    "y_test_pred = res.predict(X_test_sm)"
   ]
  },
  {
   "cell_type": "code",
   "execution_count": 735,
   "metadata": {},
   "outputs": [
    {
     "data": {
      "text/plain": [
       "3504    0.233121\n",
       "4050    0.958829\n",
       "7201    0.326525\n",
       "1196    0.237594\n",
       "8219    0.191315\n",
       "8747    0.123125\n",
       "9048    0.311801\n",
       "6524    0.068478\n",
       "7693    0.133835\n",
       "8187    0.958829\n",
       "dtype: float64"
      ]
     },
     "execution_count": 735,
     "metadata": {},
     "output_type": "execute_result"
    }
   ],
   "source": [
    "y_test_pred[:10]"
   ]
  },
  {
   "cell_type": "code",
   "execution_count": 736,
   "metadata": {},
   "outputs": [],
   "source": [
    "# Converting y_pred to a dataframe which is an array\n",
    "y_pred_1 = pd.DataFrame(y_test_pred)"
   ]
  },
  {
   "cell_type": "code",
   "execution_count": 737,
   "metadata": {},
   "outputs": [
    {
     "data": {
      "text/html": [
       "<div>\n",
       "<style scoped>\n",
       "    .dataframe tbody tr th:only-of-type {\n",
       "        vertical-align: middle;\n",
       "    }\n",
       "\n",
       "    .dataframe tbody tr th {\n",
       "        vertical-align: top;\n",
       "    }\n",
       "\n",
       "    .dataframe thead th {\n",
       "        text-align: right;\n",
       "    }\n",
       "</style>\n",
       "<table border=\"1\" class=\"dataframe\">\n",
       "  <thead>\n",
       "    <tr style=\"text-align: right;\">\n",
       "      <th></th>\n",
       "      <th>0</th>\n",
       "    </tr>\n",
       "  </thead>\n",
       "  <tbody>\n",
       "    <tr>\n",
       "      <th>3504</th>\n",
       "      <td>0.233121</td>\n",
       "    </tr>\n",
       "    <tr>\n",
       "      <th>4050</th>\n",
       "      <td>0.958829</td>\n",
       "    </tr>\n",
       "    <tr>\n",
       "      <th>7201</th>\n",
       "      <td>0.326525</td>\n",
       "    </tr>\n",
       "    <tr>\n",
       "      <th>1196</th>\n",
       "      <td>0.237594</td>\n",
       "    </tr>\n",
       "    <tr>\n",
       "      <th>8219</th>\n",
       "      <td>0.191315</td>\n",
       "    </tr>\n",
       "  </tbody>\n",
       "</table>\n",
       "</div>"
      ],
      "text/plain": [
       "             0\n",
       "3504  0.233121\n",
       "4050  0.958829\n",
       "7201  0.326525\n",
       "1196  0.237594\n",
       "8219  0.191315"
      ]
     },
     "execution_count": 737,
     "metadata": {},
     "output_type": "execute_result"
    }
   ],
   "source": [
    "# Let's see the head\n",
    "y_pred_1.head()"
   ]
  },
  {
   "cell_type": "code",
   "execution_count": 738,
   "metadata": {},
   "outputs": [],
   "source": [
    "# Converting y_test to dataframe\n",
    "y_test_df = pd.DataFrame(y_test)"
   ]
  },
  {
   "cell_type": "code",
   "execution_count": 739,
   "metadata": {},
   "outputs": [],
   "source": [
    "# Removing index for both dataframes to append them side by side \n",
    "y_pred_1.reset_index(drop=True, inplace=True)\n",
    "y_test_df.reset_index(drop=True, inplace=True)"
   ]
  },
  {
   "cell_type": "code",
   "execution_count": 740,
   "metadata": {},
   "outputs": [],
   "source": [
    "# Appending y_test_df and y_pred_1\n",
    "y_pred_final = pd.concat([y_test_df, y_pred_1],axis=1)"
   ]
  },
  {
   "cell_type": "code",
   "execution_count": 741,
   "metadata": {},
   "outputs": [
    {
     "data": {
      "text/html": [
       "<div>\n",
       "<style scoped>\n",
       "    .dataframe tbody tr th:only-of-type {\n",
       "        vertical-align: middle;\n",
       "    }\n",
       "\n",
       "    .dataframe tbody tr th {\n",
       "        vertical-align: top;\n",
       "    }\n",
       "\n",
       "    .dataframe thead th {\n",
       "        text-align: right;\n",
       "    }\n",
       "</style>\n",
       "<table border=\"1\" class=\"dataframe\">\n",
       "  <thead>\n",
       "    <tr style=\"text-align: right;\">\n",
       "      <th></th>\n",
       "      <th>Converted</th>\n",
       "      <th>0</th>\n",
       "    </tr>\n",
       "  </thead>\n",
       "  <tbody>\n",
       "    <tr>\n",
       "      <th>0</th>\n",
       "      <td>0</td>\n",
       "      <td>0.233121</td>\n",
       "    </tr>\n",
       "    <tr>\n",
       "      <th>1</th>\n",
       "      <td>1</td>\n",
       "      <td>0.958829</td>\n",
       "    </tr>\n",
       "    <tr>\n",
       "      <th>2</th>\n",
       "      <td>0</td>\n",
       "      <td>0.326525</td>\n",
       "    </tr>\n",
       "    <tr>\n",
       "      <th>3</th>\n",
       "      <td>0</td>\n",
       "      <td>0.237594</td>\n",
       "    </tr>\n",
       "    <tr>\n",
       "      <th>4</th>\n",
       "      <td>1</td>\n",
       "      <td>0.191315</td>\n",
       "    </tr>\n",
       "  </tbody>\n",
       "</table>\n",
       "</div>"
      ],
      "text/plain": [
       "   Converted         0\n",
       "0          0  0.233121\n",
       "1          1  0.958829\n",
       "2          0  0.326525\n",
       "3          0  0.237594\n",
       "4          1  0.191315"
      ]
     },
     "execution_count": 741,
     "metadata": {},
     "output_type": "execute_result"
    }
   ],
   "source": [
    "y_pred_final.head()"
   ]
  },
  {
   "cell_type": "code",
   "execution_count": 742,
   "metadata": {},
   "outputs": [],
   "source": [
    "# Renaming the column \n",
    "y_pred_final= y_pred_final.rename(columns={ 0 : 'Conversion_Prob'})"
   ]
  },
  {
   "cell_type": "code",
   "execution_count": 743,
   "metadata": {},
   "outputs": [
    {
     "data": {
      "text/html": [
       "<div>\n",
       "<style scoped>\n",
       "    .dataframe tbody tr th:only-of-type {\n",
       "        vertical-align: middle;\n",
       "    }\n",
       "\n",
       "    .dataframe tbody tr th {\n",
       "        vertical-align: top;\n",
       "    }\n",
       "\n",
       "    .dataframe thead th {\n",
       "        text-align: right;\n",
       "    }\n",
       "</style>\n",
       "<table border=\"1\" class=\"dataframe\">\n",
       "  <thead>\n",
       "    <tr style=\"text-align: right;\">\n",
       "      <th></th>\n",
       "      <th>Converted</th>\n",
       "      <th>Conversion_Prob</th>\n",
       "    </tr>\n",
       "  </thead>\n",
       "  <tbody>\n",
       "    <tr>\n",
       "      <th>0</th>\n",
       "      <td>0</td>\n",
       "      <td>0.233121</td>\n",
       "    </tr>\n",
       "    <tr>\n",
       "      <th>1</th>\n",
       "      <td>1</td>\n",
       "      <td>0.958829</td>\n",
       "    </tr>\n",
       "    <tr>\n",
       "      <th>2</th>\n",
       "      <td>0</td>\n",
       "      <td>0.326525</td>\n",
       "    </tr>\n",
       "    <tr>\n",
       "      <th>3</th>\n",
       "      <td>0</td>\n",
       "      <td>0.237594</td>\n",
       "    </tr>\n",
       "    <tr>\n",
       "      <th>4</th>\n",
       "      <td>1</td>\n",
       "      <td>0.191315</td>\n",
       "    </tr>\n",
       "  </tbody>\n",
       "</table>\n",
       "</div>"
      ],
      "text/plain": [
       "   Converted  Conversion_Prob\n",
       "0          0         0.233121\n",
       "1          1         0.958829\n",
       "2          0         0.326525\n",
       "3          0         0.237594\n",
       "4          1         0.191315"
      ]
     },
     "execution_count": 743,
     "metadata": {},
     "output_type": "execute_result"
    }
   ],
   "source": [
    "# Let's see the head of y_pred_final\n",
    "y_pred_final.head()"
   ]
  },
  {
   "cell_type": "code",
   "execution_count": 744,
   "metadata": {},
   "outputs": [],
   "source": [
    "y_pred_final['final_predicted'] = y_pred_final.Conversion_Prob.map(lambda x: 1 if x > 0.38 else 0)"
   ]
  },
  {
   "cell_type": "code",
   "execution_count": 745,
   "metadata": {},
   "outputs": [
    {
     "data": {
      "text/html": [
       "<div>\n",
       "<style scoped>\n",
       "    .dataframe tbody tr th:only-of-type {\n",
       "        vertical-align: middle;\n",
       "    }\n",
       "\n",
       "    .dataframe tbody tr th {\n",
       "        vertical-align: top;\n",
       "    }\n",
       "\n",
       "    .dataframe thead th {\n",
       "        text-align: right;\n",
       "    }\n",
       "</style>\n",
       "<table border=\"1\" class=\"dataframe\">\n",
       "  <thead>\n",
       "    <tr style=\"text-align: right;\">\n",
       "      <th></th>\n",
       "      <th>Converted</th>\n",
       "      <th>Conversion_Prob</th>\n",
       "      <th>final_predicted</th>\n",
       "    </tr>\n",
       "  </thead>\n",
       "  <tbody>\n",
       "    <tr>\n",
       "      <th>0</th>\n",
       "      <td>0</td>\n",
       "      <td>0.233121</td>\n",
       "      <td>0</td>\n",
       "    </tr>\n",
       "    <tr>\n",
       "      <th>1</th>\n",
       "      <td>1</td>\n",
       "      <td>0.958829</td>\n",
       "      <td>1</td>\n",
       "    </tr>\n",
       "    <tr>\n",
       "      <th>2</th>\n",
       "      <td>0</td>\n",
       "      <td>0.326525</td>\n",
       "      <td>0</td>\n",
       "    </tr>\n",
       "    <tr>\n",
       "      <th>3</th>\n",
       "      <td>0</td>\n",
       "      <td>0.237594</td>\n",
       "      <td>0</td>\n",
       "    </tr>\n",
       "    <tr>\n",
       "      <th>4</th>\n",
       "      <td>1</td>\n",
       "      <td>0.191315</td>\n",
       "      <td>0</td>\n",
       "    </tr>\n",
       "  </tbody>\n",
       "</table>\n",
       "</div>"
      ],
      "text/plain": [
       "   Converted  Conversion_Prob  final_predicted\n",
       "0          0         0.233121                0\n",
       "1          1         0.958829                1\n",
       "2          0         0.326525                0\n",
       "3          0         0.237594                0\n",
       "4          1         0.191315                0"
      ]
     },
     "execution_count": 745,
     "metadata": {},
     "output_type": "execute_result"
    }
   ],
   "source": [
    "y_pred_final.head()"
   ]
  },
  {
   "cell_type": "code",
   "execution_count": 746,
   "metadata": {
    "scrolled": true
   },
   "outputs": [
    {
     "data": {
      "text/plain": [
       "0.8143537165873307"
      ]
     },
     "execution_count": 746,
     "metadata": {},
     "output_type": "execute_result"
    }
   ],
   "source": [
    "# Let's check the overall accuracy.\n",
    "metrics.accuracy_score(y_pred_final.Converted, y_pred_final.final_predicted)"
   ]
  },
  {
   "cell_type": "code",
   "execution_count": 747,
   "metadata": {
    "scrolled": true
   },
   "outputs": [
    {
     "data": {
      "text/plain": [
       "array([[1403,  286],\n",
       "       [ 221,  821]], dtype=int64)"
      ]
     },
     "execution_count": 747,
     "metadata": {},
     "output_type": "execute_result"
    }
   ],
   "source": [
    "confusion2 = metrics.confusion_matrix(y_pred_final.Converted, y_pred_final.final_predicted )\n",
    "confusion2"
   ]
  },
  {
   "cell_type": "code",
   "execution_count": 748,
   "metadata": {},
   "outputs": [],
   "source": [
    "TP = confusion2[1,1] # true positive \n",
    "TN = confusion2[0,0] # true negatives\n",
    "FP = confusion2[0,1] # false positives\n",
    "FN = confusion2[1,0] # false negatives"
   ]
  },
  {
   "cell_type": "code",
   "execution_count": 749,
   "metadata": {},
   "outputs": [
    {
     "data": {
      "text/plain": [
       "0.7879078694817658"
      ]
     },
     "execution_count": 749,
     "metadata": {},
     "output_type": "execute_result"
    }
   ],
   "source": [
    "# Let's see the sensitivity/Recall of our logistic regression model\n",
    "TP / float(TP+FN)"
   ]
  },
  {
   "cell_type": "code",
   "execution_count": 750,
   "metadata": {},
   "outputs": [
    {
     "data": {
      "text/plain": [
       "0.7416440831074977"
      ]
     },
     "execution_count": 750,
     "metadata": {},
     "output_type": "execute_result"
    }
   ],
   "source": [
    "# Calculate Precision\n",
    "\n",
    "TP/(TP+FP)"
   ]
  },
  {
   "cell_type": "markdown",
   "metadata": {},
   "source": [
    "#### Lead score on the test data\n",
    "#### Multiply the probality by 100 to get a lead score between 1 - 100"
   ]
  },
  {
   "cell_type": "code",
   "execution_count": 751,
   "metadata": {},
   "outputs": [],
   "source": [
    "y_pred_final['Lead Score'] = (y_pred_final.Conversion_Prob*100).astype(int)"
   ]
  },
  {
   "cell_type": "code",
   "execution_count": 752,
   "metadata": {},
   "outputs": [
    {
     "data": {
      "text/html": [
       "<div>\n",
       "<style scoped>\n",
       "    .dataframe tbody tr th:only-of-type {\n",
       "        vertical-align: middle;\n",
       "    }\n",
       "\n",
       "    .dataframe tbody tr th {\n",
       "        vertical-align: top;\n",
       "    }\n",
       "\n",
       "    .dataframe thead th {\n",
       "        text-align: right;\n",
       "    }\n",
       "</style>\n",
       "<table border=\"1\" class=\"dataframe\">\n",
       "  <thead>\n",
       "    <tr style=\"text-align: right;\">\n",
       "      <th></th>\n",
       "      <th>Converted</th>\n",
       "      <th>Conversion_Prob</th>\n",
       "      <th>final_predicted</th>\n",
       "      <th>Lead Score</th>\n",
       "    </tr>\n",
       "  </thead>\n",
       "  <tbody>\n",
       "    <tr>\n",
       "      <th>0</th>\n",
       "      <td>0</td>\n",
       "      <td>0.233121</td>\n",
       "      <td>0</td>\n",
       "      <td>23</td>\n",
       "    </tr>\n",
       "    <tr>\n",
       "      <th>1</th>\n",
       "      <td>1</td>\n",
       "      <td>0.958829</td>\n",
       "      <td>1</td>\n",
       "      <td>95</td>\n",
       "    </tr>\n",
       "    <tr>\n",
       "      <th>2</th>\n",
       "      <td>0</td>\n",
       "      <td>0.326525</td>\n",
       "      <td>0</td>\n",
       "      <td>32</td>\n",
       "    </tr>\n",
       "    <tr>\n",
       "      <th>3</th>\n",
       "      <td>0</td>\n",
       "      <td>0.237594</td>\n",
       "      <td>0</td>\n",
       "      <td>23</td>\n",
       "    </tr>\n",
       "    <tr>\n",
       "      <th>4</th>\n",
       "      <td>1</td>\n",
       "      <td>0.191315</td>\n",
       "      <td>0</td>\n",
       "      <td>19</td>\n",
       "    </tr>\n",
       "    <tr>\n",
       "      <th>5</th>\n",
       "      <td>0</td>\n",
       "      <td>0.123125</td>\n",
       "      <td>0</td>\n",
       "      <td>12</td>\n",
       "    </tr>\n",
       "    <tr>\n",
       "      <th>6</th>\n",
       "      <td>1</td>\n",
       "      <td>0.311801</td>\n",
       "      <td>0</td>\n",
       "      <td>31</td>\n",
       "    </tr>\n",
       "    <tr>\n",
       "      <th>7</th>\n",
       "      <td>0</td>\n",
       "      <td>0.068478</td>\n",
       "      <td>0</td>\n",
       "      <td>6</td>\n",
       "    </tr>\n",
       "    <tr>\n",
       "      <th>8</th>\n",
       "      <td>0</td>\n",
       "      <td>0.133835</td>\n",
       "      <td>0</td>\n",
       "      <td>13</td>\n",
       "    </tr>\n",
       "    <tr>\n",
       "      <th>9</th>\n",
       "      <td>0</td>\n",
       "      <td>0.958829</td>\n",
       "      <td>1</td>\n",
       "      <td>95</td>\n",
       "    </tr>\n",
       "  </tbody>\n",
       "</table>\n",
       "</div>"
      ],
      "text/plain": [
       "   Converted  Conversion_Prob  final_predicted  Lead Score\n",
       "0          0         0.233121                0          23\n",
       "1          1         0.958829                1          95\n",
       "2          0         0.326525                0          32\n",
       "3          0         0.237594                0          23\n",
       "4          1         0.191315                0          19\n",
       "5          0         0.123125                0          12\n",
       "6          1         0.311801                0          31\n",
       "7          0         0.068478                0           6\n",
       "8          0         0.133835                0          13\n",
       "9          0         0.958829                1          95"
      ]
     },
     "execution_count": 752,
     "metadata": {},
     "output_type": "execute_result"
    }
   ],
   "source": [
    "y_pred_final.head(10)"
   ]
  },
  {
   "cell_type": "code",
   "execution_count": null,
   "metadata": {},
   "outputs": [],
   "source": []
  }
 ],
 "metadata": {
  "kernelspec": {
   "display_name": "Python 3 (ipykernel)",
   "language": "python",
   "name": "python3"
  },
  "language_info": {
   "codemirror_mode": {
    "name": "ipython",
    "version": 3
   },
   "file_extension": ".py",
   "mimetype": "text/x-python",
   "name": "python",
   "nbconvert_exporter": "python",
   "pygments_lexer": "ipython3",
   "version": "3.9.12"
  }
 },
 "nbformat": 4,
 "nbformat_minor": 2
}
